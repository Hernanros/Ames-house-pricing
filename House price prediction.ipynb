{
  "nbformat": 4,
  "nbformat_minor": 0,
  "metadata": {
    "colab": {
      "name": "Untitled14.ipynb",
      "provenance": [],
      "authorship_tag": "ABX9TyMj4b+v+i2dBLTeJeBaKqad",
      "include_colab_link": true
    },
    "kernelspec": {
      "name": "python3",
      "display_name": "Python 3"
    }
  },
  "cells": [
    {
      "cell_type": "markdown",
      "metadata": {
        "id": "view-in-github",
        "colab_type": "text"
      },
      "source": [
        "<a href=\"https://colab.research.google.com/github/Hernanros/Ames-house-pricing/blob/master/House%20price%20prediction.ipynb\" target=\"_parent\"><img src=\"https://colab.research.google.com/assets/colab-badge.svg\" alt=\"Open In Colab\"/></a>"
      ]
    },
    {
      "cell_type": "code",
      "metadata": {
        "id": "R3gFptOS4f91",
        "colab_type": "code",
        "colab": {
          "base_uri": "https://localhost:8080/",
          "height": 33
        },
        "outputId": "604af9f9-8439-48fc-da71-eb3d9971e104"
      },
      "source": [
        "! git clone https://github.com/Hernanros/work_portfolio"
      ],
      "execution_count": 1,
      "outputs": [
        {
          "output_type": "stream",
          "text": [
            "fatal: destination path 'work_portfolio' already exists and is not an empty directory.\n"
          ],
          "name": "stdout"
        }
      ]
    },
    {
      "cell_type": "code",
      "metadata": {
        "id": "_ejlTbTN4j8f",
        "colab_type": "code",
        "colab": {
          "base_uri": "https://localhost:8080/",
          "height": 33
        },
        "outputId": "b3768335-ce6b-4af2-8d62-eede4b79f79b"
      },
      "source": [
        "cd /content/work_portfolio/Predicting house prices"
      ],
      "execution_count": 2,
      "outputs": [
        {
          "output_type": "stream",
          "text": [
            "/content/work_portfolio/Predicting house prices\n"
          ],
          "name": "stdout"
        }
      ]
    },
    {
      "cell_type": "code",
      "metadata": {
        "id": "AZGXI6VR4wC2",
        "colab_type": "code",
        "colab": {}
      },
      "source": [
        "import warnings\n",
        "warnings.filterwarnings('ignore')\n",
        "\n",
        "import xgboost as xgb\n",
        "import lightgbm as lgb\n",
        "import pandas as pd\n",
        "import numpy as np\n",
        "from scipy import stats\n",
        "from scipy.special import boxcox1p\n",
        "from scipy.stats import boxcox_normmax\n",
        "import math\n",
        "import matplotlib.pyplot as plt\n",
        "import seaborn as sns\n",
        "import statsmodels.api as sm\n",
        "\n",
        "from sklearn import linear_model \n",
        "from sklearn import preprocessing\n",
        "from sklearn.preprocessing import RobustScaler\n",
        "from sklearn.model_selection import train_test_split, KFold, cross_val_score,GridSearchCV\n",
        "from sklearn.pipeline import make_pipeline\n",
        "from sklearn.linear_model import ElasticNet, Lasso,  BayesianRidge, LassoLarsIC,Ridge\n",
        "from sklearn import tree\n",
        "from sklearn.base import BaseEstimator, TransformerMixin, RegressorMixin, clone\n",
        "from sklearn.kernel_ridge import KernelRidge\n",
        "from sklearn.ensemble import RandomForestRegressor,GradientBoostingRegressor\n",
        "from mlxtend.regressor import StackingCVRegressor\n",
        "from sklearn.metrics import mean_squared_error\n",
        "import xgboost as xgb\n",
        "import lightgbm as lgb"
      ],
      "execution_count": 0,
      "outputs": []
    },
    {
      "cell_type": "markdown",
      "metadata": {
        "id": "7txQAlPc42ge",
        "colab_type": "text"
      },
      "source": [
        "## Helper Functions"
      ]
    },
    {
      "cell_type": "code",
      "metadata": {
        "id": "AiYZV02X40_h",
        "colab_type": "code",
        "colab": {}
      },
      "source": [
        "def ecdf(data):\n",
        "    \"\"\"Compute ECDF for a one-dimensional array of measurements.\"\"\"\n",
        "    n = len(data)\n",
        "    x = np.sort(data)\n",
        "    y = np.arange(1, n+1) / n\n",
        "    return x, y\n",
        "\n",
        "def plot_ecdf(x,y,xname):\n",
        "    plt.plot(x,y,marker='.',linestyle='none')\n",
        "    plt.xlabel(xname)\n",
        "    plt.ylabel('Culmanative Probability')\n",
        "    plt.show()\n",
        "    \n",
        "def compare_normality(var):\n",
        "    np.random.seed(seed=42)\n",
        "    x_norm,y_norm=ecdf(np.random.normal(loc=np.mean(var),scale=np.std(var),size=len(var)))\n",
        "    x_var,y_var=ecdf(var)\n",
        "    plt.plot(x_norm,y_norm,marker='.',linestyle='none',color='black')\n",
        "    plt.plot(x_var,y_var,marker='.',linestyle='none',color='red')\n",
        "    plt.xlabel('random distribution vs.'+ str(var.name) )\n",
        "    plt.ylabel('Culmanative Probability')\n",
        "    plt.legend({'norm':x_norm, 'price':str(var.name) })\n",
        "    plt.show()\n",
        "    \n",
        "def plot_correlation_map( df ):\n",
        "    corr = df.corr()\n",
        "    _ , ax = plt.subplots( figsize =( 12 , 10 ) )\n",
        "    cmap = sns.diverging_palette( 220 , 10 , as_cmap = True )\n",
        "    _ = sns.heatmap(\n",
        "        corr, \n",
        "        cmap = cmap,\n",
        "        square=True, \n",
        "        cbar_kws={ 'shrink' : .9 }, \n",
        "        ax=ax, \n",
        "        annot = True, \n",
        "        annot_kws = { 'fontsize' : 12 }\n",
        "    )\n",
        "\n",
        "#A function to calculate Root Mean Squared Logarithmic Error (RMSLE)\n",
        "def rmsle(y, y_pred):\n",
        "    return np.sqrt(mean_squared_error(y, y_pred))\n",
        "\n",
        "\n",
        "def cv_rmsle(model):\n",
        "    rmsle = np.sqrt(np.log(-cross_val_score(model, X, y,\n",
        "                                           scoring = 'neg_mean_squared_error',\n",
        "                                           cv=kfolds)))\n",
        "    return(rmsle)\n",
        "    \n",
        "def rmsle_cv(model):\n",
        "    kf = KFold(n_folds, shuffle=True, random_state=42).get_n_splits(train.values)\n",
        "    rmse= np.sqrt(-cross_val_score(model, train.values, y, scoring=\"neg_mean_squared_error\", cv = kf))\n",
        "    return(rmse)\n",
        "    \n",
        "\n",
        "class AveragingModels(BaseEstimator, RegressorMixin, TransformerMixin):\n",
        "    def __init__(self, models):\n",
        "        self.models = models\n",
        "        \n",
        "    # we define clones of the original models to fit the data in\n",
        "    def fit(self, X, y):\n",
        "        self.models_ = [clone(x) for x in self.models]\n",
        "        \n",
        "        # Train cloned base models\n",
        "        for model in self.models_:\n",
        "            model.fit(X, y)\n",
        "\n",
        "        return self\n",
        "    \n",
        "    #Now we do the predictions for cloned models and average them\n",
        "    def predict(self, X):\n",
        "        predictions = np.column_stack([\n",
        "            model.predict(X) for model in self.models_\n",
        "        ])\n",
        "        return np.mean(predictions, axis=1) "
      ],
      "execution_count": 0,
      "outputs": []
    },
    {
      "cell_type": "markdown",
      "metadata": {
        "id": "Qb4B4Jd54_qH",
        "colab_type": "text"
      },
      "source": [
        "# Data loading"
      ]
    },
    {
      "cell_type": "code",
      "metadata": {
        "id": "t7GJpOA84-U4",
        "colab_type": "code",
        "colab": {}
      },
      "source": [
        "test=pd.read_csv('Data/test.csv',index_col='Id')\n",
        "train=pd.read_csv('Data/train.csv',index_col='Id')\n",
        "target=train.SalePrice"
      ],
      "execution_count": 0,
      "outputs": []
    },
    {
      "cell_type": "markdown",
      "metadata": {
        "id": "wTLTbkCa5cSe",
        "colab_type": "text"
      },
      "source": [
        "# EDA"
      ]
    },
    {
      "cell_type": "markdown",
      "metadata": {
        "id": "Q8GIyrGS54ru",
        "colab_type": "text"
      },
      "source": [
        "### Understanding the depentent variable"
      ]
    },
    {
      "cell_type": "code",
      "metadata": {
        "id": "G0WmN1U65agh",
        "colab_type": "code",
        "colab": {
          "base_uri": "https://localhost:8080/",
          "height": 552
        },
        "outputId": "d095af45-10f9-440f-a928-58ab5f04d813"
      },
      "source": [
        "plt.scatter(train.GrLivArea,train.SalePrice)\n",
        "train=train[train['GrLivArea']<4500]\n",
        "plt.scatter(train.GrLivArea,train.SalePrice)\n",
        "\n",
        "plt.subplot(2,1,1)\n",
        "sns.distplot(target,fit=stats.norm)\n",
        "plt.subplot(2,1,2)\n",
        "compare_normality(target)\n",
        "\n",
        "plt.figure()\n",
        "plt.subplot(2,1,1)\n",
        "sns.distplot(np.log1p(target),fit=stats.norm)\n",
        "plt.subplot(2,1,2)\n",
        "compare_normality(np.log1p(target))\n",
        "plt.show()\n"
      ],
      "execution_count": 6,
      "outputs": [
        {
          "output_type": "display_data",
          "data": {
            "image/png": "[encoded data removed]",
            "text/plain": [
              "<Figure size 432x288 with 2 Axes>"
            ]
          },
          "metadata": {
            "tags": [],
            "needs_background": "light"
          }
        },
        {
          "output_type": "display_data",
          "data": {
            "image/png": "[encoded data removed]",
            "text/plain": [
              "<Figure size 432x288 with 2 Axes>"
            ]
          },
          "metadata": {
            "tags": [],
            "needs_background": "light"
          }
        }
      ]
    },
    {
      "cell_type": "markdown",
      "metadata": {
        "id": "kzFoquaE5pKD",
        "colab_type": "text"
      },
      "source": [
        "we can see that the sale price variable is pretty clearly taken from a log-normal distribution, so we will convert it to a logarithmic scale"
      ]
    },
    {
      "cell_type": "code",
      "metadata": {
        "id": "XXyAlcLg7Ens",
        "colab_type": "code",
        "colab": {}
      },
      "source": [
        "target=np.log1p(target)\n"
      ],
      "execution_count": 0,
      "outputs": []
    },
    {
      "cell_type": "markdown",
      "metadata": {
        "id": "iB0rc-yj58xO",
        "colab_type": "text"
      },
      "source": [
        "# Feature engeniering"
      ]
    },
    {
      "cell_type": "code",
      "metadata": {
        "id": "38xLSJ4o6SOz",
        "colab_type": "code",
        "colab": {
          "base_uri": "https://localhost:8080/",
          "height": 619
        },
        "outputId": "0ca0404b-ce98-4c99-d853-528f7753ff09"
      },
      "source": [
        "#concatanating test and train: df\n",
        "df=pd.concat([train,test], sort=False)\n",
        "\n",
        "#Imputing NA\n",
        "null_sum=df.isna().sum().sort_values(ascending=False)\n",
        "null_sum=null_sum[null_sum!=0]\n",
        "null_sum"
      ],
      "execution_count": 8,
      "outputs": [
        {
          "output_type": "execute_result",
          "data": {
            "text/plain": [
              "PoolQC          2908\n",
              "MiscFeature     2812\n",
              "Alley           2719\n",
              "Fence           2346\n",
              "SalePrice       1459\n",
              "FireplaceQu     1420\n",
              "LotFrontage      486\n",
              "GarageCond       159\n",
              "GarageYrBlt      159\n",
              "GarageQual       159\n",
              "GarageFinish     159\n",
              "GarageType       157\n",
              "BsmtCond          82\n",
              "BsmtExposure      82\n",
              "BsmtQual          81\n",
              "BsmtFinType2      80\n",
              "BsmtFinType1      79\n",
              "MasVnrType        24\n",
              "MasVnrArea        23\n",
              "MSZoning           4\n",
              "Utilities          2\n",
              "Functional         2\n",
              "BsmtFullBath       2\n",
              "BsmtHalfBath       2\n",
              "GarageCars         1\n",
              "BsmtFinSF2         1\n",
              "Exterior2nd        1\n",
              "GarageArea         1\n",
              "TotalBsmtSF        1\n",
              "BsmtUnfSF          1\n",
              "BsmtFinSF1         1\n",
              "Exterior1st        1\n",
              "KitchenQual        1\n",
              "SaleType           1\n",
              "Electrical         1\n",
              "dtype: int64"
            ]
          },
          "metadata": {
            "tags": []
          },
          "execution_count": 8
        }
      ]
    },
    {
      "cell_type": "markdown",
      "metadata": {
        "id": "Bqsiwsky6XZo",
        "colab_type": "text"
      },
      "source": [
        "### handeling garage variables: \n",
        "1. imputing variables to the 2 variables where there is a garage but rest of the variabls are NA\n",
        "2. replacing NA with 0\n"
      ]
    },
    {
      "cell_type": "code",
      "metadata": {
        "id": "eWBzts8E6_eZ",
        "colab_type": "code",
        "colab": {
          "base_uri": "https://localhost:8080/",
          "height": 137
        },
        "outputId": "48615a47-8f90-4e4b-afb0-c8b0445f54ad"
      },
      "source": [
        "df[['GarageType','GarageYrBlt','GarageFinish','GarageCond','GarageQual']][df['GarageType'].notna( ) & df['GarageQual'].isna() ]"
      ],
      "execution_count": 9,
      "outputs": [
        {
          "output_type": "execute_result",
          "data": {
            "text/html": [
              "<div>\n",
              "<style scoped>\n",
              "    .dataframe tbody tr th:only-of-type {\n",
              "        vertical-align: middle;\n",
              "    }\n",
              "\n",
              "    .dataframe tbody tr th {\n",
              "        vertical-align: top;\n",
              "    }\n",
              "\n",
              "    .dataframe thead th {\n",
              "        text-align: right;\n",
              "    }\n",
              "</style>\n",
              "<table border=\"1\" class=\"dataframe\">\n",
              "  <thead>\n",
              "    <tr style=\"text-align: right;\">\n",
              "      <th></th>\n",
              "      <th>GarageType</th>\n",
              "      <th>GarageYrBlt</th>\n",
              "      <th>GarageFinish</th>\n",
              "      <th>GarageCond</th>\n",
              "      <th>GarageQual</th>\n",
              "    </tr>\n",
              "    <tr>\n",
              "      <th>Id</th>\n",
              "      <th></th>\n",
              "      <th></th>\n",
              "      <th></th>\n",
              "      <th></th>\n",
              "      <th></th>\n",
              "    </tr>\n",
              "  </thead>\n",
              "  <tbody>\n",
              "    <tr>\n",
              "      <th>2127</th>\n",
              "      <td>Detchd</td>\n",
              "      <td>NaN</td>\n",
              "      <td>NaN</td>\n",
              "      <td>NaN</td>\n",
              "      <td>NaN</td>\n",
              "    </tr>\n",
              "    <tr>\n",
              "      <th>2577</th>\n",
              "      <td>Detchd</td>\n",
              "      <td>NaN</td>\n",
              "      <td>NaN</td>\n",
              "      <td>NaN</td>\n",
              "      <td>NaN</td>\n",
              "    </tr>\n",
              "  </tbody>\n",
              "</table>\n",
              "</div>"
            ],
            "text/plain": [
              "     GarageType  GarageYrBlt GarageFinish GarageCond GarageQual\n",
              "Id                                                             \n",
              "2127     Detchd          NaN          NaN        NaN        NaN\n",
              "2577     Detchd          NaN          NaN        NaN        NaN"
            ]
          },
          "metadata": {
            "tags": []
          },
          "execution_count": 9
        }
      ]
    },
    {
      "cell_type": "code",
      "metadata": {
        "id": "VicByOYD7NqP",
        "colab_type": "code",
        "colab": {
          "base_uri": "https://localhost:8080/",
          "height": 256
        },
        "outputId": "7af90948-85e0-4694-805b-ee00f6e115dc"
      },
      "source": [
        "df[['GarageQual','GarageFinish','GarageCond']].groupby(df['GarageType']).agg(pd.Series.mode)\n"
      ],
      "execution_count": 10,
      "outputs": [
        {
          "output_type": "execute_result",
          "data": {
            "text/html": [
              "<div>\n",
              "<style scoped>\n",
              "    .dataframe tbody tr th:only-of-type {\n",
              "        vertical-align: middle;\n",
              "    }\n",
              "\n",
              "    .dataframe tbody tr th {\n",
              "        vertical-align: top;\n",
              "    }\n",
              "\n",
              "    .dataframe thead th {\n",
              "        text-align: right;\n",
              "    }\n",
              "</style>\n",
              "<table border=\"1\" class=\"dataframe\">\n",
              "  <thead>\n",
              "    <tr style=\"text-align: right;\">\n",
              "      <th></th>\n",
              "      <th>GarageQual</th>\n",
              "      <th>GarageFinish</th>\n",
              "      <th>GarageCond</th>\n",
              "    </tr>\n",
              "    <tr>\n",
              "      <th>GarageType</th>\n",
              "      <th></th>\n",
              "      <th></th>\n",
              "      <th></th>\n",
              "    </tr>\n",
              "  </thead>\n",
              "  <tbody>\n",
              "    <tr>\n",
              "      <th>2Types</th>\n",
              "      <td>TA</td>\n",
              "      <td>Unf</td>\n",
              "      <td>TA</td>\n",
              "    </tr>\n",
              "    <tr>\n",
              "      <th>Attchd</th>\n",
              "      <td>TA</td>\n",
              "      <td>RFn</td>\n",
              "      <td>TA</td>\n",
              "    </tr>\n",
              "    <tr>\n",
              "      <th>Basment</th>\n",
              "      <td>TA</td>\n",
              "      <td>Unf</td>\n",
              "      <td>TA</td>\n",
              "    </tr>\n",
              "    <tr>\n",
              "      <th>BuiltIn</th>\n",
              "      <td>TA</td>\n",
              "      <td>Fin</td>\n",
              "      <td>TA</td>\n",
              "    </tr>\n",
              "    <tr>\n",
              "      <th>CarPort</th>\n",
              "      <td>TA</td>\n",
              "      <td>Unf</td>\n",
              "      <td>TA</td>\n",
              "    </tr>\n",
              "    <tr>\n",
              "      <th>Detchd</th>\n",
              "      <td>TA</td>\n",
              "      <td>Unf</td>\n",
              "      <td>TA</td>\n",
              "    </tr>\n",
              "  </tbody>\n",
              "</table>\n",
              "</div>"
            ],
            "text/plain": [
              "           GarageQual GarageFinish GarageCond\n",
              "GarageType                                   \n",
              "2Types             TA          Unf         TA\n",
              "Attchd             TA          RFn         TA\n",
              "Basment            TA          Unf         TA\n",
              "BuiltIn            TA          Fin         TA\n",
              "CarPort            TA          Unf         TA\n",
              "Detchd             TA          Unf         TA"
            ]
          },
          "metadata": {
            "tags": []
          },
          "execution_count": 10
        }
      ]
    },
    {
      "cell_type": "code",
      "metadata": {
        "id": "V3e4PYQn6id4",
        "colab_type": "code",
        "colab": {}
      },
      "source": [
        "df['GarageFinish'][df['GarageFinish'].isna() & df['GarageType'].notna()]='Unf' \n",
        "df['GarageCond'][df['GarageCond'].isna() & df['GarageType'].notna()]='TA' \n",
        "df['GarageQual'][df['GarageQual'].isna() & df['GarageType'].notna()]='TA' \n",
        "df['GarageYrBlt'][df['GarageYrBlt'].isna() & df['GarageType'].notna()]=df['YearRemodAdd']\n",
        "df[['GarageType','GarageYrBlt','GarageFinish','GarageCond','GarageQual']]=df[['GarageType','GarageYrBlt','GarageFinish','GarageCond','GarageQual']].fillna(0)\n"
      ],
      "execution_count": 0,
      "outputs": []
    },
    {
      "cell_type": "code",
      "metadata": {
        "id": "xNUraRFS7RIe",
        "colab_type": "code",
        "colab": {
          "base_uri": "https://localhost:8080/",
          "height": 107
        },
        "outputId": "7afb2ccb-9ef9-449d-9dfb-910bffb1ef8e"
      },
      "source": [
        "df[['GarageCond','GarageQual','GarageArea','GarageCars']][df['GarageCars'].isna()]\n"
      ],
      "execution_count": 12,
      "outputs": [
        {
          "output_type": "execute_result",
          "data": {
            "text/html": [
              "<div>\n",
              "<style scoped>\n",
              "    .dataframe tbody tr th:only-of-type {\n",
              "        vertical-align: middle;\n",
              "    }\n",
              "\n",
              "    .dataframe tbody tr th {\n",
              "        vertical-align: top;\n",
              "    }\n",
              "\n",
              "    .dataframe thead th {\n",
              "        text-align: right;\n",
              "    }\n",
              "</style>\n",
              "<table border=\"1\" class=\"dataframe\">\n",
              "  <thead>\n",
              "    <tr style=\"text-align: right;\">\n",
              "      <th></th>\n",
              "      <th>GarageCond</th>\n",
              "      <th>GarageQual</th>\n",
              "      <th>GarageArea</th>\n",
              "      <th>GarageCars</th>\n",
              "    </tr>\n",
              "    <tr>\n",
              "      <th>Id</th>\n",
              "      <th></th>\n",
              "      <th></th>\n",
              "      <th></th>\n",
              "      <th></th>\n",
              "    </tr>\n",
              "  </thead>\n",
              "  <tbody>\n",
              "    <tr>\n",
              "      <th>2577</th>\n",
              "      <td>TA</td>\n",
              "      <td>TA</td>\n",
              "      <td>NaN</td>\n",
              "      <td>NaN</td>\n",
              "    </tr>\n",
              "  </tbody>\n",
              "</table>\n",
              "</div>"
            ],
            "text/plain": [
              "     GarageCond GarageQual  GarageArea  GarageCars\n",
              "Id                                                \n",
              "2577         TA         TA         NaN         NaN"
            ]
          },
          "metadata": {
            "tags": []
          },
          "execution_count": 12
        }
      ]
    },
    {
      "cell_type": "code",
      "metadata": {
        "id": "8idBfPxp7WrL",
        "colab_type": "code",
        "colab": {
          "base_uri": "https://localhost:8080/",
          "height": 524
        },
        "outputId": "e43d37d2-3943-4a62-a33f-e18b926774db"
      },
      "source": [
        "df[['GarageCond','GarageQual','GarageArea','GarageCars']].groupby(['GarageCond','GarageQual']).mean()\n"
      ],
      "execution_count": 13,
      "outputs": [
        {
          "output_type": "execute_result",
          "data": {
            "text/html": [
              "<div>\n",
              "<style scoped>\n",
              "    .dataframe tbody tr th:only-of-type {\n",
              "        vertical-align: middle;\n",
              "    }\n",
              "\n",
              "    .dataframe tbody tr th {\n",
              "        vertical-align: top;\n",
              "    }\n",
              "\n",
              "    .dataframe thead th {\n",
              "        text-align: right;\n",
              "    }\n",
              "</style>\n",
              "<table border=\"1\" class=\"dataframe\">\n",
              "  <thead>\n",
              "    <tr style=\"text-align: right;\">\n",
              "      <th></th>\n",
              "      <th></th>\n",
              "      <th>GarageArea</th>\n",
              "      <th>GarageCars</th>\n",
              "    </tr>\n",
              "    <tr>\n",
              "      <th>GarageCond</th>\n",
              "      <th>GarageQual</th>\n",
              "      <th></th>\n",
              "      <th></th>\n",
              "    </tr>\n",
              "  </thead>\n",
              "  <tbody>\n",
              "    <tr>\n",
              "      <th>0</th>\n",
              "      <th>0</th>\n",
              "      <td>0.000000</td>\n",
              "      <td>0.000000</td>\n",
              "    </tr>\n",
              "    <tr>\n",
              "      <th rowspan=\"2\" valign=\"top\">Ex</th>\n",
              "      <th>Ex</th>\n",
              "      <td>612.000000</td>\n",
              "      <td>1.000000</td>\n",
              "    </tr>\n",
              "    <tr>\n",
              "      <th>Gd</th>\n",
              "      <td>576.000000</td>\n",
              "      <td>2.000000</td>\n",
              "    </tr>\n",
              "    <tr>\n",
              "      <th rowspan=\"3\" valign=\"top\">Fa</th>\n",
              "      <th>Fa</th>\n",
              "      <td>316.743590</td>\n",
              "      <td>1.384615</td>\n",
              "    </tr>\n",
              "    <tr>\n",
              "      <th>Po</th>\n",
              "      <td>195.000000</td>\n",
              "      <td>1.000000</td>\n",
              "    </tr>\n",
              "    <tr>\n",
              "      <th>TA</th>\n",
              "      <td>356.470588</td>\n",
              "      <td>1.411765</td>\n",
              "    </tr>\n",
              "    <tr>\n",
              "      <th rowspan=\"2\" valign=\"top\">Gd</th>\n",
              "      <th>Gd</th>\n",
              "      <td>562.500000</td>\n",
              "      <td>2.000000</td>\n",
              "    </tr>\n",
              "    <tr>\n",
              "      <th>TA</th>\n",
              "      <td>604.666667</td>\n",
              "      <td>2.000000</td>\n",
              "    </tr>\n",
              "    <tr>\n",
              "      <th rowspan=\"3\" valign=\"top\">Po</th>\n",
              "      <th>Fa</th>\n",
              "      <td>331.625000</td>\n",
              "      <td>1.500000</td>\n",
              "    </tr>\n",
              "    <tr>\n",
              "      <th>Po</th>\n",
              "      <td>301.000000</td>\n",
              "      <td>1.000000</td>\n",
              "    </tr>\n",
              "    <tr>\n",
              "      <th>TA</th>\n",
              "      <td>240.500000</td>\n",
              "      <td>1.000000</td>\n",
              "    </tr>\n",
              "    <tr>\n",
              "      <th rowspan=\"4\" valign=\"top\">TA</th>\n",
              "      <th>Ex</th>\n",
              "      <td>840.000000</td>\n",
              "      <td>3.000000</td>\n",
              "    </tr>\n",
              "    <tr>\n",
              "      <th>Fa</th>\n",
              "      <td>342.584416</td>\n",
              "      <td>1.324675</td>\n",
              "    </tr>\n",
              "    <tr>\n",
              "      <th>Gd</th>\n",
              "      <td>666.647059</td>\n",
              "      <td>1.941176</td>\n",
              "    </tr>\n",
              "    <tr>\n",
              "      <th>TA</th>\n",
              "      <td>507.963643</td>\n",
              "      <td>1.898749</td>\n",
              "    </tr>\n",
              "  </tbody>\n",
              "</table>\n",
              "</div>"
            ],
            "text/plain": [
              "                       GarageArea  GarageCars\n",
              "GarageCond GarageQual                        \n",
              "0          0             0.000000    0.000000\n",
              "Ex         Ex          612.000000    1.000000\n",
              "           Gd          576.000000    2.000000\n",
              "Fa         Fa          316.743590    1.384615\n",
              "           Po          195.000000    1.000000\n",
              "           TA          356.470588    1.411765\n",
              "Gd         Gd          562.500000    2.000000\n",
              "           TA          604.666667    2.000000\n",
              "Po         Fa          331.625000    1.500000\n",
              "           Po          301.000000    1.000000\n",
              "           TA          240.500000    1.000000\n",
              "TA         Ex          840.000000    3.000000\n",
              "           Fa          342.584416    1.324675\n",
              "           Gd          666.647059    1.941176\n",
              "           TA          507.963643    1.898749"
            ]
          },
          "metadata": {
            "tags": []
          },
          "execution_count": 13
        }
      ]
    },
    {
      "cell_type": "code",
      "metadata": {
        "id": "JCaberGJ7cdS",
        "colab_type": "code",
        "colab": {}
      },
      "source": [
        "df['GarageCars']=df['GarageCars'].fillna(2)\n",
        "df['GarageArea']=df['GarageArea'].fillna(508)\n",
        "\n",
        "df['HasGarage']=df['GarageArea'].apply(lambda x: 0 if x==0 else 1)"
      ],
      "execution_count": 0,
      "outputs": []
    },
    {
      "cell_type": "markdown",
      "metadata": {
        "id": "_1okrJkT6lBl",
        "colab_type": "text"
      },
      "source": [
        "### handeling BSMT variables\n"
      ]
    },
    {
      "cell_type": "code",
      "metadata": {
        "id": "B-8MzQD07eLE",
        "colab_type": "code",
        "colab": {
          "base_uri": "https://localhost:8080/",
          "height": 107
        },
        "outputId": "e61482b0-c15a-4a97-c1ed-7223a2680d89"
      },
      "source": [
        "df[['BsmtExposure','BsmtCond','BsmtQual','BsmtFinType2','BsmtFinType1']][df['BsmtFinType2'].isna() &df['BsmtFinType1'].notna()]\n"
      ],
      "execution_count": 15,
      "outputs": [
        {
          "output_type": "execute_result",
          "data": {
            "text/html": [
              "<div>\n",
              "<style scoped>\n",
              "    .dataframe tbody tr th:only-of-type {\n",
              "        vertical-align: middle;\n",
              "    }\n",
              "\n",
              "    .dataframe tbody tr th {\n",
              "        vertical-align: top;\n",
              "    }\n",
              "\n",
              "    .dataframe thead th {\n",
              "        text-align: right;\n",
              "    }\n",
              "</style>\n",
              "<table border=\"1\" class=\"dataframe\">\n",
              "  <thead>\n",
              "    <tr style=\"text-align: right;\">\n",
              "      <th></th>\n",
              "      <th>BsmtExposure</th>\n",
              "      <th>BsmtCond</th>\n",
              "      <th>BsmtQual</th>\n",
              "      <th>BsmtFinType2</th>\n",
              "      <th>BsmtFinType1</th>\n",
              "    </tr>\n",
              "    <tr>\n",
              "      <th>Id</th>\n",
              "      <th></th>\n",
              "      <th></th>\n",
              "      <th></th>\n",
              "      <th></th>\n",
              "      <th></th>\n",
              "    </tr>\n",
              "  </thead>\n",
              "  <tbody>\n",
              "    <tr>\n",
              "      <th>333</th>\n",
              "      <td>No</td>\n",
              "      <td>TA</td>\n",
              "      <td>Gd</td>\n",
              "      <td>NaN</td>\n",
              "      <td>GLQ</td>\n",
              "    </tr>\n",
              "  </tbody>\n",
              "</table>\n",
              "</div>"
            ],
            "text/plain": [
              "    BsmtExposure BsmtCond BsmtQual BsmtFinType2 BsmtFinType1\n",
              "Id                                                          \n",
              "333           No       TA       Gd          NaN          GLQ"
            ]
          },
          "metadata": {
            "tags": []
          },
          "execution_count": 15
        }
      ]
    },
    {
      "cell_type": "code",
      "metadata": {
        "id": "Mr13SrGd7hPR",
        "colab_type": "code",
        "colab": {
          "base_uri": "https://localhost:8080/",
          "height": 256
        },
        "outputId": "6c946726-1f91-4843-e898-58907f2dccf8"
      },
      "source": [
        "df[['BsmtExposure','BsmtCond','BsmtQual','BsmtFinType2','BsmtFinType1']].groupby('BsmtFinType1').agg(pd.Series.mode)\n"
      ],
      "execution_count": 16,
      "outputs": [
        {
          "output_type": "execute_result",
          "data": {
            "text/html": [
              "<div>\n",
              "<style scoped>\n",
              "    .dataframe tbody tr th:only-of-type {\n",
              "        vertical-align: middle;\n",
              "    }\n",
              "\n",
              "    .dataframe tbody tr th {\n",
              "        vertical-align: top;\n",
              "    }\n",
              "\n",
              "    .dataframe thead th {\n",
              "        text-align: right;\n",
              "    }\n",
              "</style>\n",
              "<table border=\"1\" class=\"dataframe\">\n",
              "  <thead>\n",
              "    <tr style=\"text-align: right;\">\n",
              "      <th></th>\n",
              "      <th>BsmtExposure</th>\n",
              "      <th>BsmtCond</th>\n",
              "      <th>BsmtQual</th>\n",
              "      <th>BsmtFinType2</th>\n",
              "    </tr>\n",
              "    <tr>\n",
              "      <th>BsmtFinType1</th>\n",
              "      <th></th>\n",
              "      <th></th>\n",
              "      <th></th>\n",
              "      <th></th>\n",
              "    </tr>\n",
              "  </thead>\n",
              "  <tbody>\n",
              "    <tr>\n",
              "      <th>ALQ</th>\n",
              "      <td>No</td>\n",
              "      <td>TA</td>\n",
              "      <td>TA</td>\n",
              "      <td>Unf</td>\n",
              "    </tr>\n",
              "    <tr>\n",
              "      <th>BLQ</th>\n",
              "      <td>No</td>\n",
              "      <td>TA</td>\n",
              "      <td>TA</td>\n",
              "      <td>Unf</td>\n",
              "    </tr>\n",
              "    <tr>\n",
              "      <th>GLQ</th>\n",
              "      <td>No</td>\n",
              "      <td>TA</td>\n",
              "      <td>Gd</td>\n",
              "      <td>Unf</td>\n",
              "    </tr>\n",
              "    <tr>\n",
              "      <th>LwQ</th>\n",
              "      <td>No</td>\n",
              "      <td>TA</td>\n",
              "      <td>TA</td>\n",
              "      <td>Unf</td>\n",
              "    </tr>\n",
              "    <tr>\n",
              "      <th>Rec</th>\n",
              "      <td>No</td>\n",
              "      <td>TA</td>\n",
              "      <td>TA</td>\n",
              "      <td>Unf</td>\n",
              "    </tr>\n",
              "    <tr>\n",
              "      <th>Unf</th>\n",
              "      <td>No</td>\n",
              "      <td>TA</td>\n",
              "      <td>TA</td>\n",
              "      <td>Unf</td>\n",
              "    </tr>\n",
              "  </tbody>\n",
              "</table>\n",
              "</div>"
            ],
            "text/plain": [
              "             BsmtExposure BsmtCond BsmtQual BsmtFinType2\n",
              "BsmtFinType1                                            \n",
              "ALQ                    No       TA       TA          Unf\n",
              "BLQ                    No       TA       TA          Unf\n",
              "GLQ                    No       TA       Gd          Unf\n",
              "LwQ                    No       TA       TA          Unf\n",
              "Rec                    No       TA       TA          Unf\n",
              "Unf                    No       TA       TA          Unf"
            ]
          },
          "metadata": {
            "tags": []
          },
          "execution_count": 16
        }
      ]
    },
    {
      "cell_type": "code",
      "metadata": {
        "id": "tov84HCN7ku7",
        "colab_type": "code",
        "colab": {}
      },
      "source": [
        "df['BsmtExposure'][df['BsmtFinType2'].isna() &df['BsmtFinType1'].notna()]=df['BsmtExposure'].fillna('No')\n",
        "df['BsmtQual'][df['BsmtFinType2'].isna() &df['BsmtFinType1'].notna()]=df['BsmtQual'].fillna('Gd')\n",
        "df['BsmtFinType2'][df['BsmtFinType2'].isna() &df['BsmtFinType1'].notna()]=df['BsmtFinType2'].fillna('Unf')"
      ],
      "execution_count": 0,
      "outputs": []
    },
    {
      "cell_type": "code",
      "metadata": {
        "id": "_fqUg-cp7mJg",
        "colab_type": "code",
        "colab": {
          "base_uri": "https://localhost:8080/",
          "height": 137
        },
        "outputId": "4b041d37-41a0-42c1-a0d7-ef58b8d85144"
      },
      "source": [
        "df[['BsmtExposure','BsmtCond','BsmtQual','BsmtFinType2','BsmtFinType1']][df['BsmtQual'].isna() &df['BsmtFinType1'].notna()]\n"
      ],
      "execution_count": 18,
      "outputs": [
        {
          "output_type": "execute_result",
          "data": {
            "text/html": [
              "<div>\n",
              "<style scoped>\n",
              "    .dataframe tbody tr th:only-of-type {\n",
              "        vertical-align: middle;\n",
              "    }\n",
              "\n",
              "    .dataframe tbody tr th {\n",
              "        vertical-align: top;\n",
              "    }\n",
              "\n",
              "    .dataframe thead th {\n",
              "        text-align: right;\n",
              "    }\n",
              "</style>\n",
              "<table border=\"1\" class=\"dataframe\">\n",
              "  <thead>\n",
              "    <tr style=\"text-align: right;\">\n",
              "      <th></th>\n",
              "      <th>BsmtExposure</th>\n",
              "      <th>BsmtCond</th>\n",
              "      <th>BsmtQual</th>\n",
              "      <th>BsmtFinType2</th>\n",
              "      <th>BsmtFinType1</th>\n",
              "    </tr>\n",
              "    <tr>\n",
              "      <th>Id</th>\n",
              "      <th></th>\n",
              "      <th></th>\n",
              "      <th></th>\n",
              "      <th></th>\n",
              "      <th></th>\n",
              "    </tr>\n",
              "  </thead>\n",
              "  <tbody>\n",
              "    <tr>\n",
              "      <th>2218</th>\n",
              "      <td>No</td>\n",
              "      <td>Fa</td>\n",
              "      <td>NaN</td>\n",
              "      <td>Unf</td>\n",
              "      <td>Unf</td>\n",
              "    </tr>\n",
              "    <tr>\n",
              "      <th>2219</th>\n",
              "      <td>No</td>\n",
              "      <td>TA</td>\n",
              "      <td>NaN</td>\n",
              "      <td>Unf</td>\n",
              "      <td>Unf</td>\n",
              "    </tr>\n",
              "  </tbody>\n",
              "</table>\n",
              "</div>"
            ],
            "text/plain": [
              "     BsmtExposure BsmtCond BsmtQual BsmtFinType2 BsmtFinType1\n",
              "Id                                                           \n",
              "2218           No       Fa      NaN          Unf          Unf\n",
              "2219           No       TA      NaN          Unf          Unf"
            ]
          },
          "metadata": {
            "tags": []
          },
          "execution_count": 18
        }
      ]
    },
    {
      "cell_type": "code",
      "metadata": {
        "id": "QCyvwEM47pdE",
        "colab_type": "code",
        "colab": {}
      },
      "source": [
        "\n",
        "df[['BsmtExposure','BsmtCond','BsmtQual','BsmtFinType2','BsmtFinType1']].groupby(['BsmtFinType1','BsmtFinType2']).agg(pd.Series.mode)\n",
        "df['BsmtQual'][df['BsmtQual'].isna() &df['BsmtFinType1'].notna()]=df['BsmtQual'].fillna('TA')\n"
      ],
      "execution_count": 0,
      "outputs": []
    },
    {
      "cell_type": "code",
      "metadata": {
        "id": "PBqHOeep7sVI",
        "colab_type": "code",
        "colab": {
          "base_uri": "https://localhost:8080/",
          "height": 166
        },
        "outputId": "d977b0f0-0368-4450-90c6-d87223687ffd"
      },
      "source": [
        "df[['BsmtExposure','BsmtCond','BsmtQual','BsmtFinType2','BsmtFinType1']][df['BsmtCond'].isna() &df['BsmtFinType1'].notna()]\n"
      ],
      "execution_count": 20,
      "outputs": [
        {
          "output_type": "execute_result",
          "data": {
            "text/html": [
              "<div>\n",
              "<style scoped>\n",
              "    .dataframe tbody tr th:only-of-type {\n",
              "        vertical-align: middle;\n",
              "    }\n",
              "\n",
              "    .dataframe tbody tr th {\n",
              "        vertical-align: top;\n",
              "    }\n",
              "\n",
              "    .dataframe thead th {\n",
              "        text-align: right;\n",
              "    }\n",
              "</style>\n",
              "<table border=\"1\" class=\"dataframe\">\n",
              "  <thead>\n",
              "    <tr style=\"text-align: right;\">\n",
              "      <th></th>\n",
              "      <th>BsmtExposure</th>\n",
              "      <th>BsmtCond</th>\n",
              "      <th>BsmtQual</th>\n",
              "      <th>BsmtFinType2</th>\n",
              "      <th>BsmtFinType1</th>\n",
              "    </tr>\n",
              "    <tr>\n",
              "      <th>Id</th>\n",
              "      <th></th>\n",
              "      <th></th>\n",
              "      <th></th>\n",
              "      <th></th>\n",
              "      <th></th>\n",
              "    </tr>\n",
              "  </thead>\n",
              "  <tbody>\n",
              "    <tr>\n",
              "      <th>2041</th>\n",
              "      <td>Mn</td>\n",
              "      <td>NaN</td>\n",
              "      <td>Gd</td>\n",
              "      <td>Rec</td>\n",
              "      <td>GLQ</td>\n",
              "    </tr>\n",
              "    <tr>\n",
              "      <th>2186</th>\n",
              "      <td>No</td>\n",
              "      <td>NaN</td>\n",
              "      <td>TA</td>\n",
              "      <td>Unf</td>\n",
              "      <td>BLQ</td>\n",
              "    </tr>\n",
              "    <tr>\n",
              "      <th>2525</th>\n",
              "      <td>Av</td>\n",
              "      <td>NaN</td>\n",
              "      <td>TA</td>\n",
              "      <td>Unf</td>\n",
              "      <td>ALQ</td>\n",
              "    </tr>\n",
              "  </tbody>\n",
              "</table>\n",
              "</div>"
            ],
            "text/plain": [
              "     BsmtExposure BsmtCond BsmtQual BsmtFinType2 BsmtFinType1\n",
              "Id                                                           \n",
              "2041           Mn      NaN       Gd          Rec          GLQ\n",
              "2186           No      NaN       TA          Unf          BLQ\n",
              "2525           Av      NaN       TA          Unf          ALQ"
            ]
          },
          "metadata": {
            "tags": []
          },
          "execution_count": 20
        }
      ]
    },
    {
      "cell_type": "code",
      "metadata": {
        "id": "XbmTnT2s7wk0",
        "colab_type": "code",
        "colab": {}
      },
      "source": [
        "df[['BsmtExposure','BsmtCond','BsmtQual','BsmtFinType2','BsmtFinType1']].groupby(['BsmtQual','BsmtFinType1']).agg(pd.Series.mode)\n",
        "df['BsmtCond']=df['BsmtCond'].fillna('TA')"
      ],
      "execution_count": 0,
      "outputs": []
    },
    {
      "cell_type": "code",
      "metadata": {
        "id": "KM4RaWMy7w3_",
        "colab_type": "code",
        "colab": {
          "base_uri": "https://localhost:8080/",
          "height": 166
        },
        "outputId": "613ce7ff-3bc1-44a4-8798-50f0a62a5202"
      },
      "source": [
        "df[['BsmtExposure','BsmtCond','BsmtQual','BsmtFinType2','BsmtFinType1']][df['BsmtExposure'].isna() &df['BsmtFinType1'].notna()]\n"
      ],
      "execution_count": 22,
      "outputs": [
        {
          "output_type": "execute_result",
          "data": {
            "text/html": [
              "<div>\n",
              "<style scoped>\n",
              "    .dataframe tbody tr th:only-of-type {\n",
              "        vertical-align: middle;\n",
              "    }\n",
              "\n",
              "    .dataframe tbody tr th {\n",
              "        vertical-align: top;\n",
              "    }\n",
              "\n",
              "    .dataframe thead th {\n",
              "        text-align: right;\n",
              "    }\n",
              "</style>\n",
              "<table border=\"1\" class=\"dataframe\">\n",
              "  <thead>\n",
              "    <tr style=\"text-align: right;\">\n",
              "      <th></th>\n",
              "      <th>BsmtExposure</th>\n",
              "      <th>BsmtCond</th>\n",
              "      <th>BsmtQual</th>\n",
              "      <th>BsmtFinType2</th>\n",
              "      <th>BsmtFinType1</th>\n",
              "    </tr>\n",
              "    <tr>\n",
              "      <th>Id</th>\n",
              "      <th></th>\n",
              "      <th></th>\n",
              "      <th></th>\n",
              "      <th></th>\n",
              "      <th></th>\n",
              "    </tr>\n",
              "  </thead>\n",
              "  <tbody>\n",
              "    <tr>\n",
              "      <th>949</th>\n",
              "      <td>NaN</td>\n",
              "      <td>TA</td>\n",
              "      <td>Gd</td>\n",
              "      <td>Unf</td>\n",
              "      <td>Unf</td>\n",
              "    </tr>\n",
              "    <tr>\n",
              "      <th>1488</th>\n",
              "      <td>NaN</td>\n",
              "      <td>TA</td>\n",
              "      <td>Gd</td>\n",
              "      <td>Unf</td>\n",
              "      <td>Unf</td>\n",
              "    </tr>\n",
              "    <tr>\n",
              "      <th>2349</th>\n",
              "      <td>NaN</td>\n",
              "      <td>TA</td>\n",
              "      <td>Gd</td>\n",
              "      <td>Unf</td>\n",
              "      <td>Unf</td>\n",
              "    </tr>\n",
              "  </tbody>\n",
              "</table>\n",
              "</div>"
            ],
            "text/plain": [
              "     BsmtExposure BsmtCond BsmtQual BsmtFinType2 BsmtFinType1\n",
              "Id                                                           \n",
              "949           NaN       TA       Gd          Unf          Unf\n",
              "1488          NaN       TA       Gd          Unf          Unf\n",
              "2349          NaN       TA       Gd          Unf          Unf"
            ]
          },
          "metadata": {
            "tags": []
          },
          "execution_count": 22
        }
      ]
    },
    {
      "cell_type": "code",
      "metadata": {
        "id": "AuG3zzoC7xFP",
        "colab_type": "code",
        "colab": {}
      },
      "source": [
        "df[['BsmtExposure','BsmtQual','BsmtFinType1']].groupby(['BsmtQual','BsmtFinType1']).agg(pd.Series.mode)\n",
        "df['BsmtExposure'][df['BsmtExposure'].isna() &df['BsmtFinType1'].notna()]=df['BsmtExposure'].fillna('No')\n"
      ],
      "execution_count": 0,
      "outputs": []
    },
    {
      "cell_type": "code",
      "metadata": {
        "id": "PiznZFcS7xPa",
        "colab_type": "code",
        "colab": {
          "base_uri": "https://localhost:8080/",
          "height": 107
        },
        "outputId": "a404e6a6-d1c7-41b6-9dde-983d6627882f"
      },
      "source": [
        "df[['TotalBsmtSF','BsmtCond','BsmtQual','BsmtFinType2','BsmtFinType1']][df['BsmtUnfSF'].isna()]\n"
      ],
      "execution_count": 24,
      "outputs": [
        {
          "output_type": "execute_result",
          "data": {
            "text/html": [
              "<div>\n",
              "<style scoped>\n",
              "    .dataframe tbody tr th:only-of-type {\n",
              "        vertical-align: middle;\n",
              "    }\n",
              "\n",
              "    .dataframe tbody tr th {\n",
              "        vertical-align: top;\n",
              "    }\n",
              "\n",
              "    .dataframe thead th {\n",
              "        text-align: right;\n",
              "    }\n",
              "</style>\n",
              "<table border=\"1\" class=\"dataframe\">\n",
              "  <thead>\n",
              "    <tr style=\"text-align: right;\">\n",
              "      <th></th>\n",
              "      <th>TotalBsmtSF</th>\n",
              "      <th>BsmtCond</th>\n",
              "      <th>BsmtQual</th>\n",
              "      <th>BsmtFinType2</th>\n",
              "      <th>BsmtFinType1</th>\n",
              "    </tr>\n",
              "    <tr>\n",
              "      <th>Id</th>\n",
              "      <th></th>\n",
              "      <th></th>\n",
              "      <th></th>\n",
              "      <th></th>\n",
              "      <th></th>\n",
              "    </tr>\n",
              "  </thead>\n",
              "  <tbody>\n",
              "    <tr>\n",
              "      <th>2121</th>\n",
              "      <td>NaN</td>\n",
              "      <td>TA</td>\n",
              "      <td>NaN</td>\n",
              "      <td>NaN</td>\n",
              "      <td>NaN</td>\n",
              "    </tr>\n",
              "  </tbody>\n",
              "</table>\n",
              "</div>"
            ],
            "text/plain": [
              "      TotalBsmtSF BsmtCond BsmtQual BsmtFinType2 BsmtFinType1\n",
              "Id                                                           \n",
              "2121          NaN       TA      NaN          NaN          NaN"
            ]
          },
          "metadata": {
            "tags": []
          },
          "execution_count": 24
        }
      ]
    },
    {
      "cell_type": "code",
      "metadata": {
        "id": "1FtRRWa27xXk",
        "colab_type": "code",
        "colab": {
          "base_uri": "https://localhost:8080/",
          "height": 137
        },
        "outputId": "5d2a0b6c-da4a-44ce-a44f-f2c46ff5ca8e"
      },
      "source": [
        "df[['TotalBsmtSF','BsmtCond','BsmtQual','BsmtFinType2','BsmtFinType1']][df['BsmtFullBath'].isna()]\n",
        "df[['TotalBsmtSF','BsmtCond','BsmtQual','BsmtFinType2','BsmtFinType1']][df['BsmtHalfBath'].isna()]"
      ],
      "execution_count": 25,
      "outputs": [
        {
          "output_type": "execute_result",
          "data": {
            "text/html": [
              "<div>\n",
              "<style scoped>\n",
              "    .dataframe tbody tr th:only-of-type {\n",
              "        vertical-align: middle;\n",
              "    }\n",
              "\n",
              "    .dataframe tbody tr th {\n",
              "        vertical-align: top;\n",
              "    }\n",
              "\n",
              "    .dataframe thead th {\n",
              "        text-align: right;\n",
              "    }\n",
              "</style>\n",
              "<table border=\"1\" class=\"dataframe\">\n",
              "  <thead>\n",
              "    <tr style=\"text-align: right;\">\n",
              "      <th></th>\n",
              "      <th>TotalBsmtSF</th>\n",
              "      <th>BsmtCond</th>\n",
              "      <th>BsmtQual</th>\n",
              "      <th>BsmtFinType2</th>\n",
              "      <th>BsmtFinType1</th>\n",
              "    </tr>\n",
              "    <tr>\n",
              "      <th>Id</th>\n",
              "      <th></th>\n",
              "      <th></th>\n",
              "      <th></th>\n",
              "      <th></th>\n",
              "      <th></th>\n",
              "    </tr>\n",
              "  </thead>\n",
              "  <tbody>\n",
              "    <tr>\n",
              "      <th>2121</th>\n",
              "      <td>NaN</td>\n",
              "      <td>TA</td>\n",
              "      <td>NaN</td>\n",
              "      <td>NaN</td>\n",
              "      <td>NaN</td>\n",
              "    </tr>\n",
              "    <tr>\n",
              "      <th>2189</th>\n",
              "      <td>0.0</td>\n",
              "      <td>TA</td>\n",
              "      <td>NaN</td>\n",
              "      <td>NaN</td>\n",
              "      <td>NaN</td>\n",
              "    </tr>\n",
              "  </tbody>\n",
              "</table>\n",
              "</div>"
            ],
            "text/plain": [
              "      TotalBsmtSF BsmtCond BsmtQual BsmtFinType2 BsmtFinType1\n",
              "Id                                                           \n",
              "2121          NaN       TA      NaN          NaN          NaN\n",
              "2189          0.0       TA      NaN          NaN          NaN"
            ]
          },
          "metadata": {
            "tags": []
          },
          "execution_count": 25
        }
      ]
    },
    {
      "cell_type": "code",
      "metadata": {
        "id": "DLa5Du7e6ohI",
        "colab_type": "code",
        "colab": {}
      },
      "source": [
        "bsmt_var=['BsmtHalfBath','TotalBsmtSF','BsmtFullBath','BsmtExposure','BsmtUnfSF','BsmtCond','BsmtQual','BsmtFinType2','BsmtFinType1','BsmtFinSF1','BsmtFinSF2']\n",
        "for var in bsmt_var:\n",
        "    df[var]=df[var].fillna(0)\n",
        "\n",
        "df['HasBsmt']=df['TotalBsmtSF'].apply(lambda x: 0 if x==0 else 1)"
      ],
      "execution_count": 0,
      "outputs": []
    },
    {
      "cell_type": "markdown",
      "metadata": {
        "id": "wFWrz3Ij6x52",
        "colab_type": "text"
      },
      "source": [
        "### Other variables"
      ]
    },
    {
      "cell_type": "code",
      "metadata": {
        "id": "oqSROHM4781P",
        "colab_type": "code",
        "colab": {
          "base_uri": "https://localhost:8080/",
          "height": 217
        },
        "outputId": "e204eccd-6d17-42ba-9047-c3b57d9d14be"
      },
      "source": [
        "df['KitchenQual'].groupby(df['OverallQual']).agg(pd.Series.mode)\n"
      ],
      "execution_count": 27,
      "outputs": [
        {
          "output_type": "execute_result",
          "data": {
            "text/plain": [
              "OverallQual\n",
              "1     Fa\n",
              "2     TA\n",
              "3     TA\n",
              "4     TA\n",
              "5     TA\n",
              "6     TA\n",
              "7     Gd\n",
              "8     Gd\n",
              "9     Ex\n",
              "10    Ex\n",
              "Name: KitchenQual, dtype: object"
            ]
          },
          "metadata": {
            "tags": []
          },
          "execution_count": 27
        }
      ]
    },
    {
      "cell_type": "code",
      "metadata": {
        "id": "QamB1Ys18A1i",
        "colab_type": "code",
        "colab": {}
      },
      "source": [
        "df['OverallQual'][df['KitchenQual'].isna()]\n",
        "df['KitchenQual']=df['KitchenQual'].fillna('TA')\n",
        "\n",
        "df.Electrical=df.Electrical.fillna(df.Electrical.value_counts()[0])\n",
        "df.Exterior1st=df.Exterior1st.fillna(df.Exterior1st.value_counts()[0])\n",
        "df.Exterior2nd=df.Exterior2nd.fillna(df.Exterior2nd.value_counts()[0])\n",
        "df.SaleType=df.SaleType.fillna(df.SaleType.value_counts()[0])\n",
        "df.Utilities=df.Utilities.fillna(df.Utilities.value_counts()[0])\n",
        "df.Functional=df.Functional.fillna(df.Functional.value_counts()[0])"
      ],
      "execution_count": 0,
      "outputs": []
    },
    {
      "cell_type": "code",
      "metadata": {
        "id": "anSp2U0z8DYG",
        "colab_type": "code",
        "colab": {
          "base_uri": "https://localhost:8080/",
          "height": 822
        },
        "outputId": "a856ff16-cb33-416e-cdf2-6d2a81283f38"
      },
      "source": [
        "df[['Neighborhood','MSZoning']].groupby('Neighborhood').agg(pd.Series.mode)\n"
      ],
      "execution_count": 29,
      "outputs": [
        {
          "output_type": "execute_result",
          "data": {
            "text/html": [
              "<div>\n",
              "<style scoped>\n",
              "    .dataframe tbody tr th:only-of-type {\n",
              "        vertical-align: middle;\n",
              "    }\n",
              "\n",
              "    .dataframe tbody tr th {\n",
              "        vertical-align: top;\n",
              "    }\n",
              "\n",
              "    .dataframe thead th {\n",
              "        text-align: right;\n",
              "    }\n",
              "</style>\n",
              "<table border=\"1\" class=\"dataframe\">\n",
              "  <thead>\n",
              "    <tr style=\"text-align: right;\">\n",
              "      <th></th>\n",
              "      <th>MSZoning</th>\n",
              "    </tr>\n",
              "    <tr>\n",
              "      <th>Neighborhood</th>\n",
              "      <th></th>\n",
              "    </tr>\n",
              "  </thead>\n",
              "  <tbody>\n",
              "    <tr>\n",
              "      <th>Blmngtn</th>\n",
              "      <td>RL</td>\n",
              "    </tr>\n",
              "    <tr>\n",
              "      <th>Blueste</th>\n",
              "      <td>RM</td>\n",
              "    </tr>\n",
              "    <tr>\n",
              "      <th>BrDale</th>\n",
              "      <td>RM</td>\n",
              "    </tr>\n",
              "    <tr>\n",
              "      <th>BrkSide</th>\n",
              "      <td>RM</td>\n",
              "    </tr>\n",
              "    <tr>\n",
              "      <th>ClearCr</th>\n",
              "      <td>RL</td>\n",
              "    </tr>\n",
              "    <tr>\n",
              "      <th>CollgCr</th>\n",
              "      <td>RL</td>\n",
              "    </tr>\n",
              "    <tr>\n",
              "      <th>Crawfor</th>\n",
              "      <td>RL</td>\n",
              "    </tr>\n",
              "    <tr>\n",
              "      <th>Edwards</th>\n",
              "      <td>RL</td>\n",
              "    </tr>\n",
              "    <tr>\n",
              "      <th>Gilbert</th>\n",
              "      <td>RL</td>\n",
              "    </tr>\n",
              "    <tr>\n",
              "      <th>IDOTRR</th>\n",
              "      <td>RM</td>\n",
              "    </tr>\n",
              "    <tr>\n",
              "      <th>MeadowV</th>\n",
              "      <td>RM</td>\n",
              "    </tr>\n",
              "    <tr>\n",
              "      <th>Mitchel</th>\n",
              "      <td>RL</td>\n",
              "    </tr>\n",
              "    <tr>\n",
              "      <th>NAmes</th>\n",
              "      <td>RL</td>\n",
              "    </tr>\n",
              "    <tr>\n",
              "      <th>NPkVill</th>\n",
              "      <td>RL</td>\n",
              "    </tr>\n",
              "    <tr>\n",
              "      <th>NWAmes</th>\n",
              "      <td>RL</td>\n",
              "    </tr>\n",
              "    <tr>\n",
              "      <th>NoRidge</th>\n",
              "      <td>RL</td>\n",
              "    </tr>\n",
              "    <tr>\n",
              "      <th>NridgHt</th>\n",
              "      <td>RL</td>\n",
              "    </tr>\n",
              "    <tr>\n",
              "      <th>OldTown</th>\n",
              "      <td>RM</td>\n",
              "    </tr>\n",
              "    <tr>\n",
              "      <th>SWISU</th>\n",
              "      <td>RL</td>\n",
              "    </tr>\n",
              "    <tr>\n",
              "      <th>Sawyer</th>\n",
              "      <td>RL</td>\n",
              "    </tr>\n",
              "    <tr>\n",
              "      <th>SawyerW</th>\n",
              "      <td>RL</td>\n",
              "    </tr>\n",
              "    <tr>\n",
              "      <th>Somerst</th>\n",
              "      <td>FV</td>\n",
              "    </tr>\n",
              "    <tr>\n",
              "      <th>StoneBr</th>\n",
              "      <td>RL</td>\n",
              "    </tr>\n",
              "    <tr>\n",
              "      <th>Timber</th>\n",
              "      <td>RL</td>\n",
              "    </tr>\n",
              "    <tr>\n",
              "      <th>Veenker</th>\n",
              "      <td>RL</td>\n",
              "    </tr>\n",
              "  </tbody>\n",
              "</table>\n",
              "</div>"
            ],
            "text/plain": [
              "             MSZoning\n",
              "Neighborhood         \n",
              "Blmngtn            RL\n",
              "Blueste            RM\n",
              "BrDale             RM\n",
              "BrkSide            RM\n",
              "ClearCr            RL\n",
              "CollgCr            RL\n",
              "Crawfor            RL\n",
              "Edwards            RL\n",
              "Gilbert            RL\n",
              "IDOTRR             RM\n",
              "MeadowV            RM\n",
              "Mitchel            RL\n",
              "NAmes              RL\n",
              "NPkVill            RL\n",
              "NWAmes             RL\n",
              "NoRidge            RL\n",
              "NridgHt            RL\n",
              "OldTown            RM\n",
              "SWISU              RL\n",
              "Sawyer             RL\n",
              "SawyerW            RL\n",
              "Somerst            FV\n",
              "StoneBr            RL\n",
              "Timber             RL\n",
              "Veenker            RL"
            ]
          },
          "metadata": {
            "tags": []
          },
          "execution_count": 29
        }
      ]
    },
    {
      "cell_type": "code",
      "metadata": {
        "id": "uuRDhMxR8H1h",
        "colab_type": "code",
        "colab": {}
      },
      "source": [
        "df.loc[2905,'MSZoning']='RL'\n",
        "df.MSZoning=df.MSZoning.fillna('RM')"
      ],
      "execution_count": 0,
      "outputs": []
    },
    {
      "cell_type": "code",
      "metadata": {
        "id": "mlsr-KHr8QA-",
        "colab_type": "code",
        "colab": {}
      },
      "source": [
        "df['Fireplaces'][df['FireplaceQu'].isna() & df['Fireplaces']!=0]\n",
        "df['Fireplaces']=df['Fireplaces'].fillna(0)\n",
        "df['FireplaceQu']=df['FireplaceQu'].fillna(0)\n",
        "\n",
        "df['HasFireplaces']=df['Fireplaces'].apply(lambda x: 0 if x==0 else 1)\n",
        "\n",
        "df['MiscFeature']=df['MiscFeature'].fillna(0) \n",
        "df=df.rename(columns = {'MiscFeature':'HasMiscFeature'})\n",
        "df['HasMiscFeature']=df['HasMiscFeature'].apply(lambda x: 0 if x==0 else 1)\n",
        "\n",
        "df['PoolQC'][df['PoolQC'].isna() & df['PoolArea']!=0]\n",
        "df['PoolQC']=df['PoolQC'].fillna(0)\n",
        "\n",
        "df['HasPool']=df['PoolArea'].apply(lambda x: 0 if x==0 else 1)\n",
        "        \n",
        "df['Fence']=df['Fence'].fillna(0)\n",
        "df['HasFence']=df['Fence'].apply(lambda x: 0 if x==0 else 1)\n",
        "\n",
        "df['Alley']=df['Alley'].fillna(0)\n",
        "df['HasAlleyAccsess']=df['Alley'].apply(lambda x: 0 if x==0 else 1)\n",
        "        "
      ],
      "execution_count": 0,
      "outputs": []
    },
    {
      "cell_type": "code",
      "metadata": {
        "id": "bBJYxgNm5MQ2",
        "colab_type": "code",
        "colab": {}
      },
      "source": [
        "df[['LotFrontage','Neighborhood']][df.LotFrontage.isna()]\n",
        "lotneigh=df.LotFrontage.groupby(df.Neighborhood).mean()\n",
        "\n",
        "for id in df[['LotFrontage','Neighborhood']][df.LotFrontage.isna()].index:\n",
        "    neigh=df.loc[id,'Neighborhood']\n",
        "    df.loc[id,'LotFrontage']=lotneigh[neigh]"
      ],
      "execution_count": 0,
      "outputs": []
    },
    {
      "cell_type": "code",
      "metadata": {
        "id": "ZBN1ccrj8Va3",
        "colab_type": "code",
        "colab": {
          "base_uri": "https://localhost:8080/",
          "height": 217
        },
        "outputId": "00240976-b56a-4150-c298-2fed075e8bd2"
      },
      "source": [
        "df.MasVnrArea.value_counts().sort_values()\n"
      ],
      "execution_count": 33,
      "outputs": [
        {
          "output_type": "execute_result",
          "data": {
            "text/plain": [
              "217.0       1\n",
              "760.0       1\n",
              "229.0       1\n",
              "470.0       1\n",
              "348.0       1\n",
              "         ... \n",
              "216.0      12\n",
              "176.0      13\n",
              "200.0      13\n",
              "120.0      15\n",
              "0.0      1738\n",
              "Name: MasVnrArea, Length: 442, dtype: int64"
            ]
          },
          "metadata": {
            "tags": []
          },
          "execution_count": 33
        }
      ]
    },
    {
      "cell_type": "code",
      "metadata": {
        "id": "CMVdUB-r8ZYC",
        "colab_type": "code",
        "colab": {
          "base_uri": "https://localhost:8080/",
          "height": 50
        },
        "outputId": "64f9dfcb-5a25-405f-8b61-0db6c7f9e4c0"
      },
      "source": [
        "df[['MasVnrType','MasVnrArea']][df.MasVnrType.isna() & df.MasVnrArea.notna()]='BrkFace'\n",
        "df.MasVnrType=df.MasVnrType.fillna('None')\n",
        "df.MasVnrArea=df.MasVnrArea.fillna(0)\n",
        "\n",
        "null_sum=df.isna().sum().sort_values(ascending=False)\n",
        "null_sum=null_sum[null_sum!=0]\n",
        "null_sum"
      ],
      "execution_count": 35,
      "outputs": [
        {
          "output_type": "execute_result",
          "data": {
            "text/plain": [
              "SalePrice    1459\n",
              "dtype: int64"
            ]
          },
          "metadata": {
            "tags": []
          },
          "execution_count": 35
        }
      ]
    },
    {
      "cell_type": "markdown",
      "metadata": {
        "id": "j8PTWRAv66kY",
        "colab_type": "text"
      },
      "source": [
        "### Seperating Categorical features and nums\n"
      ]
    },
    {
      "cell_type": "code",
      "metadata": {
        "id": "SyfOOXVf81W5",
        "colab_type": "code",
        "colab": {}
      },
      "source": [
        "nums=df.select_dtypes(np.number)\n",
        "categories=df.select_dtypes(exclude=np.number)"
      ],
      "execution_count": 0,
      "outputs": []
    },
    {
      "cell_type": "markdown",
      "metadata": {
        "id": "wQcWjCXT84GS",
        "colab_type": "text"
      },
      "source": [
        "### Factorization"
      ]
    },
    {
      "cell_type": "code",
      "metadata": {
        "id": "KbRPOITp87pU",
        "colab_type": "code",
        "colab": {
          "base_uri": "https://localhost:8080/",
          "height": 1000
        },
        "outputId": "d11f813c-fd31-470b-8910-d70987f4c16f"
      },
      "source": [
        "nums.columns\n",
        "fake_nums=['HasFireplaces','GarageYrBlt','MSSubClass','HasMiscFeature','MoSold','YrSold', 'HasGarage', 'HasBsmt', 'HasPool', 'HasFence', 'HasAlleyAccsess']\n",
        "fakes=nums[fake_nums]\n",
        "fakes=fakes.astype('object',copy=False)\n",
        "nums=nums.drop(fake_nums,axis=1)\n",
        "categories=pd.concat([categories,fakes],axis=1)\n",
        "categories=categories.astype('category',copy=False)\n",
        "categories.info()"
      ],
      "execution_count": 37,
      "outputs": [
        {
          "output_type": "stream",
          "text": [
            "<class 'pandas.core.frame.DataFrame'>\n",
            "Int64Index: 2917 entries, 1 to 2919\n",
            "Data columns (total 53 columns):\n",
            " #   Column           Non-Null Count  Dtype   \n",
            "---  ------           --------------  -----   \n",
            " 0   MSZoning         2917 non-null   category\n",
            " 1   Street           2917 non-null   category\n",
            " 2   Alley            2917 non-null   category\n",
            " 3   LotShape         2917 non-null   category\n",
            " 4   LandContour      2917 non-null   category\n",
            " 5   Utilities        2917 non-null   category\n",
            " 6   LotConfig        2917 non-null   category\n",
            " 7   LandSlope        2917 non-null   category\n",
            " 8   Neighborhood     2917 non-null   category\n",
            " 9   Condition1       2917 non-null   category\n",
            " 10  Condition2       2917 non-null   category\n",
            " 11  BldgType         2917 non-null   category\n",
            " 12  HouseStyle       2917 non-null   category\n",
            " 13  RoofStyle        2917 non-null   category\n",
            " 14  RoofMatl         2917 non-null   category\n",
            " 15  Exterior1st      2917 non-null   category\n",
            " 16  Exterior2nd      2917 non-null   category\n",
            " 17  MasVnrType       2917 non-null   category\n",
            " 18  ExterQual        2917 non-null   category\n",
            " 19  ExterCond        2917 non-null   category\n",
            " 20  Foundation       2917 non-null   category\n",
            " 21  BsmtQual         2917 non-null   category\n",
            " 22  BsmtCond         2917 non-null   category\n",
            " 23  BsmtExposure     2917 non-null   category\n",
            " 24  BsmtFinType1     2917 non-null   category\n",
            " 25  BsmtFinType2     2917 non-null   category\n",
            " 26  Heating          2917 non-null   category\n",
            " 27  HeatingQC        2917 non-null   category\n",
            " 28  CentralAir       2917 non-null   category\n",
            " 29  Electrical       2917 non-null   category\n",
            " 30  KitchenQual      2917 non-null   category\n",
            " 31  Functional       2917 non-null   category\n",
            " 32  FireplaceQu      2917 non-null   category\n",
            " 33  GarageType       2917 non-null   category\n",
            " 34  GarageFinish     2917 non-null   category\n",
            " 35  GarageQual       2917 non-null   category\n",
            " 36  GarageCond       2917 non-null   category\n",
            " 37  PavedDrive       2917 non-null   category\n",
            " 38  PoolQC           2917 non-null   category\n",
            " 39  Fence            2917 non-null   category\n",
            " 40  SaleType         2917 non-null   category\n",
            " 41  SaleCondition    2917 non-null   category\n",
            " 42  HasFireplaces    2917 non-null   category\n",
            " 43  GarageYrBlt      2917 non-null   category\n",
            " 44  MSSubClass       2917 non-null   category\n",
            " 45  HasMiscFeature   2917 non-null   category\n",
            " 46  MoSold           2917 non-null   category\n",
            " 47  YrSold           2917 non-null   category\n",
            " 48  HasGarage        2917 non-null   category\n",
            " 49  HasBsmt          2917 non-null   category\n",
            " 50  HasPool          2917 non-null   category\n",
            " 51  HasFence         2917 non-null   category\n",
            " 52  HasAlleyAccsess  2917 non-null   category\n",
            "dtypes: category(53)\n",
            "memory usage: 272.6 KB\n"
          ],
          "name": "stdout"
        }
      ]
    },
    {
      "cell_type": "markdown",
      "metadata": {
        "id": "3YVma1rk8_b0",
        "colab_type": "text"
      },
      "source": [
        "###Getting rid of unvaried columns"
      ]
    },
    {
      "cell_type": "code",
      "metadata": {
        "id": "LOamIA5y9GKJ",
        "colab_type": "code",
        "colab": {
          "base_uri": "https://localhost:8080/",
          "height": 67
        },
        "outputId": "76181ec8-7377-41f5-e2b7-19256d4b7253"
      },
      "source": [
        "mode_freq={}\n",
        "for var in df.columns:\n",
        "    freq=df[var].value_counts()[df[var].mode()[0]]/len(df[var])\n",
        "    mode_freq[var]=freq\n",
        "freq=pd.Series(mode_freq,index=mode_freq.keys())\n",
        "unvaried=freq[freq>=0.97].drop(['HasBsmt','HasPool'])\n",
        "\n",
        "df['HasBsmt'].value_counts()"
      ],
      "execution_count": 38,
      "outputs": [
        {
          "output_type": "execute_result",
          "data": {
            "text/plain": [
              "1    2838\n",
              "0      79\n",
              "Name: HasBsmt, dtype: int64"
            ]
          },
          "metadata": {
            "tags": []
          },
          "execution_count": 38
        }
      ]
    },
    {
      "cell_type": "code",
      "metadata": {
        "id": "sqA9Idnt9HyO",
        "colab_type": "code",
        "colab": {}
      },
      "source": [
        "df=df.drop(unvaried.index,axis=1)\n"
      ],
      "execution_count": 0,
      "outputs": []
    },
    {
      "cell_type": "markdown",
      "metadata": {
        "id": "9hsaL45U9LsM",
        "colab_type": "text"
      },
      "source": [
        "###unifing repetative fetures\n"
      ]
    },
    {
      "cell_type": "code",
      "metadata": {
        "id": "DFFr-FT08vxt",
        "colab_type": "code",
        "colab": {
          "base_uri": "https://localhost:8080/",
          "height": 759
        },
        "outputId": "54a8c4ab-ab21-4ece-b6af-60d18390e7f0"
      },
      "source": [
        "\n",
        "inner=nums.corr()\n",
        "high_colinear=inner[inner>.75]\n",
        "high_colinear.replace(to_replace=1,value=np.nan,inplace=True)\n",
        "high_colinear=high_colinear.dropna(how='all',axis=1).dropna(how='all',axis=0)\n",
        "colin_pairs=[]\n",
        "for column in high_colinear.columns:\n",
        "    row=high_colinear[column].idxmax()\n",
        "    colin_pairs.append([row,column])\n",
        "\n",
        "fig, ax = plt.subplots(figsize=(6,5))\n",
        "sns.heatmap(inner, annot=True, xticklabels=inner.columns, \n",
        "            yticklabels=inner.columns, ax=ax, linewidths=.5, \n",
        "            vmin = -1, vmax=1, center=0)\n",
        "\n",
        "fig, ax = plt.subplots(figsize=(6,5))\n",
        "sns.heatmap(high_colinear, annot=True, xticklabels=high_colinear.columns, \n",
        "            yticklabels=high_colinear.columns, ax=ax, linewidths=.5, \n",
        "            vmin = -1, vmax=1, center=0)\n",
        "\n",
        "\n",
        "vars=sorted(list(df.columns))\n",
        "df['TotalSF']=df['1stFlrSF']+df['2ndFlrSF']+df['GrLivArea']+df['BsmtFinSF1'] + df['BsmtFinSF2']\n",
        "df['TotalPorchSF']=df['OpenPorchSF']+df['EnclosedPorch']+df['ScreenPorch']\n",
        "df['TotalBath']=df['BsmtFullBath']+(df['BsmtHalfBath']*.5)+df['FullBath']+(df['HalfBath']*.5)\n",
        "df=df.drop(['EnclosedPorch','ScreenPorch','OpenPorchSF'],axis=1)\n",
        "df=df.drop(['BsmtFullBath','BsmtHalfBath','FullBath','HalfBath'],axis=1)\n",
        "df=df.drop(['GarageArea','1stFlrSF'],axis=1)"
      ],
      "execution_count": 40,
      "outputs": [
        {
          "output_type": "display_data",
          "data": {
            "image/png": "[encoded data removed]",
            "text/plain": [
              "<Figure size 432x360 with 2 Axes>"
            ]
          },
          "metadata": {
            "tags": [],
            "needs_background": "light"
          }
        },
        {
          "output_type": "display_data",
          "data": {
            "image/png": "[encoded data removed]",
            "text/plain": [
              "<Figure size 432x360 with 2 Axes>"
            ]
          },
          "metadata": {
            "tags": [],
            "needs_background": "light"
          }
        }
      ]
    },
    {
      "cell_type": "markdown",
      "metadata": {
        "id": "nZXXrs6R9adg",
        "colab_type": "text"
      },
      "source": [
        "###numeric values Skewness exploration\n"
      ]
    },
    {
      "cell_type": "code",
      "metadata": {
        "id": "v4i93QwG9Qmt",
        "colab_type": "code",
        "colab": {
          "base_uri": "https://localhost:8080/",
          "height": 585
        },
        "outputId": "cf25187d-82b3-4801-d89b-8782e6edccc2"
      },
      "source": [
        "skewness=nums.skew(axis=0).sort_values(ascending=False)\n",
        "skewd_list=skewness[abs(skewness)>(0.5)].index\n",
        "skewd=nums[skewd_list]\n",
        "skewd.info()"
      ],
      "execution_count": 41,
      "outputs": [
        {
          "output_type": "stream",
          "text": [
            "<class 'pandas.core.frame.DataFrame'>\n",
            "Int64Index: 2917 entries, 1 to 2919\n",
            "Data columns (total 27 columns):\n",
            " #   Column         Non-Null Count  Dtype  \n",
            "---  ------         --------------  -----  \n",
            " 0   MiscVal        2917 non-null   int64  \n",
            " 1   PoolArea       2917 non-null   int64  \n",
            " 2   LotArea        2917 non-null   int64  \n",
            " 3   LowQualFinSF   2917 non-null   int64  \n",
            " 4   3SsnPorch      2917 non-null   int64  \n",
            " 5   KitchenAbvGr   2917 non-null   int64  \n",
            " 6   BsmtFinSF2     2917 non-null   float64\n",
            " 7   EnclosedPorch  2917 non-null   int64  \n",
            " 8   ScreenPorch    2917 non-null   int64  \n",
            " 9   BsmtHalfBath   2917 non-null   float64\n",
            " 10  MasVnrArea     2917 non-null   float64\n",
            " 11  OpenPorchSF    2917 non-null   int64  \n",
            " 12  SalePrice      1458 non-null   float64\n",
            " 13  WoodDeckSF     2917 non-null   int64  \n",
            " 14  1stFlrSF       2917 non-null   int64  \n",
            " 15  GrLivArea      2917 non-null   int64  \n",
            " 16  LotFrontage    2917 non-null   float64\n",
            " 17  BsmtFinSF1     2917 non-null   float64\n",
            " 18  BsmtUnfSF      2917 non-null   float64\n",
            " 19  2ndFlrSF       2917 non-null   int64  \n",
            " 20  TotRmsAbvGrd   2917 non-null   int64  \n",
            " 21  Fireplaces     2917 non-null   int64  \n",
            " 22  HalfBath       2917 non-null   int64  \n",
            " 23  TotalBsmtSF    2917 non-null   float64\n",
            " 24  BsmtFullBath   2917 non-null   float64\n",
            " 25  OverallCond    2917 non-null   int64  \n",
            " 26  YearBuilt      2917 non-null   int64  \n",
            "dtypes: float64(9), int64(18)\n",
            "memory usage: 718.1 KB\n"
          ],
          "name": "stdout"
        }
      ]
    },
    {
      "cell_type": "code",
      "metadata": {
        "id": "z-wLkRz29evO",
        "colab_type": "code",
        "colab": {
          "base_uri": "https://localhost:8080/",
          "height": 468
        },
        "outputId": "daaeb597-210b-40e6-b4f6-083a8eba7b29"
      },
      "source": [
        "for var in skewd.columns:\n",
        "    skewd[var]=np.log1p(skewd[var])\n",
        "    df[var]=skewd[var]\n",
        "    print(var+' transformed')        \n",
        "log_skewness=skewd.skew(axis=0).sort_values(ascending=False)\n"
      ],
      "execution_count": 42,
      "outputs": [
        {
          "output_type": "stream",
          "text": [
            "MiscVal transformed\n",
            "PoolArea transformed\n",
            "LotArea transformed\n",
            "LowQualFinSF transformed\n",
            "3SsnPorch transformed\n",
            "KitchenAbvGr transformed\n",
            "BsmtFinSF2 transformed\n",
            "EnclosedPorch transformed\n",
            "ScreenPorch transformed\n",
            "BsmtHalfBath transformed\n",
            "MasVnrArea transformed\n",
            "OpenPorchSF transformed\n",
            "SalePrice transformed\n",
            "WoodDeckSF transformed\n",
            "1stFlrSF transformed\n",
            "GrLivArea transformed\n",
            "LotFrontage transformed\n",
            "BsmtFinSF1 transformed\n",
            "BsmtUnfSF transformed\n",
            "2ndFlrSF transformed\n",
            "TotRmsAbvGrd transformed\n",
            "Fireplaces transformed\n",
            "HalfBath transformed\n",
            "TotalBsmtSF transformed\n",
            "BsmtFullBath transformed\n",
            "OverallCond transformed\n",
            "YearBuilt transformed\n"
          ],
          "name": "stdout"
        }
      ]
    },
    {
      "cell_type": "code",
      "metadata": {
        "id": "qf_sxTUw9iQv",
        "colab_type": "code",
        "colab": {}
      },
      "source": [
        "#Getting rid of unvaried columns\n",
        "mode_freq={}\n",
        "for var in df.columns:\n",
        "    freq=df[var].value_counts()[df[var].mode()[0]]/len(df[var])\n",
        "    mode_freq[var]=freq\n",
        "freq=pd.Series(mode_freq,index=mode_freq.keys())\n",
        "unvaried=freq[freq>=0.97].drop(['HasBsmt','HasPool'])\n",
        "\n",
        "df=df.drop(unvaried.index,axis=1)\n",
        "\n",
        "#creating dummies\n",
        "categories1=df.select_dtypes(exclude=np.number)\n",
        "nums1=df.select_dtypes(np.number)\n",
        "for var in list(categories1.columns):\n",
        "    df[var]=df[var].astype('category',copy=False)\n",
        "df[categories1.columns].dtypes\n",
        "df1=pd.get_dummies(df)\n",
        "\n",
        "train=df1.loc[:len(target),:]\n",
        "test=df1.loc[len(target)+1:,:]"
      ],
      "execution_count": 0,
      "outputs": []
    },
    {
      "cell_type": "markdown",
      "metadata": {
        "id": "xaglIWO9-Oqt",
        "colab_type": "text"
      },
      "source": [
        "# Outliers detection\n",
        "\n",
        "OLS stands for ordinary least squares. it analyzes the array and returns an outliers detection\n",
        "ols = sm.OLS(endog = y, exog = X)\n",
        "fit=ols.fit()\n",
        "\n",
        "There are several outlier test that are part o statmodels.OLS.outlier_test(), bonf(p) is the default.\n",
        "it anyalizes the probability of each indice in the array to not be an outlier, and returns the p-values\n",
        "we are going stamp out each data point that it's probability of NOT being an outlier is smaller than alpha (0.01)\n"
      ]
    },
    {
      "cell_type": "code",
      "metadata": {
        "id": "G279_2lF-Tk8",
        "colab_type": "code",
        "colab": {}
      },
      "source": [
        "ols = sm.OLS(endog = y, exog = X)\n",
        "fit=ols.fit()\n",
        "OE= fit.outlier_test()['bonf(p)']\n",
        "liers_alpha=0.001\n",
        "liers=OE[OE<liers_alpha]\n",
        "drop_them=list(liers.index)\n",
        "drop_them\n",
        "train=train.drop(drop_them,axis=0)\n",
        "y=y.drop(drop_them,axis=0)\n"
      ],
      "execution_count": 0,
      "outputs": []
    },
    {
      "cell_type": "markdown",
      "metadata": {
        "id": "-stb_doj9reC",
        "colab_type": "text"
      },
      "source": [
        "# Regression Models"
      ]
    },
    {
      "cell_type": "code",
      "metadata": {
        "id": "0r8kiAwq9lsN",
        "colab_type": "code",
        "colab": {
          "base_uri": "https://localhost:8080/",
          "height": 1000
        },
        "outputId": "2e0adfb0-9cb6-471b-a484-5609f2a9ace2"
      },
      "source": [
        "X=train.drop('SalePrice',axis=1)\n",
        "y=train.SalePrice\n",
        "\n",
        "X_train, X_test, y_train,y_test=train_test_split(X,y,test_size=0.3, random_state=42)\n",
        "\n",
        "\n",
        "kfolds = KFold(n_splits=10, shuffle=True, random_state=23)\n",
        "lm=linear_model.LinearRegression()\n",
        "scaler=preprocessing.RobustScaler()\n",
        "ridge=linear_model.Ridge(alpha=6.099999999999998)\n",
        "lasso=linear_model.Lasso(alpha=0.00032, max_iter=10e5)\n",
        "net=linear_model.ElasticNetCV()\n",
        "GBoost = GradientBoostingRegressor(n_estimators=3000, learning_rate=0.05,\n",
        "                                   max_depth=4, max_features='sqrt',\n",
        "                                   min_samples_leaf=15, min_samples_split=10, \n",
        "                                   loss='huber', random_state =5)\n",
        "\n",
        "\n",
        "r_alphas ={'alpha': [.0001, .0003, .0005, .0007, .0009, \n",
        "          .01, 0.05, 0.1, 0.3, 1, 3, 5, 10, 15, 20, 30, 50, 60, 70, 80]}\n",
        "r_alphas2={'alpha': np.arange(3, 10, 0.5)}\n",
        "r_alphas3={'alpha': np.arange(5.5, 6.5, 0.1)}\n",
        "ridge_CV=GridSearchCV(ridge,r_alphas3 ,cv=10)\n",
        "ridge_CV=ridge_CV.fit(X_train,y_train)\n",
        "ridge_pred=ridge_CV.predict(X_test)\n",
        "print('Ridge Regression score: '+str(ridge_CV.score(X_test,y_test)))\n",
        "print('RIgge Regression root mean square error: '+str(rmsle(y_test,ridge_pred)))\n",
        "\n",
        "l_alphas={'alpha':[0.000001,0.000001,0.00001,0.0001,0.001,0.01,0.1,1]}\n",
        "l_alphas1={'alpha':np.arange(0.0003,0.0004,0.00001)}\n",
        "lasso_CV=GridSearchCV(lasso,l_alphas1 ,cv=10)\n",
        "lasso_CV=lasso_CV.fit(X_train,y_train)\n",
        "lasso_pred=lasso_CV.predict(X_test)\n",
        "print('Lasso Regression score: '+str(lasso_CV.score(X_test,y_test)))\n",
        "print('Lasso Regression root mean square error: '+str(rmsle(y_test,lasso_pred)))\n",
        "\n",
        "\n",
        "net_ratio=[0.8, 0.85, 0.9, 0.95, 0.99, 1]\n",
        "net_alphas=[0.0001, 0.0002, 0.0003, 0.0004, 0.0005, 0.0006, 0.0007]\n",
        "net=linear_model.ElasticNetCV(l1_ratio=net_ratio,alphas=net_alphas ,cv=10)\n",
        "net=net.fit(X_train,y_train)\n",
        "net_pred=net.predict(X_test)\n",
        "print('Elastic net score: '+str(net.score(X_test,y_test)))\n",
        "print('Elastic net root mean square error: '+str(rmsle(y_test,net_pred)))\n",
        "\n",
        "lasso_pred=pd.Series(lasso_pred)\n",
        "net_pred=pd.Series(net_pred)\n",
        "ridge_pred=pd.Series(ridge_pred)\n",
        "X2=[ridge_pred,lasso_pred,net_pred] \n",
        "X2=pd.concat([ridge_pred,lasso_pred,net_pred],axis=1)\n",
        "X2=X2.rename(columns={0:'lasso_pred',1:'net_pred',2:'ridge_pred'})\n",
        "\n",
        "\n",
        "GBoost=GBoost.fit(X_train,y_train)\n",
        "print('GBoost root mean square error: '+str(GBoost.score(X_test,y_test)))\n",
        "gboost_pred=GBoost.predict(X_test)\n",
        "print('GBoost root mean square error: '+str(rmsle(y_test,gboost_pred)))\n",
        "\n",
        "averaged_models = AveragingModels(models = (net, ridge_CV, lasso_CV,GBoost))\n",
        "averaged_models.fit(X_train,y_train)\n",
        "ave_pred=averaged_models.predict(X_test)\n",
        "print('Model averages score: '+str(averaged_models.score(X_test,y_test)))\n",
        "print('Model averages error: '+str(rmsle(y_test,ave_pred)))\n",
        "meta_ave=ridge_pred*0.25+lasso_pred*.25+net_pred*.25+gboost_pred*.25\n",
        "rmsle(y_test,meta_ave)\n",
        "\n",
        "xgbreg=xgb.XGBRegressor(learning_rate =0.01, n_estimators=3460, max_depth=3,\n",
        "                     min_child_weight=0 ,gamma=0, subsample=0.7,\n",
        "                     colsample_bytree=0.7,objective= 'reg:linear',\n",
        "                     nthread=4,scale_pos_weight=1,seed=42, reg_alpha=0.00006)\n",
        "\n",
        "xgbreg=xgb.XGBRegressor(objective= 'reg:linear',seed=42)\n",
        "grid_params={\n",
        "        'learning_rate':[0.01,0.05,0.1,0.3],\n",
        "        'n_estimators':np.arange(1000,6000,1000),\n",
        "        'max_depth':[4,5,6],\n",
        "        'reg_alpha':[0,0.000001,0.00001,0.0001,.001,.01]}\n",
        "grid_search=GridSearchCV(cv=4,estimator=xgbreg,param_grid=grid_params,scoring='neg_mean_squared_error')\n",
        "grid_search.fit(X_train,y_train)\n",
        "print('best parms: '+grid_search.best_params_)\n",
        "print('best score: '+grid_search.best_score_)\n",
        "xgbreg=xgb.XGBRegressor(objective= 'reg:linear',seed=42)\n",
        "xgbreg=xgbreg.fit(X_train,y_train)\n",
        "xgbreg_pred=xgbreg.predict(X_test)\n",
        "print('xgbreg score: '+str(xgbreg.score(X_test,y_test)))\n",
        "print('xbgreg root mean square error ' +str(rmsle(y_test,xgbreg_pred)))"
      ],
      "execution_count": 0,
      "outputs": [
        {
          "output_type": "stream",
          "text": [
            "Ridge Regression score: 0.9311520209824096\n",
            "RIgge Regression root mean square error: 0.1050041487731915\n",
            "Lasso Regression score: 0.933599050695428\n",
            "Lasso Regression root mean square error: 0.10312121102504145\n",
            "Elastic net score: 0.9335366399719458\n",
            "Elastic net root mean square error: 0.10316966182193718\n",
            "GBoost root mean square error: 0.9186082504197415\n",
            "GBoost root mean square error: 0.11416975063360812\n",
            "Model averages score: 0.9349994986485279\n",
            "Model averages error: 0.1020279624437107\n",
            "[15:09:17] WARNING: /workspace/src/objective/regression_obj.cu:152: reg:linear is now deprecated in favor of reg:squarederror.\n",
            "[15:09:22] WARNING: /workspace/src/objective/regression_obj.cu:152: reg:linear is now deprecated in favor of reg:squarederror.\n",
            "[15:09:28] WARNING: /workspace/src/objective/regression_obj.cu:152: reg:linear is now deprecated in favor of reg:squarederror.\n",
            "[15:09:34] WARNING: /workspace/src/objective/regression_obj.cu:152: reg:linear is now deprecated in favor of reg:squarederror.\n",
            "[15:09:40] WARNING: /workspace/src/objective/regression_obj.cu:152: reg:linear is now deprecated in favor of reg:squarederror.\n",
            "[15:09:46] WARNING: /workspace/src/objective/regression_obj.cu:152: reg:linear is now deprecated in favor of reg:squarederror.\n",
            "[15:09:51] WARNING: /workspace/src/objective/regression_obj.cu:152: reg:linear is now deprecated in favor of reg:squarederror.\n",
            "[15:09:57] WARNING: /workspace/src/objective/regression_obj.cu:152: reg:linear is now deprecated in favor of reg:squarederror.\n",
            "[15:10:03] WARNING: /workspace/src/objective/regression_obj.cu:152: reg:linear is now deprecated in favor of reg:squarederror.\n",
            "[15:10:09] WARNING: /workspace/src/objective/regression_obj.cu:152: reg:linear is now deprecated in favor of reg:squarederror.\n",
            "[15:10:15] WARNING: /workspace/src/objective/regression_obj.cu:152: reg:linear is now deprecated in favor of reg:squarederror.\n",
            "[15:10:20] WARNING: /workspace/src/objective/regression_obj.cu:152: reg:linear is now deprecated in favor of reg:squarederror.\n",
            "[15:10:26] WARNING: /workspace/src/objective/regression_obj.cu:152: reg:linear is now deprecated in favor of reg:squarederror.\n",
            "[15:10:32] WARNING: /workspace/src/objective/regression_obj.cu:152: reg:linear is now deprecated in favor of reg:squarederror.\n",
            "[15:10:38] WARNING: /workspace/src/objective/regression_obj.cu:152: reg:linear is now deprecated in favor of reg:squarederror.\n",
            "[15:10:44] WARNING: /workspace/src/objective/regression_obj.cu:152: reg:linear is now deprecated in favor of reg:squarederror.\n",
            "[15:10:49] WARNING: /workspace/src/objective/regression_obj.cu:152: reg:linear is now deprecated in favor of reg:squarederror.\n",
            "[15:10:55] WARNING: /workspace/src/objective/regression_obj.cu:152: reg:linear is now deprecated in favor of reg:squarederror.\n",
            "[15:11:01] WARNING: /workspace/src/objective/regression_obj.cu:152: reg:linear is now deprecated in favor of reg:squarederror.\n",
            "[15:11:07] WARNING: /workspace/src/objective/regression_obj.cu:152: reg:linear is now deprecated in favor of reg:squarederror.\n",
            "[15:11:12] WARNING: /workspace/src/objective/regression_obj.cu:152: reg:linear is now deprecated in favor of reg:squarederror.\n",
            "[15:11:18] WARNING: /workspace/src/objective/regression_obj.cu:152: reg:linear is now deprecated in favor of reg:squarederror.\n",
            "[15:11:24] WARNING: /workspace/src/objective/regression_obj.cu:152: reg:linear is now deprecated in favor of reg:squarederror.\n",
            "[15:11:30] WARNING: /workspace/src/objective/regression_obj.cu:152: reg:linear is now deprecated in favor of reg:squarederror.\n",
            "[15:11:36] WARNING: /workspace/src/objective/regression_obj.cu:152: reg:linear is now deprecated in favor of reg:squarederror.\n",
            "[15:11:48] WARNING: /workspace/src/objective/regression_obj.cu:152: reg:linear is now deprecated in favor of reg:squarederror.\n",
            "[15:12:00] WARNING: /workspace/src/objective/regression_obj.cu:152: reg:linear is now deprecated in favor of reg:squarederror.\n",
            "[15:12:12] WARNING: /workspace/src/objective/regression_obj.cu:152: reg:linear is now deprecated in favor of reg:squarederror.\n",
            "[15:12:24] WARNING: /workspace/src/objective/regression_obj.cu:152: reg:linear is now deprecated in favor of reg:squarederror.\n",
            "[15:12:36] WARNING: /workspace/src/objective/regression_obj.cu:152: reg:linear is now deprecated in favor of reg:squarederror.\n",
            "[15:12:48] WARNING: /workspace/src/objective/regression_obj.cu:152: reg:linear is now deprecated in favor of reg:squarederror.\n",
            "[15:13:00] WARNING: /workspace/src/objective/regression_obj.cu:152: reg:linear is now deprecated in favor of reg:squarederror.\n",
            "[15:13:12] WARNING: /workspace/src/objective/regression_obj.cu:152: reg:linear is now deprecated in favor of reg:squarederror.\n",
            "[15:13:24] WARNING: /workspace/src/objective/regression_obj.cu:152: reg:linear is now deprecated in favor of reg:squarederror.\n",
            "[15:13:36] WARNING: /workspace/src/objective/regression_obj.cu:152: reg:linear is now deprecated in favor of reg:squarederror.\n",
            "[15:13:48] WARNING: /workspace/src/objective/regression_obj.cu:152: reg:linear is now deprecated in favor of reg:squarederror.\n",
            "[15:14:00] WARNING: /workspace/src/objective/regression_obj.cu:152: reg:linear is now deprecated in favor of reg:squarederror.\n",
            "[15:14:12] WARNING: /workspace/src/objective/regression_obj.cu:152: reg:linear is now deprecated in favor of reg:squarederror.\n",
            "[15:14:24] WARNING: /workspace/src/objective/regression_obj.cu:152: reg:linear is now deprecated in favor of reg:squarederror.\n",
            "[15:14:36] WARNING: /workspace/src/objective/regression_obj.cu:152: reg:linear is now deprecated in favor of reg:squarederror.\n",
            "[15:14:48] WARNING: /workspace/src/objective/regression_obj.cu:152: reg:linear is now deprecated in favor of reg:squarederror.\n",
            "[15:14:59] WARNING: /workspace/src/objective/regression_obj.cu:152: reg:linear is now deprecated in favor of reg:squarederror.\n",
            "[15:15:12] WARNING: /workspace/src/objective/regression_obj.cu:152: reg:linear is now deprecated in favor of reg:squarederror.\n",
            "[15:15:23] WARNING: /workspace/src/objective/regression_obj.cu:152: reg:linear is now deprecated in favor of reg:squarederror.\n",
            "[15:15:35] WARNING: /workspace/src/objective/regression_obj.cu:152: reg:linear is now deprecated in favor of reg:squarederror.\n",
            "[15:15:48] WARNING: /workspace/src/objective/regression_obj.cu:152: reg:linear is now deprecated in favor of reg:squarederror.\n",
            "[15:16:00] WARNING: /workspace/src/objective/regression_obj.cu:152: reg:linear is now deprecated in favor of reg:squarederror.\n",
            "[15:16:12] WARNING: /workspace/src/objective/regression_obj.cu:152: reg:linear is now deprecated in favor of reg:squarederror.\n",
            "[15:16:24] WARNING: /workspace/src/objective/regression_obj.cu:152: reg:linear is now deprecated in favor of reg:squarederror.\n",
            "[15:16:42] WARNING: /workspace/src/objective/regression_obj.cu:152: reg:linear is now deprecated in favor of reg:squarederror.\n",
            "[15:17:01] WARNING: /workspace/src/objective/regression_obj.cu:152: reg:linear is now deprecated in favor of reg:squarederror.\n",
            "[15:17:20] WARNING: /workspace/src/objective/regression_obj.cu:152: reg:linear is now deprecated in favor of reg:squarederror.\n",
            "[15:17:38] WARNING: /workspace/src/objective/regression_obj.cu:152: reg:linear is now deprecated in favor of reg:squarederror.\n",
            "[15:17:56] WARNING: /workspace/src/objective/regression_obj.cu:152: reg:linear is now deprecated in favor of reg:squarederror.\n",
            "[15:18:14] WARNING: /workspace/src/objective/regression_obj.cu:152: reg:linear is now deprecated in favor of reg:squarederror.\n",
            "[15:18:32] WARNING: /workspace/src/objective/regression_obj.cu:152: reg:linear is now deprecated in favor of reg:squarederror.\n",
            "[15:18:51] WARNING: /workspace/src/objective/regression_obj.cu:152: reg:linear is now deprecated in favor of reg:squarederror.\n",
            "[15:19:09] WARNING: /workspace/src/objective/regression_obj.cu:152: reg:linear is now deprecated in favor of reg:squarederror.\n",
            "[15:19:27] WARNING: /workspace/src/objective/regression_obj.cu:152: reg:linear is now deprecated in favor of reg:squarederror.\n",
            "[15:19:45] WARNING: /workspace/src/objective/regression_obj.cu:152: reg:linear is now deprecated in favor of reg:squarederror.\n",
            "[15:20:03] WARNING: /workspace/src/objective/regression_obj.cu:152: reg:linear is now deprecated in favor of reg:squarederror.\n",
            "[15:20:22] WARNING: /workspace/src/objective/regression_obj.cu:152: reg:linear is now deprecated in favor of reg:squarederror.\n",
            "[15:20:40] WARNING: /workspace/src/objective/regression_obj.cu:152: reg:linear is now deprecated in favor of reg:squarederror.\n",
            "[15:20:58] WARNING: /workspace/src/objective/regression_obj.cu:152: reg:linear is now deprecated in favor of reg:squarederror.\n",
            "[15:21:16] WARNING: /workspace/src/objective/regression_obj.cu:152: reg:linear is now deprecated in favor of reg:squarederror.\n",
            "[15:21:34] WARNING: /workspace/src/objective/regression_obj.cu:152: reg:linear is now deprecated in favor of reg:squarederror.\n",
            "[15:21:53] WARNING: /workspace/src/objective/regression_obj.cu:152: reg:linear is now deprecated in favor of reg:squarederror.\n",
            "[15:22:11] WARNING: /workspace/src/objective/regression_obj.cu:152: reg:linear is now deprecated in favor of reg:squarederror.\n",
            "[15:22:29] WARNING: /workspace/src/objective/regression_obj.cu:152: reg:linear is now deprecated in favor of reg:squarederror.\n",
            "[15:22:47] WARNING: /workspace/src/objective/regression_obj.cu:152: reg:linear is now deprecated in favor of reg:squarederror.\n",
            "[15:23:06] WARNING: /workspace/src/objective/regression_obj.cu:152: reg:linear is now deprecated in favor of reg:squarederror.\n",
            "[15:23:24] WARNING: /workspace/src/objective/regression_obj.cu:152: reg:linear is now deprecated in favor of reg:squarederror.\n",
            "[15:23:42] WARNING: /workspace/src/objective/regression_obj.cu:152: reg:linear is now deprecated in favor of reg:squarederror.\n",
            "[15:24:07] WARNING: /workspace/src/objective/regression_obj.cu:152: reg:linear is now deprecated in favor of reg:squarederror.\n",
            "[15:24:31] WARNING: /workspace/src/objective/regression_obj.cu:152: reg:linear is now deprecated in favor of reg:squarederror.\n",
            "[15:24:56] WARNING: /workspace/src/objective/regression_obj.cu:152: reg:linear is now deprecated in favor of reg:squarederror.\n",
            "[15:25:20] WARNING: /workspace/src/objective/regression_obj.cu:152: reg:linear is now deprecated in favor of reg:squarederror.\n",
            "[15:25:45] WARNING: /workspace/src/objective/regression_obj.cu:152: reg:linear is now deprecated in favor of reg:squarederror.\n",
            "[15:26:10] WARNING: /workspace/src/objective/regression_obj.cu:152: reg:linear is now deprecated in favor of reg:squarederror.\n",
            "[15:26:34] WARNING: /workspace/src/objective/regression_obj.cu:152: reg:linear is now deprecated in favor of reg:squarederror.\n",
            "[15:26:59] WARNING: /workspace/src/objective/regression_obj.cu:152: reg:linear is now deprecated in favor of reg:squarederror.\n",
            "[15:27:23] WARNING: /workspace/src/objective/regression_obj.cu:152: reg:linear is now deprecated in favor of reg:squarederror.\n",
            "[15:27:48] WARNING: /workspace/src/objective/regression_obj.cu:152: reg:linear is now deprecated in favor of reg:squarederror.\n",
            "[15:28:12] WARNING: /workspace/src/objective/regression_obj.cu:152: reg:linear is now deprecated in favor of reg:squarederror.\n",
            "[15:28:37] WARNING: /workspace/src/objective/regression_obj.cu:152: reg:linear is now deprecated in favor of reg:squarederror.\n",
            "[15:29:01] WARNING: /workspace/src/objective/regression_obj.cu:152: reg:linear is now deprecated in favor of reg:squarederror.\n",
            "[15:29:26] WARNING: /workspace/src/objective/regression_obj.cu:152: reg:linear is now deprecated in favor of reg:squarederror.\n",
            "[15:29:50] WARNING: /workspace/src/objective/regression_obj.cu:152: reg:linear is now deprecated in favor of reg:squarederror.\n",
            "[15:30:15] WARNING: /workspace/src/objective/regression_obj.cu:152: reg:linear is now deprecated in favor of reg:squarederror.\n",
            "[15:30:39] WARNING: /workspace/src/objective/regression_obj.cu:152: reg:linear is now deprecated in favor of reg:squarederror.\n",
            "[15:31:04] WARNING: /workspace/src/objective/regression_obj.cu:152: reg:linear is now deprecated in favor of reg:squarederror.\n",
            "[15:31:29] WARNING: /workspace/src/objective/regression_obj.cu:152: reg:linear is now deprecated in favor of reg:squarederror.\n",
            "[15:31:53] WARNING: /workspace/src/objective/regression_obj.cu:152: reg:linear is now deprecated in favor of reg:squarederror.\n",
            "[15:32:18] WARNING: /workspace/src/objective/regression_obj.cu:152: reg:linear is now deprecated in favor of reg:squarederror.\n",
            "[15:32:43] WARNING: /workspace/src/objective/regression_obj.cu:152: reg:linear is now deprecated in favor of reg:squarederror.\n"
          ],
          "name": "stdout"
        }
      ]
    },
    {
      "cell_type": "markdown",
      "metadata": {
        "id": "10yQLZS894oY",
        "colab_type": "text"
      },
      "source": [
        "## Expirements in ensemble methods\n"
      ]
    },
    {
      "cell_type": "code",
      "metadata": {
        "id": "wlc9CSRN90M7",
        "colab_type": "code",
        "colab": {}
      },
      "source": [
        "from mlxtend.regressor import StackingCVRegressor\n",
        "\n",
        "stack = StackingCVRegressor(regressors=(ridge_CV,lasso_CV,net,GBoost,averaged_models,xgbreg),meta_regressor=xgbreg,\n",
        "                               use_features_in_secondary=True)\n",
        "stack = stack.fit(X_train,y_train)\n",
        "stackX = np.array(X_train)\n",
        "stacky = np.array(y_train)\n",
        "stack = stack.fit(stackX, stacky)\n",
        "stack_pred=stack.predict(np.array(X_test))\n",
        "print('Stacked Model averages score: '+str(stack.score(np.array(X_test),np.array(y_test))))\n",
        "print('Stacked Model averages error: '+str(rmsle(y_test,stack_pred)))\n",
        "\n",
        "test=test.drop('SalePrice',axis=1)\n",
        "SalePrice=stack.predict(np.array(test))\n",
        "SalePrice=np.expm1(SalePrice)\n",
        "ID=pd.Series(test.index)\n",
        "Submission=pd.DataFrame({'Id': test.index, 'SalePrice': SalePrice})\n",
        "Submission.to_csv('submission_stack_only.csv',index=False)\n",
        "\n",
        "#%%\n",
        "#blending\n",
        "meta_ave=ridge_pred*0.13+lasso_pred*.13+net_pred*.13+gboost_pred*.13+xgbreg_pred*.13+stack_pred*.35\n",
        "rmsle(y_test,meta_ave)\n",
        "\n",
        "meta_ave2=(ridge_pred+lasso_pred+net_pred+gboost_pred+xgbreg_pred+stack_pred)/6\n",
        "rmsle(y_test,meta_ave2)\n",
        "\n",
        "#%%\n",
        "final_pred=(ridge_CV.predict(test)*.13\n",
        "            +lasso_CV.predict(test)*.13\n",
        "            +net.predict(test)*.13\n",
        "            +GBoost.predict(test)*.13\n",
        "            +xgbreg.predict(test)*.13\n",
        "            +stack.predict(np.array(test))*.35)\n",
        "\n",
        "SalePrice=final_pred\n",
        "SalePrice=np.expm1(SalePrice)\n",
        "ID=pd.Series(test.index)\n",
        "Submission=pd.DataFrame({'Id': test.index, 'SalePrice': SalePrice})\n",
        "Submission.to_csv('submission_stack_all.csv',index=False)\n",
        "#sub score: 0.11438 (303/4465, 94th percent)\n",
        "\n",
        "final_pred=(ridge_CV.predict(test)\n",
        "            +lasso_CV.predict(test)\n",
        "            +net.predict(test)\n",
        "            +GBoost.predict(test)\n",
        "            +xgbreg.predict(test)\n",
        "            +stack.predict(np.array(test)))/6\n",
        "\n",
        "SalePrice=final_pred\n",
        "SalePrice=np.expm1(SalePrice)\n",
        "ID=pd.Series(test.index)\n",
        "Submission=pd.DataFrame({'Id': test.index, 'SalePrice': SalePrice})\n",
        "Submission.to_csv('submission_stack_all.csv',index=False)\n",
        "#sub score: .11497, 359/4465 , 92nd percent!"
      ],
      "execution_count": 0,
      "outputs": []
    }
  ]
}