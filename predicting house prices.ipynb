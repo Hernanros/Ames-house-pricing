{
 "cells": [
  {
   "cell_type": "markdown",
   "metadata": {},
   "source": [
    "This is my first ever submitred file to a kaggle competition.\n",
    "I picked the Iowa Home Prices predicted competition because i wanted a basic well defined problem which i can practice basic steps of data science skills:\n",
    "\n",
    "workflow:\n",
    "1.\tData Cleaning and Pre-processing(Explained variable)‎\n",
    "•\tOutliers\n",
    "•\tStatistical transformations\n",
    "\n",
    "2.\tFeature Engineering\n",
    "•\tConcatenation\n",
    "•\tNA's\n",
    "•\tFactorization\n",
    "•\tFurther Statistical transformation\n",
    "•\tColumn removal\n",
    "•\tDummies\n",
    "•\tBaseline model\n",
    "\n",
    "3.\tFeature Selection\n",
    "•\tFilter methods\n",
    "\tL1: Ridge Regression\n",
    "\tL2: Lasso regression\n",
    "\tElasticnet\n",
    "\n",
    "4.\tPrediction\n",
    "\n",
    "5. improving the model:\n",
    "\tEnsemble methods\n",
    "•\tStacked generalizations\n",
    "•\tAveraging\n",
    "\tstandard\n",
    "\tweighted\n",
    "\n"
   ]
  },
  {
   "cell_type": "code",
   "execution_count": 2,
   "metadata": {},
   "outputs": [],
   "source": [
    "import warnings\n",
    "warnings.filterwarnings('ignore')\n",
    "\n",
    "import pandas as pd\n",
    "import numpy as np\n",
    "from scipy import stats\n",
    "from scipy.special import boxcox1p\n",
    "from scipy.stats import boxcox_normmax\n",
    "import math\n",
    "import matplotlib.pyplot as plt\n",
    "import seaborn as sns\n",
    "\n",
    "from sklearn import preprocessing\n",
    "from sklearn.model_selection import train_test_split, KFold, cross_val_score,GridSearchCV\n",
    "from sklearn.pipeline import make_pipeline\n",
    "\n",
    "from sklearn import linear_model\n",
    "from sklearn import tree\n",
    "from sklearn.ensemble import RandomForestRegressor,GradientBoostingRegressor\n",
    "from sklearn.kernel_ridge import KernelRidge\n",
    "from sklearn.metrics import mean_squared_error\n"
   ]
  },
  {
   "cell_type": "code",
   "execution_count": 3,
   "metadata": {},
   "outputs": [],
   "source": [
    "#define helper functions\n",
    "\n",
    "def ecdf(data):\n",
    "    \"\"\"Compute ECDF for a one-dimensional array of measurements.\"\"\"\n",
    "    n = len(data)\n",
    "    x = np.sort(data)\n",
    "    y = np.arange(1, n+1) / n\n",
    "    return x, y\n",
    "\n",
    "def plot_ecdf(x,y,xname):\n",
    "    #plot the culminative probability of every value in a series\n",
    "    plt.plot(x,y,marker='.',linestyle='none')\n",
    "    plt.xlabel(xname)\n",
    "    plt.ylabel('Culmanative Probability')\n",
    "    plt.show()\n",
    "    \n",
    "def compare_normality(var):\n",
    "    #plot the ecdf  of  a series against a normal distribution with the same expectancy and standart deveation\n",
    "\n",
    "    np.random.seed(seed=42)\n",
    "    x_norm,y_norm=ecdf(np.random.normal(loc=np.mean(var),scale=np.std(var),size=len(var)))\n",
    "    x_var,y_var=ecdf(var)\n",
    "    plt.plot(x_norm,y_norm,marker='.',linestyle='none',color='black')\n",
    "    plt.plot(x_var,y_var,marker='.',linestyle='none',color='red')\n",
    "    plt.xlabel('random distribution vs.'+ str(var.name) )\n",
    "    plt.ylabel('Culmanative Probability')\n",
    "    plt.legend({'norm':x_norm, 'price':str(var.name) })\n",
    "    plt.show()\n",
    "    \n",
    "def plot_correlation_map( df ):\n",
    "    corr = df.corr()\n",
    "    _ , ax = plt.subplots( figsize =( 12 , 10 ) )\n",
    "    cmap = sns.diverging_palette( 220 , 10 , as_cmap = True )\n",
    "    _ = sns.heatmap(\n",
    "        corr, \n",
    "        cmap = cmap,\n",
    "        square=True, \n",
    "        cbar_kws={ 'shrink' : .9 }, \n",
    "        ax=ax, \n",
    "        annot = True, \n",
    "        annot_kws = { 'fontsize' : 12 }\n",
    "    )\n",
    "\n",
    "#A function to calculate Root Mean Squared Error (RMSLE)\n",
    "def rmsle(y, y_pred):\n",
    "    return np.sqrt(mean_squared_error(y, y_pred))\n",
    "\n",
    "\n",
    "def cv_rmsle(model):\n",
    "#A function to calculate Root Mean Squared Error per validation segment\n",
    "    rmsle = np.sqrt(np.log(-cross_val_score(model, X, y,\n",
    "                                           scoring = 'neg_mean_squared_error',\n",
    "                                           cv=kfolds)))\n",
    "    return(rmsle)"
   ]
  },
  {
   "cell_type": "code",
   "execution_count": 4,
   "metadata": {},
   "outputs": [
    {
     "data": {
      "text/html": [
       "<div>\n",
       "<style scoped>\n",
       "    .dataframe tbody tr th:only-of-type {\n",
       "        vertical-align: middle;\n",
       "    }\n",
       "\n",
       "    .dataframe tbody tr th {\n",
       "        vertical-align: top;\n",
       "    }\n",
       "\n",
       "    .dataframe thead th {\n",
       "        text-align: right;\n",
       "    }\n",
       "</style>\n",
       "<table border=\"1\" class=\"dataframe\">\n",
       "  <thead>\n",
       "    <tr style=\"text-align: right;\">\n",
       "      <th></th>\n",
       "      <th>MSSubClass</th>\n",
       "      <th>MSZoning</th>\n",
       "      <th>LotFrontage</th>\n",
       "      <th>LotArea</th>\n",
       "      <th>Street</th>\n",
       "      <th>Alley</th>\n",
       "      <th>LotShape</th>\n",
       "      <th>LandContour</th>\n",
       "      <th>Utilities</th>\n",
       "      <th>LotConfig</th>\n",
       "      <th>...</th>\n",
       "      <th>PoolArea</th>\n",
       "      <th>PoolQC</th>\n",
       "      <th>Fence</th>\n",
       "      <th>MiscFeature</th>\n",
       "      <th>MiscVal</th>\n",
       "      <th>MoSold</th>\n",
       "      <th>YrSold</th>\n",
       "      <th>SaleType</th>\n",
       "      <th>SaleCondition</th>\n",
       "      <th>SalePrice</th>\n",
       "    </tr>\n",
       "    <tr>\n",
       "      <th>Id</th>\n",
       "      <th></th>\n",
       "      <th></th>\n",
       "      <th></th>\n",
       "      <th></th>\n",
       "      <th></th>\n",
       "      <th></th>\n",
       "      <th></th>\n",
       "      <th></th>\n",
       "      <th></th>\n",
       "      <th></th>\n",
       "      <th></th>\n",
       "      <th></th>\n",
       "      <th></th>\n",
       "      <th></th>\n",
       "      <th></th>\n",
       "      <th></th>\n",
       "      <th></th>\n",
       "      <th></th>\n",
       "      <th></th>\n",
       "      <th></th>\n",
       "      <th></th>\n",
       "    </tr>\n",
       "  </thead>\n",
       "  <tbody>\n",
       "    <tr>\n",
       "      <th>1</th>\n",
       "      <td>60</td>\n",
       "      <td>RL</td>\n",
       "      <td>65.0</td>\n",
       "      <td>8450</td>\n",
       "      <td>Pave</td>\n",
       "      <td>NaN</td>\n",
       "      <td>Reg</td>\n",
       "      <td>Lvl</td>\n",
       "      <td>AllPub</td>\n",
       "      <td>Inside</td>\n",
       "      <td>...</td>\n",
       "      <td>0</td>\n",
       "      <td>NaN</td>\n",
       "      <td>NaN</td>\n",
       "      <td>NaN</td>\n",
       "      <td>0</td>\n",
       "      <td>2</td>\n",
       "      <td>2008</td>\n",
       "      <td>WD</td>\n",
       "      <td>Normal</td>\n",
       "      <td>208500</td>\n",
       "    </tr>\n",
       "    <tr>\n",
       "      <th>2</th>\n",
       "      <td>20</td>\n",
       "      <td>RL</td>\n",
       "      <td>80.0</td>\n",
       "      <td>9600</td>\n",
       "      <td>Pave</td>\n",
       "      <td>NaN</td>\n",
       "      <td>Reg</td>\n",
       "      <td>Lvl</td>\n",
       "      <td>AllPub</td>\n",
       "      <td>FR2</td>\n",
       "      <td>...</td>\n",
       "      <td>0</td>\n",
       "      <td>NaN</td>\n",
       "      <td>NaN</td>\n",
       "      <td>NaN</td>\n",
       "      <td>0</td>\n",
       "      <td>5</td>\n",
       "      <td>2007</td>\n",
       "      <td>WD</td>\n",
       "      <td>Normal</td>\n",
       "      <td>181500</td>\n",
       "    </tr>\n",
       "    <tr>\n",
       "      <th>3</th>\n",
       "      <td>60</td>\n",
       "      <td>RL</td>\n",
       "      <td>68.0</td>\n",
       "      <td>11250</td>\n",
       "      <td>Pave</td>\n",
       "      <td>NaN</td>\n",
       "      <td>IR1</td>\n",
       "      <td>Lvl</td>\n",
       "      <td>AllPub</td>\n",
       "      <td>Inside</td>\n",
       "      <td>...</td>\n",
       "      <td>0</td>\n",
       "      <td>NaN</td>\n",
       "      <td>NaN</td>\n",
       "      <td>NaN</td>\n",
       "      <td>0</td>\n",
       "      <td>9</td>\n",
       "      <td>2008</td>\n",
       "      <td>WD</td>\n",
       "      <td>Normal</td>\n",
       "      <td>223500</td>\n",
       "    </tr>\n",
       "    <tr>\n",
       "      <th>4</th>\n",
       "      <td>70</td>\n",
       "      <td>RL</td>\n",
       "      <td>60.0</td>\n",
       "      <td>9550</td>\n",
       "      <td>Pave</td>\n",
       "      <td>NaN</td>\n",
       "      <td>IR1</td>\n",
       "      <td>Lvl</td>\n",
       "      <td>AllPub</td>\n",
       "      <td>Corner</td>\n",
       "      <td>...</td>\n",
       "      <td>0</td>\n",
       "      <td>NaN</td>\n",
       "      <td>NaN</td>\n",
       "      <td>NaN</td>\n",
       "      <td>0</td>\n",
       "      <td>2</td>\n",
       "      <td>2006</td>\n",
       "      <td>WD</td>\n",
       "      <td>Abnorml</td>\n",
       "      <td>140000</td>\n",
       "    </tr>\n",
       "    <tr>\n",
       "      <th>5</th>\n",
       "      <td>60</td>\n",
       "      <td>RL</td>\n",
       "      <td>84.0</td>\n",
       "      <td>14260</td>\n",
       "      <td>Pave</td>\n",
       "      <td>NaN</td>\n",
       "      <td>IR1</td>\n",
       "      <td>Lvl</td>\n",
       "      <td>AllPub</td>\n",
       "      <td>FR2</td>\n",
       "      <td>...</td>\n",
       "      <td>0</td>\n",
       "      <td>NaN</td>\n",
       "      <td>NaN</td>\n",
       "      <td>NaN</td>\n",
       "      <td>0</td>\n",
       "      <td>12</td>\n",
       "      <td>2008</td>\n",
       "      <td>WD</td>\n",
       "      <td>Normal</td>\n",
       "      <td>250000</td>\n",
       "    </tr>\n",
       "  </tbody>\n",
       "</table>\n",
       "<p>5 rows × 80 columns</p>\n",
       "</div>"
      ],
      "text/plain": [
       "    MSSubClass MSZoning  LotFrontage  LotArea Street Alley LotShape  \\\n",
       "Id                                                                    \n",
       "1           60       RL         65.0     8450   Pave   NaN      Reg   \n",
       "2           20       RL         80.0     9600   Pave   NaN      Reg   \n",
       "3           60       RL         68.0    11250   Pave   NaN      IR1   \n",
       "4           70       RL         60.0     9550   Pave   NaN      IR1   \n",
       "5           60       RL         84.0    14260   Pave   NaN      IR1   \n",
       "\n",
       "   LandContour Utilities LotConfig    ...     PoolArea PoolQC Fence  \\\n",
       "Id                                    ...                             \n",
       "1          Lvl    AllPub    Inside    ...            0    NaN   NaN   \n",
       "2          Lvl    AllPub       FR2    ...            0    NaN   NaN   \n",
       "3          Lvl    AllPub    Inside    ...            0    NaN   NaN   \n",
       "4          Lvl    AllPub    Corner    ...            0    NaN   NaN   \n",
       "5          Lvl    AllPub       FR2    ...            0    NaN   NaN   \n",
       "\n",
       "   MiscFeature MiscVal MoSold  YrSold  SaleType  SaleCondition  SalePrice  \n",
       "Id                                                                         \n",
       "1          NaN       0      2    2008        WD         Normal     208500  \n",
       "2          NaN       0      5    2007        WD         Normal     181500  \n",
       "3          NaN       0      9    2008        WD         Normal     223500  \n",
       "4          NaN       0      2    2006        WD        Abnorml     140000  \n",
       "5          NaN       0     12    2008        WD         Normal     250000  \n",
       "\n",
       "[5 rows x 80 columns]"
      ]
     },
     "execution_count": 4,
     "metadata": {},
     "output_type": "execute_result"
    }
   ],
   "source": [
    "#Data loading\n",
    "test=pd.read_csv('D:\\\\Python\\\\python projects\\\\home prices\\\\test.csv',index_col='Id')\n",
    "train=pd.read_csv('D:\\\\Python\\\\python projects\\\\home prices\\\\train.csv',index_col='Id')\n",
    "target=train.SalePrice\n",
    "\n",
    "train.head()"
   ]
  },
  {
   "cell_type": "code",
   "execution_count": 5,
   "metadata": {},
   "outputs": [
    {
     "name": "stdout",
     "output_type": "stream",
     "text": [
      "<class 'pandas.core.frame.DataFrame'>\n",
      "Int64Index: 1460 entries, 1 to 1460\n",
      "Data columns (total 80 columns):\n",
      "MSSubClass       1460 non-null int64\n",
      "MSZoning         1460 non-null object\n",
      "LotFrontage      1201 non-null float64\n",
      "LotArea          1460 non-null int64\n",
      "Street           1460 non-null object\n",
      "Alley            91 non-null object\n",
      "LotShape         1460 non-null object\n",
      "LandContour      1460 non-null object\n",
      "Utilities        1460 non-null object\n",
      "LotConfig        1460 non-null object\n",
      "LandSlope        1460 non-null object\n",
      "Neighborhood     1460 non-null object\n",
      "Condition1       1460 non-null object\n",
      "Condition2       1460 non-null object\n",
      "BldgType         1460 non-null object\n",
      "HouseStyle       1460 non-null object\n",
      "OverallQual      1460 non-null int64\n",
      "OverallCond      1460 non-null int64\n",
      "YearBuilt        1460 non-null int64\n",
      "YearRemodAdd     1460 non-null int64\n",
      "RoofStyle        1460 non-null object\n",
      "RoofMatl         1460 non-null object\n",
      "Exterior1st      1460 non-null object\n",
      "Exterior2nd      1460 non-null object\n",
      "MasVnrType       1452 non-null object\n",
      "MasVnrArea       1452 non-null float64\n",
      "ExterQual        1460 non-null object\n",
      "ExterCond        1460 non-null object\n",
      "Foundation       1460 non-null object\n",
      "BsmtQual         1423 non-null object\n",
      "BsmtCond         1423 non-null object\n",
      "BsmtExposure     1422 non-null object\n",
      "BsmtFinType1     1423 non-null object\n",
      "BsmtFinSF1       1460 non-null int64\n",
      "BsmtFinType2     1422 non-null object\n",
      "BsmtFinSF2       1460 non-null int64\n",
      "BsmtUnfSF        1460 non-null int64\n",
      "TotalBsmtSF      1460 non-null int64\n",
      "Heating          1460 non-null object\n",
      "HeatingQC        1460 non-null object\n",
      "CentralAir       1460 non-null object\n",
      "Electrical       1459 non-null object\n",
      "1stFlrSF         1460 non-null int64\n",
      "2ndFlrSF         1460 non-null int64\n",
      "LowQualFinSF     1460 non-null int64\n",
      "GrLivArea        1460 non-null int64\n",
      "BsmtFullBath     1460 non-null int64\n",
      "BsmtHalfBath     1460 non-null int64\n",
      "FullBath         1460 non-null int64\n",
      "HalfBath         1460 non-null int64\n",
      "BedroomAbvGr     1460 non-null int64\n",
      "KitchenAbvGr     1460 non-null int64\n",
      "KitchenQual      1460 non-null object\n",
      "TotRmsAbvGrd     1460 non-null int64\n",
      "Functional       1460 non-null object\n",
      "Fireplaces       1460 non-null int64\n",
      "FireplaceQu      770 non-null object\n",
      "GarageType       1379 non-null object\n",
      "GarageYrBlt      1379 non-null float64\n",
      "GarageFinish     1379 non-null object\n",
      "GarageCars       1460 non-null int64\n",
      "GarageArea       1460 non-null int64\n",
      "GarageQual       1379 non-null object\n",
      "GarageCond       1379 non-null object\n",
      "PavedDrive       1460 non-null object\n",
      "WoodDeckSF       1460 non-null int64\n",
      "OpenPorchSF      1460 non-null int64\n",
      "EnclosedPorch    1460 non-null int64\n",
      "3SsnPorch        1460 non-null int64\n",
      "ScreenPorch      1460 non-null int64\n",
      "PoolArea         1460 non-null int64\n",
      "PoolQC           7 non-null object\n",
      "Fence            281 non-null object\n",
      "MiscFeature      54 non-null object\n",
      "MiscVal          1460 non-null int64\n",
      "MoSold           1460 non-null int64\n",
      "YrSold           1460 non-null int64\n",
      "SaleType         1460 non-null object\n",
      "SaleCondition    1460 non-null object\n",
      "SalePrice        1460 non-null int64\n",
      "dtypes: float64(3), int64(34), object(43)\n",
      "memory usage: 923.9+ KB\n"
     ]
    }
   ],
   "source": [
    "train.info()"
   ]
  },
  {
   "cell_type": "code",
   "execution_count": 6,
   "metadata": {},
   "outputs": [
    {
     "data": {
      "text/plain": [
       "<matplotlib.collections.PathCollection at 0x1f4058bc470>"
      ]
     },
     "execution_count": 6,
     "metadata": {},
     "output_type": "execute_result"
    },
    {
     "data": {
      "image/png": "[encoded data removed]",
      "text/plain": [
       "<Figure size 432x288 with 1 Axes>"
      ]
     },
     "metadata": {
      "needs_background": "light"
     },
     "output_type": "display_data"
    }
   ],
   "source": [
    "#Understanding the explained variable\n",
    "plt.figure()\n",
    "plt.scatter(train.GrLivArea,train.SalePrice)\n",
    "plt.scatter(train['GrLivArea'][train['GrLivArea']>4500],train.SalePrice[train['GrLivArea']>4500])"
   ]
  },
  {
   "cell_type": "markdown",
   "metadata": {},
   "source": [
    " we can see that there are two obvious outliers regarding the relation between proparty size and price, we will solve this by getting rid of observation where the size is ridiculesly large"
   ]
  },
  {
   "cell_type": "code",
   "execution_count": 7,
   "metadata": {},
   "outputs": [],
   "source": [
    "train=train[train['GrLivArea']<4500]"
   ]
  },
  {
   "cell_type": "code",
   "execution_count": 8,
   "metadata": {},
   "outputs": [
    {
     "data": {
      "image/png": "[encoded data removed]",
      "text/plain": [
       "<Figure size 432x288 with 2 Axes>"
      ]
     },
     "metadata": {
      "needs_background": "light"
     },
     "output_type": "display_data"
    },
    {
     "data": {
      "image/png": "[encoded data removed]",
      "text/plain": [
       "<Figure size 432x288 with 2 Axes>"
      ]
     },
     "metadata": {
      "needs_background": "light"
     },
     "output_type": "display_data"
    }
   ],
   "source": [
    "#Understanding the explained variable\n",
    "plt.scatter(train.GrLivArea,train.SalePrice)\n",
    "train=train[train['GrLivArea']<4500]\n",
    "plt.scatter(train.GrLivArea,train.SalePrice)\n",
    "\n",
    "plt.subplot(2,1,1)\n",
    "sns.distplot(target,fit=stats.norm)\n",
    "plt.subplot(2,1,2)\n",
    "compare_normality(target)\n",
    "\n",
    "plt.figure()\n",
    "plt.subplot(2,1,1)\n",
    "sns.distplot(np.log1p(target),fit=stats.norm)\n",
    "plt.subplot(2,1,2)\n",
    "compare_normality(np.log1p(target))\n",
    "plt.show()\n",
    "\n",
    "target=np.log1p(target)"
   ]
  },
  {
   "cell_type": "markdown",
   "metadata": {},
   "source": [
    "the explained variable(SalePrice) is somewhat skewed, log1p seems to solve the problam"
   ]
  },
  {
   "cell_type": "code",
   "execution_count": 9,
   "metadata": {},
   "outputs": [
    {
     "name": "stdout",
     "output_type": "stream",
     "text": [
      "PoolQC          2908\n",
      "MiscFeature     2812\n",
      "Alley           2719\n",
      "Fence           2346\n",
      "SalePrice       1459\n",
      "FireplaceQu     1420\n",
      "LotFrontage      486\n",
      "GarageCond       159\n",
      "GarageYrBlt      159\n",
      "GarageQual       159\n",
      "GarageFinish     159\n",
      "GarageType       157\n",
      "BsmtCond          82\n",
      "BsmtExposure      82\n",
      "BsmtQual          81\n",
      "BsmtFinType2      80\n",
      "BsmtFinType1      79\n",
      "MasVnrType        24\n",
      "MasVnrArea        23\n",
      "MSZoning           4\n",
      "Utilities          2\n",
      "Functional         2\n",
      "BsmtFullBath       2\n",
      "BsmtHalfBath       2\n",
      "GarageCars         1\n",
      "BsmtFinSF2         1\n",
      "Exterior2nd        1\n",
      "GarageArea         1\n",
      "TotalBsmtSF        1\n",
      "BsmtUnfSF          1\n",
      "BsmtFinSF1         1\n",
      "Exterior1st        1\n",
      "KitchenQual        1\n",
      "SaleType           1\n",
      "Electrical         1\n",
      "dtype: int64\n"
     ]
    }
   ],
   "source": [
    "# =============================================================================\n",
    "# Feature Engeneering\n",
    "# =============================================================================\n",
    "#concatanating test and train: df\n",
    "df=pd.concat([train,test], sort=False)\n",
    "\n",
    "#Imputing NA\n",
    "null_sum=df.isna().sum().sort_values(ascending=False)\n",
    "null_sum=null_sum[null_sum!=0]\n",
    "print(null_sum)"
   ]
  },
  {
   "cell_type": "code",
   "execution_count": 10,
   "metadata": {},
   "outputs": [
    {
     "name": "stdout",
     "output_type": "stream",
     "text": [
      "     GarageType  GarageYrBlt GarageFinish GarageCond GarageQual\n",
      "Id                                                             \n",
      "2127     Detchd          NaN          NaN        NaN        NaN\n",
      "2577     Detchd          NaN          NaN        NaN        NaN\n"
     ]
    },
    {
     "data": {
      "text/html": [
       "<div>\n",
       "<style scoped>\n",
       "    .dataframe tbody tr th:only-of-type {\n",
       "        vertical-align: middle;\n",
       "    }\n",
       "\n",
       "    .dataframe tbody tr th {\n",
       "        vertical-align: top;\n",
       "    }\n",
       "\n",
       "    .dataframe thead th {\n",
       "        text-align: right;\n",
       "    }\n",
       "</style>\n",
       "<table border=\"1\" class=\"dataframe\">\n",
       "  <thead>\n",
       "    <tr style=\"text-align: right;\">\n",
       "      <th></th>\n",
       "      <th>GarageQual</th>\n",
       "      <th>GarageFinish</th>\n",
       "      <th>GarageCond</th>\n",
       "    </tr>\n",
       "    <tr>\n",
       "      <th>GarageType</th>\n",
       "      <th></th>\n",
       "      <th></th>\n",
       "      <th></th>\n",
       "    </tr>\n",
       "  </thead>\n",
       "  <tbody>\n",
       "    <tr>\n",
       "      <th>2Types</th>\n",
       "      <td>TA</td>\n",
       "      <td>Unf</td>\n",
       "      <td>TA</td>\n",
       "    </tr>\n",
       "    <tr>\n",
       "      <th>Attchd</th>\n",
       "      <td>TA</td>\n",
       "      <td>RFn</td>\n",
       "      <td>TA</td>\n",
       "    </tr>\n",
       "    <tr>\n",
       "      <th>Basment</th>\n",
       "      <td>TA</td>\n",
       "      <td>Unf</td>\n",
       "      <td>TA</td>\n",
       "    </tr>\n",
       "    <tr>\n",
       "      <th>BuiltIn</th>\n",
       "      <td>TA</td>\n",
       "      <td>Fin</td>\n",
       "      <td>TA</td>\n",
       "    </tr>\n",
       "    <tr>\n",
       "      <th>CarPort</th>\n",
       "      <td>TA</td>\n",
       "      <td>Unf</td>\n",
       "      <td>TA</td>\n",
       "    </tr>\n",
       "    <tr>\n",
       "      <th>Detchd</th>\n",
       "      <td>TA</td>\n",
       "      <td>Unf</td>\n",
       "      <td>TA</td>\n",
       "    </tr>\n",
       "  </tbody>\n",
       "</table>\n",
       "</div>"
      ],
      "text/plain": [
       "           GarageQual GarageFinish GarageCond\n",
       "GarageType                                   \n",
       "2Types             TA          Unf         TA\n",
       "Attchd             TA          RFn         TA\n",
       "Basment            TA          Unf         TA\n",
       "BuiltIn            TA          Fin         TA\n",
       "CarPort            TA          Unf         TA\n",
       "Detchd             TA          Unf         TA"
      ]
     },
     "execution_count": 10,
     "metadata": {},
     "output_type": "execute_result"
    }
   ],
   "source": [
    "#handeling garage variables: \n",
    "#first, imputing variables to the 2 variables where there is a garage but rest of the variabls are NA\n",
    "#second, replacing NA with 0\n",
    "print(df[['GarageType','GarageYrBlt','GarageFinish','GarageCond','GarageQual']][df['GarageType'].notna( ) & df['GarageQual'].isna() ])\n",
    "df[['GarageQual','GarageFinish','GarageCond']].groupby(df['GarageType']).agg(pd.Series.mode)\n"
   ]
  },
  {
   "cell_type": "code",
   "execution_count": 11,
   "metadata": {},
   "outputs": [],
   "source": [
    "df['GarageFinish'][df['GarageFinish'].isna() & df['GarageType'].notna()]='Unf'\n",
    "df['GarageCond'][df['GarageCond'].isna() & df['GarageType'].notna()]='TA' \n",
    "df['GarageQual'][df['GarageQual'].isna() & df['GarageType'].notna()]='TA' \n",
    "df['GarageYrBlt'][df['GarageYrBlt'].isna() & df['GarageType'].notna()]=df['YearRemodAdd']\n",
    "df[['GarageType','GarageYrBlt','GarageFinish','GarageCond','GarageQual']]=df[['GarageType','GarageYrBlt','GarageFinish','GarageCond','GarageQual']].fillna(0)\n"
   ]
  },
  {
   "cell_type": "code",
   "execution_count": 12,
   "metadata": {},
   "outputs": [
    {
     "name": "stdout",
     "output_type": "stream",
     "text": [
      "     GarageCond GarageQual  GarageArea  GarageCars\n",
      "Id                                                \n",
      "2577         TA         TA         NaN         NaN\n",
      "                       GarageArea  GarageCars\n",
      "GarageCond GarageQual                        \n",
      "0          0             0.000000    0.000000\n",
      "Ex         Ex          612.000000    1.000000\n",
      "           Gd          576.000000    2.000000\n",
      "Fa         Fa          316.743590    1.384615\n",
      "           Po          195.000000    1.000000\n",
      "           TA          356.470588    1.411765\n",
      "Gd         Gd          562.500000    2.000000\n",
      "           TA          604.666667    2.000000\n",
      "Po         Fa          331.625000    1.500000\n",
      "           Po          301.000000    1.000000\n",
      "           TA          240.500000    1.000000\n",
      "TA         Ex          840.000000    3.000000\n",
      "           Fa          342.584416    1.324675\n",
      "           Gd          666.647059    1.941176\n",
      "           TA          507.963643    1.898749\n"
     ]
    }
   ],
   "source": [
    "print(df[['GarageCond','GarageQual','GarageArea','GarageCars']][df['GarageCars'].isna()])\n",
    "print(df[['GarageCond','GarageQual','GarageArea','GarageCars']].groupby(['GarageCond','GarageQual']).mean())\n",
    "df['GarageCars']=df['GarageCars'].fillna(2)\n",
    "df['GarageArea']=df['GarageArea'].fillna(508)"
   ]
  },
  {
   "cell_type": "code",
   "execution_count": 13,
   "metadata": {},
   "outputs": [],
   "source": [
    "df['HasGarage']=df['GarageArea'].apply(lambda x: 0 if x==0 else 1)"
   ]
  },
  {
   "cell_type": "code",
   "execution_count": 14,
   "metadata": {},
   "outputs": [
    {
     "name": "stdout",
     "output_type": "stream",
     "text": [
      "    BsmtExposure BsmtCond BsmtQual BsmtFinType2 BsmtFinType1\n",
      "Id                                                          \n",
      "333           No       TA       Gd          NaN          GLQ\n",
      "             BsmtExposure BsmtCond BsmtQual BsmtFinType2\n",
      "BsmtFinType1                                            \n",
      "ALQ                    No       TA       TA          Unf\n",
      "BLQ                    No       TA       TA          Unf\n",
      "GLQ                    No       TA       Gd          Unf\n",
      "LwQ                    No       TA       TA          Unf\n",
      "Rec                    No       TA       TA          Unf\n",
      "Unf                    No       TA       TA          Unf\n"
     ]
    }
   ],
   "source": [
    "#handeling BSMT variables\n",
    "print(df[['BsmtExposure','BsmtCond','BsmtQual','BsmtFinType2','BsmtFinType1']][df['BsmtFinType2'].isna() &df['BsmtFinType1'].notna()])\n",
    "print(df[['BsmtExposure','BsmtCond','BsmtQual','BsmtFinType2','BsmtFinType1']].groupby('BsmtFinType1').agg(pd.Series.mode))"
   ]
  },
  {
   "cell_type": "code",
   "execution_count": 15,
   "metadata": {},
   "outputs": [],
   "source": [
    "df['BsmtExposure'][df['BsmtFinType2'].isna() & df['BsmtFinType1'].notna()]=df['BsmtExposure'].fillna('No')\n",
    "df['BsmtQual'][df['BsmtFinType2'].isna() &df['BsmtFinType1'].notna()]=df['BsmtQual'].fillna('Gd')\n",
    "df['BsmtFinType2'][df['BsmtFinType2'].isna() &df['BsmtFinType1'].notna()]=df['BsmtFinType2'].fillna('Unf')\n"
   ]
  },
  {
   "cell_type": "code",
   "execution_count": 16,
   "metadata": {},
   "outputs": [
    {
     "name": "stdout",
     "output_type": "stream",
     "text": [
      "     BsmtExposure BsmtCond BsmtQual BsmtFinType2 BsmtFinType1\n",
      "Id                                                           \n",
      "2218           No       Fa      NaN          Unf          Unf\n",
      "2219           No       TA      NaN          Unf          Unf\n",
      "                          BsmtExposure BsmtCond  BsmtQual\n",
      "BsmtFinType1 BsmtFinType2                                \n",
      "ALQ          BLQ                    No       TA        TA\n",
      "             GLQ                    No       TA        TA\n",
      "             LwQ                    No       TA        Gd\n",
      "             Rec                    No       TA        TA\n",
      "             Unf                    No       TA        TA\n",
      "BLQ          ALQ                    No       TA  [Gd, TA]\n",
      "             BLQ                    No       TA        Gd\n",
      "             GLQ                    Av       TA        Gd\n",
      "             LwQ                    No       TA        TA\n",
      "             Rec                    No       TA        TA\n",
      "             Unf                    No       TA        TA\n",
      "GLQ          ALQ                    No       TA        Gd\n",
      "             BLQ                    Av       TA        Gd\n",
      "             LwQ                    No       TA        Gd\n",
      "             Rec                    No       TA        Gd\n",
      "             Unf                    No       TA        Gd\n",
      "LwQ          ALQ                    Gd       TA        TA\n",
      "             BLQ                    No       TA        TA\n",
      "             GLQ                    No       TA        Gd\n",
      "             Rec                    No       TA        TA\n",
      "             Unf                    No       TA        TA\n",
      "Rec          ALQ                    No       TA        TA\n",
      "             BLQ                    No       TA        TA\n",
      "             GLQ                    Av       TA        Gd\n",
      "             LwQ                    No       TA        TA\n",
      "             Unf                    No       TA        TA\n",
      "Unf          Unf                    No       TA        TA\n"
     ]
    }
   ],
   "source": [
    "print(df[['BsmtExposure','BsmtCond','BsmtQual','BsmtFinType2','BsmtFinType1']][df['BsmtQual'].isna() &df['BsmtFinType1'].notna()])\n",
    "print(df[['BsmtExposure','BsmtCond','BsmtQual','BsmtFinType2','BsmtFinType1']].groupby(['BsmtFinType1','BsmtFinType2']).agg(pd.Series.mode))\n",
    "df['BsmtQual'][df['BsmtQual'].isna() &df['BsmtFinType1'].notna()]=df['BsmtQual'].fillna('TA')\n"
   ]
  },
  {
   "cell_type": "code",
   "execution_count": 17,
   "metadata": {},
   "outputs": [
    {
     "name": "stdout",
     "output_type": "stream",
     "text": [
      "     BsmtExposure BsmtCond BsmtQual BsmtFinType2 BsmtFinType1\n",
      "Id                                                           \n",
      "2041           Mn      NaN       Gd          Rec          GLQ\n",
      "2186           No      NaN       TA          Unf          BLQ\n",
      "2525           Av      NaN       TA          Unf          ALQ\n",
      "                      BsmtExposure  BsmtCond BsmtFinType2\n",
      "BsmtQual BsmtFinType1                                    \n",
      "Ex       ALQ                    No        TA          Unf\n",
      "         BLQ                    Mn        TA          GLQ\n",
      "         GLQ                    Gd        TA          Unf\n",
      "         LwQ              [Mn, No]  [Gd, TA]   [ALQ, GLQ]\n",
      "         Rec              [Av, Gd]        TA          GLQ\n",
      "         Unf                    No        TA          Unf\n",
      "Fa       ALQ                    No        TA          Unf\n",
      "         BLQ                    Mn        TA          Unf\n",
      "         LwQ                    No        TA          Unf\n",
      "         Rec                    No        TA          Unf\n",
      "         Unf                    No        TA          Unf\n",
      "Gd       ALQ                    No        TA          Unf\n",
      "         BLQ                    No        TA          Unf\n",
      "         GLQ                    No        TA          Unf\n",
      "         LwQ                    No        TA          Unf\n",
      "         Rec                    No        TA          Unf\n",
      "         Unf                    No        TA          Unf\n",
      "TA       ALQ                    No        TA          Unf\n",
      "         BLQ                    No        TA          Unf\n",
      "         GLQ                    No        TA          Unf\n",
      "         LwQ                    No        TA          Unf\n",
      "         Rec                    No        TA          Unf\n",
      "         Unf                    No        TA          Unf\n"
     ]
    }
   ],
   "source": [
    "print(df[['BsmtExposure','BsmtCond','BsmtQual','BsmtFinType2','BsmtFinType1']][df['BsmtCond'].isna() &df['BsmtFinType1'].notna()])\n",
    "print(df[['BsmtExposure','BsmtCond','BsmtQual','BsmtFinType2','BsmtFinType1']].groupby(['BsmtQual','BsmtFinType1']).agg(pd.Series.mode))\n",
    "df['BsmtCond']=df['BsmtCond'].fillna('TA')"
   ]
  },
  {
   "cell_type": "code",
   "execution_count": 18,
   "metadata": {},
   "outputs": [
    {
     "name": "stdout",
     "output_type": "stream",
     "text": [
      "     BsmtExposure BsmtCond BsmtQual BsmtFinType2 BsmtFinType1\n",
      "Id                                                           \n",
      "949           NaN       TA       Gd          Unf          Unf\n",
      "1488          NaN       TA       Gd          Unf          Unf\n",
      "2349          NaN       TA       Gd          Unf          Unf\n",
      "                      BsmtExposure\n",
      "BsmtQual BsmtFinType1             \n",
      "Ex       ALQ                    No\n",
      "         BLQ                    Mn\n",
      "         GLQ                    Gd\n",
      "         LwQ              [Mn, No]\n",
      "         Rec              [Av, Gd]\n",
      "         Unf                    No\n",
      "Fa       ALQ                    No\n",
      "         BLQ                    Mn\n",
      "         LwQ                    No\n",
      "         Rec                    No\n",
      "         Unf                    No\n",
      "Gd       ALQ                    No\n",
      "         BLQ                    No\n",
      "         GLQ                    No\n",
      "         LwQ                    No\n",
      "         Rec                    No\n",
      "         Unf                    No\n",
      "TA       ALQ                    No\n",
      "         BLQ                    No\n",
      "         GLQ                    No\n",
      "         LwQ                    No\n",
      "         Rec                    No\n",
      "         Unf                    No\n"
     ]
    }
   ],
   "source": [
    "print(df[['BsmtExposure','BsmtCond','BsmtQual','BsmtFinType2','BsmtFinType1']][df['BsmtExposure'].isna() &df['BsmtFinType1'].notna()])\n",
    "print(df[['BsmtExposure','BsmtQual','BsmtFinType1']].groupby(['BsmtQual','BsmtFinType1']).agg(pd.Series.mode))\n",
    "df['BsmtExposure'][df['BsmtExposure'].isna() &df['BsmtFinType1'].notna()]=df['BsmtExposure'].fillna('No')"
   ]
  },
  {
   "cell_type": "code",
   "execution_count": 19,
   "metadata": {},
   "outputs": [
    {
     "name": "stdout",
     "output_type": "stream",
     "text": [
      "      TotalBsmtSF BsmtCond BsmtQual BsmtFinType2 BsmtFinType1\n",
      "Id                                                           \n",
      "2121          NaN       TA      NaN          NaN          NaN\n",
      "      TotalBsmtSF BsmtCond BsmtQual BsmtFinType2 BsmtFinType1\n",
      "Id                                                           \n",
      "2121          NaN       TA      NaN          NaN          NaN\n",
      "2189          0.0       TA      NaN          NaN          NaN\n",
      "      TotalBsmtSF BsmtCond BsmtQual BsmtFinType2 BsmtFinType1\n",
      "Id                                                           \n",
      "2121          NaN       TA      NaN          NaN          NaN\n",
      "2189          0.0       TA      NaN          NaN          NaN\n"
     ]
    }
   ],
   "source": [
    "print(df[['TotalBsmtSF','BsmtCond','BsmtQual','BsmtFinType2','BsmtFinType1']][df['BsmtUnfSF'].isna()])\n",
    "print(df[['TotalBsmtSF','BsmtCond','BsmtQual','BsmtFinType2','BsmtFinType1']][df['BsmtFullBath'].isna()])\n",
    "print(df[['TotalBsmtSF','BsmtCond','BsmtQual','BsmtFinType2','BsmtFinType1']][df['BsmtHalfBath'].isna()])\n",
    "\n",
    "#we'll fill in the rest with zero's and create a classifing dummy variable\n"
   ]
  },
  {
   "cell_type": "code",
   "execution_count": 20,
   "metadata": {},
   "outputs": [],
   "source": [
    "bsmt_var=['BsmtHalfBath','TotalBsmtSF','BsmtFullBath','BsmtExposure','BsmtUnfSF','BsmtCond','BsmtQual','BsmtFinType2','BsmtFinType1','BsmtFinSF1','BsmtFinSF2']\n",
    "for var in bsmt_var:\n",
    "    df[var]=df[var].fillna(0)\n",
    "\n",
    "df['HasBsmt']=df['TotalBsmtSF'].apply(lambda x: 0 if x==0 else 1)"
   ]
  },
  {
   "cell_type": "code",
   "execution_count": 21,
   "metadata": {},
   "outputs": [
    {
     "name": "stdout",
     "output_type": "stream",
     "text": [
      "OverallQual\n",
      "1     Fa\n",
      "2     TA\n",
      "3     TA\n",
      "4     TA\n",
      "5     TA\n",
      "6     TA\n",
      "7     Gd\n",
      "8     Gd\n",
      "9     Ex\n",
      "10    Ex\n",
      "Name: KitchenQual, dtype: object\n",
      "Id\n",
      "1556    5\n",
      "Name: OverallQual, dtype: int64\n"
     ]
    }
   ],
   "source": [
    "#other vars:\n",
    "print(df['KitchenQual'].groupby(df['OverallQual']).agg(pd.Series.mode))\n",
    "print(df['OverallQual'][df['KitchenQual'].isna()])\n",
    "df['KitchenQual']=df['KitchenQual'].fillna('TA')"
   ]
  },
  {
   "cell_type": "code",
   "execution_count": 22,
   "metadata": {},
   "outputs": [
    {
     "name": "stdout",
     "output_type": "stream",
     "text": [
      "     MSZoning Neighborhood\n",
      "Id                        \n",
      "1916      NaN       IDOTRR\n",
      "2217      NaN       IDOTRR\n",
      "2251      NaN       IDOTRR\n",
      "2905      NaN      Mitchel\n",
      "             MSZoning\n",
      "Neighborhood         \n",
      "Blmngtn            RL\n",
      "Blueste            RM\n",
      "BrDale             RM\n",
      "BrkSide            RM\n",
      "ClearCr            RL\n",
      "CollgCr            RL\n",
      "Crawfor            RL\n",
      "Edwards            RL\n",
      "Gilbert            RL\n",
      "IDOTRR             RM\n",
      "MeadowV            RM\n",
      "Mitchel            RL\n",
      "NAmes              RL\n",
      "NPkVill            RL\n",
      "NWAmes             RL\n",
      "NoRidge            RL\n",
      "NridgHt            RL\n",
      "OldTown            RM\n",
      "SWISU              RL\n",
      "Sawyer             RL\n",
      "SawyerW            RL\n",
      "Somerst            FV\n",
      "StoneBr            RL\n",
      "Timber             RL\n",
      "Veenker            RL\n"
     ]
    }
   ],
   "source": [
    "df.Electrical=df.Electrical.fillna(df.Electrical.value_counts()[0])\n",
    "df.Exterior1st=df.Exterior1st.fillna(df.Exterior1st.value_counts()[0])\n",
    "df.Exterior2nd=df.Exterior2nd.fillna(df.Exterior2nd.value_counts()[0])\n",
    "df.SaleType=df.SaleType.fillna(df.SaleType.value_counts()[0])\n",
    "df.Utilities=df.Utilities.fillna(df.Utilities.value_counts()[0])\n",
    "df.Functional=df.Functional.fillna(df.Functional.value_counts()[0])\n",
    "\n",
    "print(df[['MSZoning','Neighborhood']][df['MSZoning'].isna()])\n",
    "print(df[['Neighborhood','MSZoning']].groupby('Neighborhood').agg(pd.Series.mode))\n",
    "df.loc[2905,'MSZoning']='RL'\n",
    "df.MSZoning=df.MSZoning.fillna('RM')"
   ]
  },
  {
   "cell_type": "code",
   "execution_count": 23,
   "metadata": {},
   "outputs": [
    {
     "name": "stdout",
     "output_type": "stream",
     "text": [
      "Series([], Name: Fireplaces, dtype: int64)\n",
      "Id\n",
      "2600    NaN\n",
      "Name: PoolQC, dtype: object\n"
     ]
    }
   ],
   "source": [
    "print(df['Fireplaces'][df['FireplaceQu'].isna() & df['Fireplaces']!=0])\n",
    "df['Fireplaces']=df['Fireplaces'].fillna(0)\n",
    "df['FireplaceQu']=df['FireplaceQu'].fillna(0)\n",
    "df['HasFireplaces']=df['Fireplaces'].apply(lambda x: 0 if x==0 else 1)\n",
    "\n",
    "print(df['PoolQC'][df['PoolQC'].isna() & df['PoolArea']!=0])\n",
    "df['PoolQC']=df['PoolQC'].fillna(0)\n",
    "\n",
    "df['HasPool']=df['PoolArea'].apply(lambda x: 0 if x==0 else 1)\n",
    "        \n",
    "df['Fence']=df['Fence'].fillna(0)\n",
    "df['HasFence']=df['Fence'].apply(lambda x: 0 if x==0 else 1)\n",
    "\n",
    "df['Alley']=df['Alley'].fillna(0)\n",
    "df['HasAlleyAccsess']=df['Alley'].apply(lambda x: 0 if x==0 else 1)\n",
    "        \n",
    "df['MiscFeature']=df['MiscFeature'].fillna(0) \n",
    "df=df.rename(columns = {'MiscFeature':'HasMiscFeature'})\n",
    "df['HasMiscFeature']=df['HasMiscFeature'].apply(lambda x: 0 if x==0 else 1)\n",
    "\n",
    "df[['LotFrontage','Neighborhood']][df.LotFrontage.isna()]\n",
    "lotneigh=df.LotFrontage.groupby(df.Neighborhood).mean()\n",
    "for id in df[['LotFrontage','Neighborhood']][df.LotFrontage.isna()].index:\n",
    "    neigh=df.loc[id,'Neighborhood']\n",
    "    df.loc[id,'LotFrontage']=lotneigh[neigh]\n"
   ]
  },
  {
   "cell_type": "markdown",
   "metadata": {},
   "source": [
    "we'll create some new binary features that help indicate on the existance of any special feuature"
   ]
  },
  {
   "cell_type": "code",
   "execution_count": 24,
   "metadata": {},
   "outputs": [
    {
     "ename": "KeyError",
     "evalue": "'MiscFeature'",
     "output_type": "error",
     "traceback": [
      "\u001b[1;31m---------------------------------------------------------------------------\u001b[0m",
      "\u001b[1;31mKeyError\u001b[0m                                  Traceback (most recent call last)",
      "\u001b[1;32mD:\\ProgramData\\Anaconda3\\lib\\site-packages\\pandas\\core\\indexes\\base.py\u001b[0m in \u001b[0;36mget_loc\u001b[1;34m(self, key, method, tolerance)\u001b[0m\n\u001b[0;32m   3077\u001b[0m             \u001b[1;32mtry\u001b[0m\u001b[1;33m:\u001b[0m\u001b[1;33m\u001b[0m\u001b[1;33m\u001b[0m\u001b[0m\n\u001b[1;32m-> 3078\u001b[1;33m                 \u001b[1;32mreturn\u001b[0m \u001b[0mself\u001b[0m\u001b[1;33m.\u001b[0m\u001b[0m_engine\u001b[0m\u001b[1;33m.\u001b[0m\u001b[0mget_loc\u001b[0m\u001b[1;33m(\u001b[0m\u001b[0mkey\u001b[0m\u001b[1;33m)\u001b[0m\u001b[1;33m\u001b[0m\u001b[1;33m\u001b[0m\u001b[0m\n\u001b[0m\u001b[0;32m   3079\u001b[0m             \u001b[1;32mexcept\u001b[0m \u001b[0mKeyError\u001b[0m\u001b[1;33m:\u001b[0m\u001b[1;33m\u001b[0m\u001b[1;33m\u001b[0m\u001b[0m\n",
      "\u001b[1;32mpandas\\_libs\\index.pyx\u001b[0m in \u001b[0;36mpandas._libs.index.IndexEngine.get_loc\u001b[1;34m()\u001b[0m\n",
      "\u001b[1;32mpandas\\_libs\\index.pyx\u001b[0m in \u001b[0;36mpandas._libs.index.IndexEngine.get_loc\u001b[1;34m()\u001b[0m\n",
      "\u001b[1;32mpandas\\_libs\\hashtable_class_helper.pxi\u001b[0m in \u001b[0;36mpandas._libs.hashtable.PyObjectHashTable.get_item\u001b[1;34m()\u001b[0m\n",
      "\u001b[1;32mpandas\\_libs\\hashtable_class_helper.pxi\u001b[0m in \u001b[0;36mpandas._libs.hashtable.PyObjectHashTable.get_item\u001b[1;34m()\u001b[0m\n",
      "\u001b[1;31mKeyError\u001b[0m: 'MiscFeature'",
      "\nDuring handling of the above exception, another exception occurred:\n",
      "\u001b[1;31mKeyError\u001b[0m                                  Traceback (most recent call last)",
      "\u001b[1;32m<ipython-input-24-96cf20ffc748>\u001b[0m in \u001b[0;36m<module>\u001b[1;34m\u001b[0m\n\u001b[0;32m      7\u001b[0m \u001b[0mdf\u001b[0m\u001b[1;33m[\u001b[0m\u001b[1;34m'HasAlleyAccsess'\u001b[0m\u001b[1;33m]\u001b[0m\u001b[1;33m=\u001b[0m\u001b[0mdf\u001b[0m\u001b[1;33m[\u001b[0m\u001b[1;34m'Alley'\u001b[0m\u001b[1;33m]\u001b[0m\u001b[1;33m.\u001b[0m\u001b[0mapply\u001b[0m\u001b[1;33m(\u001b[0m\u001b[1;32mlambda\u001b[0m \u001b[0mx\u001b[0m\u001b[1;33m:\u001b[0m \u001b[1;36m0\u001b[0m \u001b[1;32mif\u001b[0m \u001b[0mx\u001b[0m\u001b[1;33m==\u001b[0m\u001b[1;36m0\u001b[0m \u001b[1;32melse\u001b[0m \u001b[1;36m1\u001b[0m\u001b[1;33m)\u001b[0m\u001b[1;33m\u001b[0m\u001b[1;33m\u001b[0m\u001b[0m\n\u001b[0;32m      8\u001b[0m \u001b[1;33m\u001b[0m\u001b[0m\n\u001b[1;32m----> 9\u001b[1;33m \u001b[0mdf\u001b[0m\u001b[1;33m[\u001b[0m\u001b[1;34m'MiscFeature'\u001b[0m\u001b[1;33m]\u001b[0m\u001b[1;33m=\u001b[0m\u001b[0mdf\u001b[0m\u001b[1;33m[\u001b[0m\u001b[1;34m'MiscFeature'\u001b[0m\u001b[1;33m]\u001b[0m\u001b[1;33m.\u001b[0m\u001b[0mfillna\u001b[0m\u001b[1;33m(\u001b[0m\u001b[1;36m0\u001b[0m\u001b[1;33m)\u001b[0m\u001b[1;33m\u001b[0m\u001b[1;33m\u001b[0m\u001b[0m\n\u001b[0m\u001b[0;32m     10\u001b[0m \u001b[0mdf\u001b[0m\u001b[1;33m=\u001b[0m\u001b[0mdf\u001b[0m\u001b[1;33m.\u001b[0m\u001b[0mrename\u001b[0m\u001b[1;33m(\u001b[0m\u001b[0mcolumns\u001b[0m \u001b[1;33m=\u001b[0m \u001b[1;33m{\u001b[0m\u001b[1;34m'MiscFeature'\u001b[0m\u001b[1;33m:\u001b[0m\u001b[1;34m'HasMiscFeature'\u001b[0m\u001b[1;33m}\u001b[0m\u001b[1;33m)\u001b[0m\u001b[1;33m\u001b[0m\u001b[1;33m\u001b[0m\u001b[0m\n\u001b[0;32m     11\u001b[0m \u001b[0mdf\u001b[0m\u001b[1;33m[\u001b[0m\u001b[1;34m'HasMiscFeature'\u001b[0m\u001b[1;33m]\u001b[0m\u001b[1;33m=\u001b[0m\u001b[0mdf\u001b[0m\u001b[1;33m[\u001b[0m\u001b[1;34m'HasMiscFeature'\u001b[0m\u001b[1;33m]\u001b[0m\u001b[1;33m.\u001b[0m\u001b[0mapply\u001b[0m\u001b[1;33m(\u001b[0m\u001b[1;32mlambda\u001b[0m \u001b[0mx\u001b[0m\u001b[1;33m:\u001b[0m \u001b[1;36m0\u001b[0m \u001b[1;32mif\u001b[0m \u001b[0mx\u001b[0m\u001b[1;33m==\u001b[0m\u001b[1;36m0\u001b[0m \u001b[1;32melse\u001b[0m \u001b[1;36m1\u001b[0m\u001b[1;33m)\u001b[0m\u001b[1;33m\u001b[0m\u001b[1;33m\u001b[0m\u001b[0m\n",
      "\u001b[1;32mD:\\ProgramData\\Anaconda3\\lib\\site-packages\\pandas\\core\\frame.py\u001b[0m in \u001b[0;36m__getitem__\u001b[1;34m(self, key)\u001b[0m\n\u001b[0;32m   2686\u001b[0m             \u001b[1;32mreturn\u001b[0m \u001b[0mself\u001b[0m\u001b[1;33m.\u001b[0m\u001b[0m_getitem_multilevel\u001b[0m\u001b[1;33m(\u001b[0m\u001b[0mkey\u001b[0m\u001b[1;33m)\u001b[0m\u001b[1;33m\u001b[0m\u001b[1;33m\u001b[0m\u001b[0m\n\u001b[0;32m   2687\u001b[0m         \u001b[1;32melse\u001b[0m\u001b[1;33m:\u001b[0m\u001b[1;33m\u001b[0m\u001b[1;33m\u001b[0m\u001b[0m\n\u001b[1;32m-> 2688\u001b[1;33m             \u001b[1;32mreturn\u001b[0m \u001b[0mself\u001b[0m\u001b[1;33m.\u001b[0m\u001b[0m_getitem_column\u001b[0m\u001b[1;33m(\u001b[0m\u001b[0mkey\u001b[0m\u001b[1;33m)\u001b[0m\u001b[1;33m\u001b[0m\u001b[1;33m\u001b[0m\u001b[0m\n\u001b[0m\u001b[0;32m   2689\u001b[0m \u001b[1;33m\u001b[0m\u001b[0m\n\u001b[0;32m   2690\u001b[0m     \u001b[1;32mdef\u001b[0m \u001b[0m_getitem_column\u001b[0m\u001b[1;33m(\u001b[0m\u001b[0mself\u001b[0m\u001b[1;33m,\u001b[0m \u001b[0mkey\u001b[0m\u001b[1;33m)\u001b[0m\u001b[1;33m:\u001b[0m\u001b[1;33m\u001b[0m\u001b[1;33m\u001b[0m\u001b[0m\n",
      "\u001b[1;32mD:\\ProgramData\\Anaconda3\\lib\\site-packages\\pandas\\core\\frame.py\u001b[0m in \u001b[0;36m_getitem_column\u001b[1;34m(self, key)\u001b[0m\n\u001b[0;32m   2693\u001b[0m         \u001b[1;31m# get column\u001b[0m\u001b[1;33m\u001b[0m\u001b[1;33m\u001b[0m\u001b[1;33m\u001b[0m\u001b[0m\n\u001b[0;32m   2694\u001b[0m         \u001b[1;32mif\u001b[0m \u001b[0mself\u001b[0m\u001b[1;33m.\u001b[0m\u001b[0mcolumns\u001b[0m\u001b[1;33m.\u001b[0m\u001b[0mis_unique\u001b[0m\u001b[1;33m:\u001b[0m\u001b[1;33m\u001b[0m\u001b[1;33m\u001b[0m\u001b[0m\n\u001b[1;32m-> 2695\u001b[1;33m             \u001b[1;32mreturn\u001b[0m \u001b[0mself\u001b[0m\u001b[1;33m.\u001b[0m\u001b[0m_get_item_cache\u001b[0m\u001b[1;33m(\u001b[0m\u001b[0mkey\u001b[0m\u001b[1;33m)\u001b[0m\u001b[1;33m\u001b[0m\u001b[1;33m\u001b[0m\u001b[0m\n\u001b[0m\u001b[0;32m   2696\u001b[0m \u001b[1;33m\u001b[0m\u001b[0m\n\u001b[0;32m   2697\u001b[0m         \u001b[1;31m# duplicate columns & possible reduce dimensionality\u001b[0m\u001b[1;33m\u001b[0m\u001b[1;33m\u001b[0m\u001b[1;33m\u001b[0m\u001b[0m\n",
      "\u001b[1;32mD:\\ProgramData\\Anaconda3\\lib\\site-packages\\pandas\\core\\generic.py\u001b[0m in \u001b[0;36m_get_item_cache\u001b[1;34m(self, item)\u001b[0m\n\u001b[0;32m   2487\u001b[0m         \u001b[0mres\u001b[0m \u001b[1;33m=\u001b[0m \u001b[0mcache\u001b[0m\u001b[1;33m.\u001b[0m\u001b[0mget\u001b[0m\u001b[1;33m(\u001b[0m\u001b[0mitem\u001b[0m\u001b[1;33m)\u001b[0m\u001b[1;33m\u001b[0m\u001b[1;33m\u001b[0m\u001b[0m\n\u001b[0;32m   2488\u001b[0m         \u001b[1;32mif\u001b[0m \u001b[0mres\u001b[0m \u001b[1;32mis\u001b[0m \u001b[1;32mNone\u001b[0m\u001b[1;33m:\u001b[0m\u001b[1;33m\u001b[0m\u001b[1;33m\u001b[0m\u001b[0m\n\u001b[1;32m-> 2489\u001b[1;33m             \u001b[0mvalues\u001b[0m \u001b[1;33m=\u001b[0m \u001b[0mself\u001b[0m\u001b[1;33m.\u001b[0m\u001b[0m_data\u001b[0m\u001b[1;33m.\u001b[0m\u001b[0mget\u001b[0m\u001b[1;33m(\u001b[0m\u001b[0mitem\u001b[0m\u001b[1;33m)\u001b[0m\u001b[1;33m\u001b[0m\u001b[1;33m\u001b[0m\u001b[0m\n\u001b[0m\u001b[0;32m   2490\u001b[0m             \u001b[0mres\u001b[0m \u001b[1;33m=\u001b[0m \u001b[0mself\u001b[0m\u001b[1;33m.\u001b[0m\u001b[0m_box_item_values\u001b[0m\u001b[1;33m(\u001b[0m\u001b[0mitem\u001b[0m\u001b[1;33m,\u001b[0m \u001b[0mvalues\u001b[0m\u001b[1;33m)\u001b[0m\u001b[1;33m\u001b[0m\u001b[1;33m\u001b[0m\u001b[0m\n\u001b[0;32m   2491\u001b[0m             \u001b[0mcache\u001b[0m\u001b[1;33m[\u001b[0m\u001b[0mitem\u001b[0m\u001b[1;33m]\u001b[0m \u001b[1;33m=\u001b[0m \u001b[0mres\u001b[0m\u001b[1;33m\u001b[0m\u001b[1;33m\u001b[0m\u001b[0m\n",
      "\u001b[1;32mD:\\ProgramData\\Anaconda3\\lib\\site-packages\\pandas\\core\\internals.py\u001b[0m in \u001b[0;36mget\u001b[1;34m(self, item, fastpath)\u001b[0m\n\u001b[0;32m   4113\u001b[0m \u001b[1;33m\u001b[0m\u001b[0m\n\u001b[0;32m   4114\u001b[0m             \u001b[1;32mif\u001b[0m \u001b[1;32mnot\u001b[0m \u001b[0misna\u001b[0m\u001b[1;33m(\u001b[0m\u001b[0mitem\u001b[0m\u001b[1;33m)\u001b[0m\u001b[1;33m:\u001b[0m\u001b[1;33m\u001b[0m\u001b[1;33m\u001b[0m\u001b[0m\n\u001b[1;32m-> 4115\u001b[1;33m                 \u001b[0mloc\u001b[0m \u001b[1;33m=\u001b[0m \u001b[0mself\u001b[0m\u001b[1;33m.\u001b[0m\u001b[0mitems\u001b[0m\u001b[1;33m.\u001b[0m\u001b[0mget_loc\u001b[0m\u001b[1;33m(\u001b[0m\u001b[0mitem\u001b[0m\u001b[1;33m)\u001b[0m\u001b[1;33m\u001b[0m\u001b[1;33m\u001b[0m\u001b[0m\n\u001b[0m\u001b[0;32m   4116\u001b[0m             \u001b[1;32melse\u001b[0m\u001b[1;33m:\u001b[0m\u001b[1;33m\u001b[0m\u001b[1;33m\u001b[0m\u001b[0m\n\u001b[0;32m   4117\u001b[0m                 \u001b[0mindexer\u001b[0m \u001b[1;33m=\u001b[0m \u001b[0mnp\u001b[0m\u001b[1;33m.\u001b[0m\u001b[0marange\u001b[0m\u001b[1;33m(\u001b[0m\u001b[0mlen\u001b[0m\u001b[1;33m(\u001b[0m\u001b[0mself\u001b[0m\u001b[1;33m.\u001b[0m\u001b[0mitems\u001b[0m\u001b[1;33m)\u001b[0m\u001b[1;33m)\u001b[0m\u001b[1;33m[\u001b[0m\u001b[0misna\u001b[0m\u001b[1;33m(\u001b[0m\u001b[0mself\u001b[0m\u001b[1;33m.\u001b[0m\u001b[0mitems\u001b[0m\u001b[1;33m)\u001b[0m\u001b[1;33m]\u001b[0m\u001b[1;33m\u001b[0m\u001b[1;33m\u001b[0m\u001b[0m\n",
      "\u001b[1;32mD:\\ProgramData\\Anaconda3\\lib\\site-packages\\pandas\\core\\indexes\\base.py\u001b[0m in \u001b[0;36mget_loc\u001b[1;34m(self, key, method, tolerance)\u001b[0m\n\u001b[0;32m   3078\u001b[0m                 \u001b[1;32mreturn\u001b[0m \u001b[0mself\u001b[0m\u001b[1;33m.\u001b[0m\u001b[0m_engine\u001b[0m\u001b[1;33m.\u001b[0m\u001b[0mget_loc\u001b[0m\u001b[1;33m(\u001b[0m\u001b[0mkey\u001b[0m\u001b[1;33m)\u001b[0m\u001b[1;33m\u001b[0m\u001b[1;33m\u001b[0m\u001b[0m\n\u001b[0;32m   3079\u001b[0m             \u001b[1;32mexcept\u001b[0m \u001b[0mKeyError\u001b[0m\u001b[1;33m:\u001b[0m\u001b[1;33m\u001b[0m\u001b[1;33m\u001b[0m\u001b[0m\n\u001b[1;32m-> 3080\u001b[1;33m                 \u001b[1;32mreturn\u001b[0m \u001b[0mself\u001b[0m\u001b[1;33m.\u001b[0m\u001b[0m_engine\u001b[0m\u001b[1;33m.\u001b[0m\u001b[0mget_loc\u001b[0m\u001b[1;33m(\u001b[0m\u001b[0mself\u001b[0m\u001b[1;33m.\u001b[0m\u001b[0m_maybe_cast_indexer\u001b[0m\u001b[1;33m(\u001b[0m\u001b[0mkey\u001b[0m\u001b[1;33m)\u001b[0m\u001b[1;33m)\u001b[0m\u001b[1;33m\u001b[0m\u001b[1;33m\u001b[0m\u001b[0m\n\u001b[0m\u001b[0;32m   3081\u001b[0m \u001b[1;33m\u001b[0m\u001b[0m\n\u001b[0;32m   3082\u001b[0m         \u001b[0mindexer\u001b[0m \u001b[1;33m=\u001b[0m \u001b[0mself\u001b[0m\u001b[1;33m.\u001b[0m\u001b[0mget_indexer\u001b[0m\u001b[1;33m(\u001b[0m\u001b[1;33m[\u001b[0m\u001b[0mkey\u001b[0m\u001b[1;33m]\u001b[0m\u001b[1;33m,\u001b[0m \u001b[0mmethod\u001b[0m\u001b[1;33m=\u001b[0m\u001b[0mmethod\u001b[0m\u001b[1;33m,\u001b[0m \u001b[0mtolerance\u001b[0m\u001b[1;33m=\u001b[0m\u001b[0mtolerance\u001b[0m\u001b[1;33m)\u001b[0m\u001b[1;33m\u001b[0m\u001b[1;33m\u001b[0m\u001b[0m\n",
      "\u001b[1;32mpandas\\_libs\\index.pyx\u001b[0m in \u001b[0;36mpandas._libs.index.IndexEngine.get_loc\u001b[1;34m()\u001b[0m\n",
      "\u001b[1;32mpandas\\_libs\\index.pyx\u001b[0m in \u001b[0;36mpandas._libs.index.IndexEngine.get_loc\u001b[1;34m()\u001b[0m\n",
      "\u001b[1;32mpandas\\_libs\\hashtable_class_helper.pxi\u001b[0m in \u001b[0;36mpandas._libs.hashtable.PyObjectHashTable.get_item\u001b[1;34m()\u001b[0m\n",
      "\u001b[1;32mpandas\\_libs\\hashtable_class_helper.pxi\u001b[0m in \u001b[0;36mpandas._libs.hashtable.PyObjectHashTable.get_item\u001b[1;34m()\u001b[0m\n",
      "\u001b[1;31mKeyError\u001b[0m: 'MiscFeature'"
     ]
    }
   ],
   "source": [
    "df['HasPool']=df['PoolArea'].apply(lambda x: 0 if x==0 else 1)\n",
    "        \n",
    "df['Fence']=df['Fence'].fillna(0)\n",
    "df['HasFence']=df['Fence'].apply(lambda x: 0 if x==0 else 1)\n",
    "\n",
    "df['Alley']=df['Alley'].fillna(0)\n",
    "df['HasAlleyAccsess']=df['Alley'].apply(lambda x: 0 if x==0 else 1)\n",
    "        \n",
    "df['MiscFeature']=df['MiscFeature'].fillna(0) \n",
    "df=df.rename(columns = {'MiscFeature':'HasMiscFeature'})\n",
    "df['HasMiscFeature']=df['HasMiscFeature'].apply(lambda x: 0 if x==0 else 1)"
   ]
  },
  {
   "cell_type": "code",
   "execution_count": 25,
   "metadata": {},
   "outputs": [
    {
     "name": "stdout",
     "output_type": "stream",
     "text": [
      "0.0       1738\n",
      "120.0       15\n",
      "200.0       13\n",
      "176.0       13\n",
      "216.0       12\n",
      "180.0       12\n",
      "144.0       11\n",
      "72.0        11\n",
      "108.0       11\n",
      "16.0        11\n",
      "340.0       10\n",
      "210.0        9\n",
      "128.0        9\n",
      "196.0        9\n",
      "80.0         9\n",
      "256.0        8\n",
      "40.0         8\n",
      "302.0        8\n",
      "178.0        8\n",
      "132.0        8\n",
      "170.0        8\n",
      "300.0        7\n",
      "140.0        7\n",
      "60.0         7\n",
      "44.0         7\n",
      "174.0        7\n",
      "76.0         7\n",
      "320.0        7\n",
      "270.0        7\n",
      "240.0        7\n",
      "          ... \n",
      "481.0        1\n",
      "235.0        1\n",
      "860.0        1\n",
      "355.0        1\n",
      "734.0        1\n",
      "109.0        1\n",
      "426.0        1\n",
      "692.0        1\n",
      "406.0        1\n",
      "418.0        1\n",
      "400.0        1\n",
      "64.0         1\n",
      "207.0        1\n",
      "397.0        1\n",
      "1095.0       1\n",
      "299.0        1\n",
      "223.0        1\n",
      "562.0        1\n",
      "412.0        1\n",
      "225.0        1\n",
      "175.0        1\n",
      "495.0        1\n",
      "127.0        1\n",
      "388.0        1\n",
      "518.0        1\n",
      "348.0        1\n",
      "470.0        1\n",
      "229.0        1\n",
      "760.0        1\n",
      "217.0        1\n",
      "Name: MasVnrArea, Length: 442, dtype: int64\n"
     ]
    }
   ],
   "source": [
    "print(df.MasVnrArea.value_counts().sort_values(ascending=False))\n",
    "df[['MasVnrType','MasVnrArea']][df.MasVnrType.isna() & df.MasVnrArea.notna()]='BrkFace'\n",
    "df.MasVnrType=df.MasVnrType.fillna('None')\n",
    "df.MasVnrArea=df.MasVnrArea.fillna(0)\n"
   ]
  },
  {
   "cell_type": "code",
   "execution_count": 26,
   "metadata": {},
   "outputs": [
    {
     "name": "stdout",
     "output_type": "stream",
     "text": [
      "SalePrice    1459\n",
      "dtype: int64\n"
     ]
    }
   ],
   "source": [
    "null_sum=df.isna().sum().sort_values(ascending=False)\n",
    "null_sum=null_sum[null_sum!=0]\n",
    "print(null_sum)"
   ]
  },
  {
   "cell_type": "markdown",
   "metadata": {},
   "source": [
    "Feature type seperation and Factorization"
   ]
  },
  {
   "cell_type": "code",
   "execution_count": 27,
   "metadata": {},
   "outputs": [
    {
     "name": "stdout",
     "output_type": "stream",
     "text": [
      "(2917, 44)\n",
      "        MSSubClass  LotFrontage        LotArea  OverallQual  OverallCond  \\\n",
      "count  2917.000000  2917.000000    2917.000000  2917.000000  2917.000000   \n",
      "mean     57.135756    69.848739   10139.439150     6.086390     5.564964   \n",
      "std      42.532140    21.227945    7807.036512     1.406704     1.113414   \n",
      "min      20.000000    21.000000    1300.000000     1.000000     1.000000   \n",
      "25%      20.000000    60.000000    7476.000000     5.000000     5.000000   \n",
      "50%      50.000000    70.000000    9452.000000     6.000000     5.000000   \n",
      "75%      70.000000    80.000000   11556.000000     7.000000     6.000000   \n",
      "max     190.000000   313.000000  215245.000000    10.000000     9.000000   \n",
      "\n",
      "         YearBuilt  YearRemodAdd   MasVnrArea   BsmtFinSF1   BsmtFinSF2  \\\n",
      "count  2917.000000   2917.000000  2917.000000  2917.000000  2917.000000   \n",
      "mean   1971.287967   1984.248200   100.931436   438.864930    49.599246   \n",
      "std      30.286991     20.892257   178.032499   444.180542   169.232130   \n",
      "min    1872.000000   1950.000000     0.000000     0.000000     0.000000   \n",
      "25%    1953.000000   1965.000000     0.000000     0.000000     0.000000   \n",
      "50%    1973.000000   1993.000000     0.000000   368.000000     0.000000   \n",
      "75%    2001.000000   2004.000000   163.000000   733.000000     0.000000   \n",
      "max    2010.000000   2010.000000  1600.000000  4010.000000  1526.000000   \n",
      "\n",
      "            ...              MiscVal       MoSold       YrSold      SalePrice  \\\n",
      "count       ...          2917.000000  2917.000000  2917.000000    1458.000000   \n",
      "mean        ...            50.860816     6.213576  2007.792938  180932.919067   \n",
      "std         ...           567.595198     2.713070     1.315328   79495.055285   \n",
      "min         ...             0.000000     1.000000  2006.000000   34900.000000   \n",
      "25%         ...             0.000000     4.000000  2007.000000  129925.000000   \n",
      "50%         ...             0.000000     6.000000  2008.000000  163000.000000   \n",
      "75%         ...             0.000000     8.000000  2009.000000  214000.000000   \n",
      "max         ...         17000.000000    12.000000  2010.000000  755000.000000   \n",
      "\n",
      "         HasGarage      HasBsmt  HasFireplaces      HasPool     HasFence  \\\n",
      "count  2917.000000  2917.000000    2917.000000  2917.000000  2917.000000   \n",
      "mean      0.946178     0.972917       0.513198     0.004114     0.195749   \n",
      "std       0.225706     0.162352       0.499911     0.064018     0.396844   \n",
      "min       0.000000     0.000000       0.000000     0.000000     0.000000   \n",
      "25%       1.000000     1.000000       0.000000     0.000000     0.000000   \n",
      "50%       1.000000     1.000000       1.000000     0.000000     0.000000   \n",
      "75%       1.000000     1.000000       1.000000     0.000000     0.000000   \n",
      "max       1.000000     1.000000       1.000000     1.000000     1.000000   \n",
      "\n",
      "       HasAlleyAccsess  \n",
      "count      2917.000000  \n",
      "mean          0.067878  \n",
      "std           0.251579  \n",
      "min           0.000000  \n",
      "25%           0.000000  \n",
      "50%           0.000000  \n",
      "75%           0.000000  \n",
      "max           1.000000  \n",
      "\n",
      "[8 rows x 44 columns]\n",
      "(2917, 42)\n",
      "<bound method DataFrame.info of      MSZoning Street Alley LotShape LandContour Utilities LotConfig LandSlope  \\\n",
      "Id                                                                              \n",
      "1          RL   Pave     0      Reg         Lvl    AllPub    Inside       Gtl   \n",
      "2          RL   Pave     0      Reg         Lvl    AllPub       FR2       Gtl   \n",
      "3          RL   Pave     0      IR1         Lvl    AllPub    Inside       Gtl   \n",
      "4          RL   Pave     0      IR1         Lvl    AllPub    Corner       Gtl   \n",
      "5          RL   Pave     0      IR1         Lvl    AllPub       FR2       Gtl   \n",
      "6          RL   Pave     0      IR1         Lvl    AllPub    Inside       Gtl   \n",
      "7          RL   Pave     0      Reg         Lvl    AllPub    Inside       Gtl   \n",
      "8          RL   Pave     0      IR1         Lvl    AllPub    Corner       Gtl   \n",
      "9          RM   Pave     0      Reg         Lvl    AllPub    Inside       Gtl   \n",
      "10         RL   Pave     0      Reg         Lvl    AllPub    Corner       Gtl   \n",
      "11         RL   Pave     0      Reg         Lvl    AllPub    Inside       Gtl   \n",
      "12         RL   Pave     0      IR1         Lvl    AllPub    Inside       Gtl   \n",
      "13         RL   Pave     0      IR2         Lvl    AllPub    Inside       Gtl   \n",
      "14         RL   Pave     0      IR1         Lvl    AllPub    Inside       Gtl   \n",
      "15         RL   Pave     0      IR1         Lvl    AllPub    Corner       Gtl   \n",
      "16         RM   Pave     0      Reg         Lvl    AllPub    Corner       Gtl   \n",
      "17         RL   Pave     0      IR1         Lvl    AllPub   CulDSac       Gtl   \n",
      "18         RL   Pave     0      Reg         Lvl    AllPub    Inside       Gtl   \n",
      "19         RL   Pave     0      Reg         Lvl    AllPub    Inside       Gtl   \n",
      "20         RL   Pave     0      Reg         Lvl    AllPub    Inside       Gtl   \n",
      "21         RL   Pave     0      IR1         Lvl    AllPub    Corner       Gtl   \n",
      "22         RM   Pave  Grvl      Reg         Bnk    AllPub    Inside       Gtl   \n",
      "23         RL   Pave     0      Reg         Lvl    AllPub    Inside       Gtl   \n",
      "24         RM   Pave     0      Reg         Lvl    AllPub    Inside       Gtl   \n",
      "25         RL   Pave     0      IR1         Lvl    AllPub    Inside       Gtl   \n",
      "26         RL   Pave     0      Reg         Lvl    AllPub    Corner       Gtl   \n",
      "27         RL   Pave     0      Reg         Lvl    AllPub    Corner       Gtl   \n",
      "28         RL   Pave     0      Reg         Lvl    AllPub    Inside       Gtl   \n",
      "29         RL   Pave     0      IR1         Lvl    AllPub   CulDSac       Gtl   \n",
      "30         RM   Pave     0      IR1         Lvl    AllPub    Inside       Gtl   \n",
      "...       ...    ...   ...      ...         ...       ...       ...       ...   \n",
      "2890       RM   Pave     0      Reg         Lvl    AllPub    Inside       Gtl   \n",
      "2891       RM   Pave     0      Reg         Lvl    AllPub    Inside       Gtl   \n",
      "2892  C (all)   Pave     0      Reg         Lvl    AllPub    Inside       Gtl   \n",
      "2893  C (all)   Pave     0      Reg         Lvl    AllPub    Inside       Gtl   \n",
      "2894  C (all)   Grvl     0      Reg         Bnk    AllPub    Inside       Gtl   \n",
      "2895       RM   Pave     0      IR1         HLS    AllPub    Inside       Mod   \n",
      "2896       RM   Pave     0      IR1         HLS    AllPub    Inside       Mod   \n",
      "2897       RL   Pave     0      IR1         Lvl    AllPub    Inside       Mod   \n",
      "2898       RL   Pave     0      Reg         Lvl    AllPub    Inside       Gtl   \n",
      "2899       RL   Pave     0      Reg         Lvl    AllPub    Corner       Gtl   \n",
      "2900       RL   Pave     0      Reg         Lvl    AllPub    Corner       Gtl   \n",
      "2901       RL   Pave     0      IR1         Low    AllPub    Inside       Mod   \n",
      "2902       RL   Pave     0      IR1         Lvl    AllPub    Inside       Gtl   \n",
      "2903       RL   Pave     0      Reg         Lvl    AllPub    Corner       Gtl   \n",
      "2904       RL   Pave     0      Reg         Lvl    AllPub    Inside       Gtl   \n",
      "2905       RL   Pave     0      Reg         Lvl    AllPub    Inside       Gtl   \n",
      "2906       RM   Pave     0      Reg         Lvl    AllPub    Inside       Gtl   \n",
      "2907       RM   Pave     0      Reg         Lvl    AllPub    Inside       Gtl   \n",
      "2908       RL   Pave     0      IR1         Lvl    AllPub    Inside       Gtl   \n",
      "2909       RL   Pave     0      IR1         Lvl    AllPub    Corner       Gtl   \n",
      "2910       RM   Pave     0      Reg         Lvl    AllPub    Inside       Gtl   \n",
      "2911       RM   Pave     0      Reg         Lvl    AllPub    Inside       Gtl   \n",
      "2912       RL   Pave     0      Reg         Lvl    AllPub    Inside       Mod   \n",
      "2913       RM   Pave     0      Reg         Lvl    AllPub    Inside       Gtl   \n",
      "2914       RM   Pave     0      Reg         Lvl    AllPub    Inside       Gtl   \n",
      "2915       RM   Pave     0      Reg         Lvl    AllPub    Inside       Gtl   \n",
      "2916       RM   Pave     0      Reg         Lvl    AllPub    Inside       Gtl   \n",
      "2917       RL   Pave     0      Reg         Lvl    AllPub    Inside       Gtl   \n",
      "2918       RL   Pave     0      Reg         Lvl    AllPub    Inside       Gtl   \n",
      "2919       RL   Pave     0      Reg         Lvl    AllPub    Inside       Mod   \n",
      "\n",
      "     Neighborhood Condition1      ...      FireplaceQu GarageType  \\\n",
      "Id                                ...                               \n",
      "1         CollgCr       Norm      ...                0     Attchd   \n",
      "2         Veenker      Feedr      ...               TA     Attchd   \n",
      "3         CollgCr       Norm      ...               TA     Attchd   \n",
      "4         Crawfor       Norm      ...               Gd     Detchd   \n",
      "5         NoRidge       Norm      ...               TA     Attchd   \n",
      "6         Mitchel       Norm      ...                0     Attchd   \n",
      "7         Somerst       Norm      ...               Gd     Attchd   \n",
      "8          NWAmes       PosN      ...               TA     Attchd   \n",
      "9         OldTown     Artery      ...               TA     Detchd   \n",
      "10        BrkSide     Artery      ...               TA     Attchd   \n",
      "11         Sawyer       Norm      ...                0     Detchd   \n",
      "12        NridgHt       Norm      ...               Gd    BuiltIn   \n",
      "13         Sawyer       Norm      ...                0     Detchd   \n",
      "14        CollgCr       Norm      ...               Gd     Attchd   \n",
      "15          NAmes       Norm      ...               Fa     Attchd   \n",
      "16        BrkSide       Norm      ...                0     Detchd   \n",
      "17          NAmes       Norm      ...               TA     Attchd   \n",
      "18         Sawyer       Norm      ...                0    CarPort   \n",
      "19        SawyerW       RRAe      ...                0     Detchd   \n",
      "20          NAmes       Norm      ...                0     Attchd   \n",
      "21        NridgHt       Norm      ...               Gd    BuiltIn   \n",
      "22         IDOTRR       Norm      ...               Gd     Attchd   \n",
      "23        CollgCr       Norm      ...               Gd     Attchd   \n",
      "24        MeadowV       Norm      ...               TA     Attchd   \n",
      "25         Sawyer       Norm      ...               TA     Attchd   \n",
      "26        NridgHt       Norm      ...               Gd     Attchd   \n",
      "27          NAmes       Norm      ...                0     Detchd   \n",
      "28        NridgHt       Norm      ...               Gd     Attchd   \n",
      "29          NAmes       Norm      ...               Gd     Attchd   \n",
      "30        BrkSide      Feedr      ...                0     Detchd   \n",
      "...           ...        ...      ...              ...        ...   \n",
      "2890       IDOTRR       Norm      ...                0     Detchd   \n",
      "2891       IDOTRR       Norm      ...                0     Detchd   \n",
      "2892       IDOTRR      Feedr      ...                0          0   \n",
      "2893       IDOTRR       Norm      ...                0          0   \n",
      "2894       IDOTRR       Norm      ...                0          0   \n",
      "2895      Crawfor       Norm      ...               Gd     Attchd   \n",
      "2896      Crawfor       Norm      ...               Gd     Attchd   \n",
      "2897      Mitchel       Norm      ...               TA     Attchd   \n",
      "2898      Mitchel       Norm      ...                0     2Types   \n",
      "2899      Mitchel       Norm      ...                0     Attchd   \n",
      "2900      Mitchel       Norm      ...                0     Attchd   \n",
      "2901       Timber       Norm      ...               Gd     Attchd   \n",
      "2902       Timber       Norm      ...                0     Attchd   \n",
      "2903       Timber       Norm      ...               Gd     Attchd   \n",
      "2904       Timber       Norm      ...               Gd     Attchd   \n",
      "2905      Mitchel     Artery      ...                0     Attchd   \n",
      "2906      Mitchel       Norm      ...                0     Attchd   \n",
      "2907      MeadowV       Norm      ...               TA    BuiltIn   \n",
      "2908      Mitchel       Norm      ...                0     Attchd   \n",
      "2909      Mitchel       Norm      ...                0     2Types   \n",
      "2910      MeadowV       Norm      ...                0          0   \n",
      "2911      MeadowV       Norm      ...                0     Attchd   \n",
      "2912      Mitchel       Norm      ...               TA     Attchd   \n",
      "2913      MeadowV       Norm      ...                0    CarPort   \n",
      "2914      MeadowV       Norm      ...                0          0   \n",
      "2915      MeadowV       Norm      ...                0          0   \n",
      "2916      MeadowV       Norm      ...                0    CarPort   \n",
      "2917      Mitchel       Norm      ...               TA     Detchd   \n",
      "2918      Mitchel       Norm      ...                0          0   \n",
      "2919      Mitchel       Norm      ...               TA     Attchd   \n",
      "\n",
      "     GarageFinish GarageQual GarageCond PavedDrive PoolQC  Fence SaleType  \\\n",
      "Id                                                                          \n",
      "1             RFn         TA         TA          Y      0      0       WD   \n",
      "2             RFn         TA         TA          Y      0      0       WD   \n",
      "3             RFn         TA         TA          Y      0      0       WD   \n",
      "4             Unf         TA         TA          Y      0      0       WD   \n",
      "5             RFn         TA         TA          Y      0      0       WD   \n",
      "6             Unf         TA         TA          Y      0  MnPrv       WD   \n",
      "7             RFn         TA         TA          Y      0      0       WD   \n",
      "8             RFn         TA         TA          Y      0      0       WD   \n",
      "9             Unf         Fa         TA          Y      0      0       WD   \n",
      "10            RFn         Gd         TA          Y      0      0       WD   \n",
      "11            Unf         TA         TA          Y      0      0       WD   \n",
      "12            Fin         TA         TA          Y      0      0      New   \n",
      "13            Unf         TA         TA          Y      0      0       WD   \n",
      "14            RFn         TA         TA          Y      0      0      New   \n",
      "15            RFn         TA         TA          Y      0   GdWo       WD   \n",
      "16            Unf         TA         TA          Y      0  GdPrv       WD   \n",
      "17            Fin         TA         TA          Y      0      0       WD   \n",
      "18            Unf         TA         TA          Y      0      0       WD   \n",
      "19            Unf         TA         TA          Y      0      0       WD   \n",
      "20            Unf         TA         TA          Y      0  MnPrv      COD   \n",
      "21            RFn         TA         TA          Y      0      0      New   \n",
      "22            Unf         TA         TA          N      0  GdPrv       WD   \n",
      "23            RFn         TA         TA          Y      0      0       WD   \n",
      "24            Unf         TA         TA          Y      0      0       WD   \n",
      "25            Unf         TA         TA          Y      0  MnPrv       WD   \n",
      "26            RFn         TA         TA          Y      0      0       WD   \n",
      "27            Unf         TA         TA          Y      0      0       WD   \n",
      "28            RFn         TA         TA          Y      0      0       WD   \n",
      "29            RFn         TA         TA          Y      0      0       WD   \n",
      "30            Unf         Fa         TA          Y      0      0       WD   \n",
      "...           ...        ...        ...        ...    ...    ...      ...   \n",
      "2890          Unf         TA         TA          N      0  MnPrv       WD   \n",
      "2891          Unf         TA         TA          Y      0      0       WD   \n",
      "2892            0          0          0          N      0      0       WD   \n",
      "2893            0          0          0          Y      0      0       WD   \n",
      "2894            0          0          0          N      0      0       WD   \n",
      "2895          Fin         TA         TA          Y      0      0      New   \n",
      "2896          Fin         TA         TA          Y      0      0       WD   \n",
      "2897          Fin         TA         TA          Y      0      0       WD   \n",
      "2898          Unf         TA         TA          Y      0      0       WD   \n",
      "2899          RFn         TA         TA          Y      0      0       WD   \n",
      "2900          Unf         TA         TA          Y      0      0       WD   \n",
      "2901          Unf         TA         TA          Y      0      0       WD   \n",
      "2902          Unf         TA         TA          Y      0      0       WD   \n",
      "2903          Fin         TA         TA          Y      0      0      New   \n",
      "2904          Fin         TA         TA          Y      0      0      New   \n",
      "2905          Unf         Fa         TA          N      0      0       WD   \n",
      "2906          Fin         TA         TA          Y      0      0       WD   \n",
      "2907          RFn         TA         TA          Y      0      0       WD   \n",
      "2908          RFn         TA         TA          Y      0      0       WD   \n",
      "2909          Unf         TA         TA          Y      0      0       WD   \n",
      "2910            0          0          0          Y      0      0       WD   \n",
      "2911          Unf         TA         Fa          Y      0      0       WD   \n",
      "2912          RFn         TA         TA          Y      0      0       WD   \n",
      "2913          Unf         TA         TA          Y      0      0       WD   \n",
      "2914            0          0          0          Y      0  GdPrv       WD   \n",
      "2915            0          0          0          Y      0      0       WD   \n",
      "2916          Unf         TA         TA          Y      0      0       WD   \n",
      "2917          Unf         TA         TA          Y      0      0       WD   \n",
      "2918            0          0          0          Y      0  MnPrv       WD   \n",
      "2919          Fin         TA         TA          Y      0      0       WD   \n",
      "\n",
      "     SaleCondition  \n",
      "Id                  \n",
      "1           Normal  \n",
      "2           Normal  \n",
      "3           Normal  \n",
      "4          Abnorml  \n",
      "5           Normal  \n",
      "6           Normal  \n",
      "7           Normal  \n",
      "8           Normal  \n",
      "9          Abnorml  \n",
      "10          Normal  \n",
      "11          Normal  \n",
      "12         Partial  \n",
      "13          Normal  \n",
      "14         Partial  \n",
      "15          Normal  \n",
      "16          Normal  \n",
      "17          Normal  \n",
      "18          Normal  \n",
      "19          Normal  \n",
      "20         Abnorml  \n",
      "21         Partial  \n",
      "22          Normal  \n",
      "23          Normal  \n",
      "24          Normal  \n",
      "25          Normal  \n",
      "26          Normal  \n",
      "27          Normal  \n",
      "28          Normal  \n",
      "29          Normal  \n",
      "30          Normal  \n",
      "...            ...  \n",
      "2890        Normal  \n",
      "2891        Normal  \n",
      "2892       Abnorml  \n",
      "2893       Abnorml  \n",
      "2894        Normal  \n",
      "2895       Partial  \n",
      "2896        Normal  \n",
      "2897        Normal  \n",
      "2898        Normal  \n",
      "2899        Normal  \n",
      "2900        Normal  \n",
      "2901        Alloca  \n",
      "2902        Normal  \n",
      "2903       Partial  \n",
      "2904       Partial  \n",
      "2905        Normal  \n",
      "2906        Normal  \n",
      "2907        Normal  \n",
      "2908        Normal  \n",
      "2909        Normal  \n",
      "2910        Normal  \n",
      "2911        Normal  \n",
      "2912        Normal  \n",
      "2913       Abnorml  \n",
      "2914        Normal  \n",
      "2915        Normal  \n",
      "2916       Abnorml  \n",
      "2917       Abnorml  \n",
      "2918        Normal  \n",
      "2919        Normal  \n",
      "\n",
      "[2917 rows x 42 columns]>\n"
     ]
    },
    {
     "name": "stdout",
     "output_type": "stream",
     "text": [
      "<class 'pandas.core.frame.DataFrame'>\n",
      "Int64Index: 2917 entries, 1 to 2919\n",
      "Data columns (total 53 columns):\n",
      "MSZoning           2917 non-null category\n",
      "Street             2917 non-null category\n",
      "Alley              2917 non-null category\n",
      "LotShape           2917 non-null category\n",
      "LandContour        2917 non-null category\n",
      "Utilities          2917 non-null category\n",
      "LotConfig          2917 non-null category\n",
      "LandSlope          2917 non-null category\n",
      "Neighborhood       2917 non-null category\n",
      "Condition1         2917 non-null category\n",
      "Condition2         2917 non-null category\n",
      "BldgType           2917 non-null category\n",
      "HouseStyle         2917 non-null category\n",
      "RoofStyle          2917 non-null category\n",
      "RoofMatl           2917 non-null category\n",
      "Exterior1st        2917 non-null category\n",
      "Exterior2nd        2917 non-null category\n",
      "MasVnrType         2917 non-null category\n",
      "ExterQual          2917 non-null category\n",
      "ExterCond          2917 non-null category\n",
      "Foundation         2917 non-null category\n",
      "BsmtQual           2917 non-null category\n",
      "BsmtCond           2917 non-null category\n",
      "BsmtExposure       2917 non-null category\n",
      "BsmtFinType1       2917 non-null category\n",
      "BsmtFinType2       2917 non-null category\n",
      "Heating            2917 non-null category\n",
      "HeatingQC          2917 non-null category\n",
      "CentralAir         2917 non-null category\n",
      "Electrical         2917 non-null category\n",
      "KitchenQual        2917 non-null category\n",
      "Functional         2917 non-null category\n",
      "FireplaceQu        2917 non-null category\n",
      "GarageType         2917 non-null category\n",
      "GarageFinish       2917 non-null category\n",
      "GarageQual         2917 non-null category\n",
      "GarageCond         2917 non-null category\n",
      "PavedDrive         2917 non-null category\n",
      "PoolQC             2917 non-null category\n",
      "Fence              2917 non-null category\n",
      "SaleType           2917 non-null category\n",
      "SaleCondition      2917 non-null category\n",
      "HasFireplaces      2917 non-null category\n",
      "GarageYrBlt        2917 non-null category\n",
      "MSSubClass         2917 non-null category\n",
      "HasMiscFeature     2917 non-null category\n",
      "MoSold             2917 non-null category\n",
      "YrSold             2917 non-null category\n",
      "HasGarage          2917 non-null category\n",
      "HasBsmt            2917 non-null category\n",
      "HasPool            2917 non-null category\n",
      "HasFence           2917 non-null category\n",
      "HasAlleyAccsess    2917 non-null category\n",
      "dtypes: category(53)\n",
      "memory usage: 272.6 KB\n"
     ]
    }
   ],
   "source": [
    "#seperatin Categorical features and nums\n",
    "nums=df.select_dtypes(np.number)\n",
    "categories=df.select_dtypes(exclude=np.number)\n",
    "print(nums.shape)\n",
    "print(nums.describe())\n",
    "print(categories.shape)\n",
    "print(categories.info)\n",
    "\n",
    "\n",
    "#Factorization\n",
    "nums.columns\n",
    "fake_nums=['HasFireplaces','GarageYrBlt','MSSubClass','HasMiscFeature','MoSold','YrSold', 'HasGarage', 'HasBsmt', 'HasPool', 'HasFence', 'HasAlleyAccsess']\n",
    "fakes=nums[fake_nums]\n",
    "fakes=fakes.astype('object',copy=False)\n",
    "nums=nums.drop(fake_nums,axis=1)\n",
    "categories=pd.concat([categories,fakes],axis=1)\n",
    "categories=categories.astype('category',copy=False)\n",
    "categories.info()"
   ]
  },
  {
   "cell_type": "code",
   "execution_count": 28,
   "metadata": {},
   "outputs": [
    {
     "name": "stdout",
     "output_type": "stream",
     "text": [
      "Street            0.995886\n",
      "Utilities         0.998972\n",
      "LandSlope         0.951663\n",
      "Condition2        0.990058\n",
      "RoofMatl          0.985602\n",
      "Heating           0.984573\n",
      "LowQualFinSF      0.986287\n",
      "KitchenAbvGr      0.954062\n",
      "3SsnPorch         0.987316\n",
      "PoolArea          0.995886\n",
      "PoolQC            0.996915\n",
      "HasMiscFeature    0.964004\n",
      "MiscVal           0.964690\n",
      "HasBsmt           0.972917\n",
      "HasPool           0.995886\n",
      "dtype: float64\n"
     ]
    }
   ],
   "source": [
    "mode_freq={}\n",
    "for var in df.columns:\n",
    "    freq=df[var].value_counts()[df[var].mode()[0]]/len(df[var])\n",
    "    mode_freq[var]=freq\n",
    "freq=pd.Series(mode_freq,index=mode_freq.keys())\n",
    "unvaried=freq[freq>=0.95]\n",
    "print(unvaried)\n",
    "df=df.drop(unvaried.index,axis=1)#unifing repetative fetures\n"
   ]
  },
  {
   "cell_type": "code",
   "execution_count": 29,
   "metadata": {},
   "outputs": [
    {
     "data": {
      "text/plain": [
       "<matplotlib.axes._subplots.AxesSubplot at 0x1f406f28390>"
      ]
     },
     "execution_count": 29,
     "metadata": {},
     "output_type": "execute_result"
    },
    {
     "data": {
      "image/png": "[encoded data removed]",
      "text/plain": [
       "<Figure size 432x360 with 2 Axes>"
      ]
     },
     "metadata": {
      "needs_background": "light"
     },
     "output_type": "display_data"
    }
   ],
   "source": [
    "inner=nums.corr()\n",
    "high_colinear=inner[inner>.75]\n",
    "high_colinear.replace(to_replace=1,value=np.nan,inplace=True)\n",
    "high_colinear=high_colinear.dropna(how='all',axis=1).dropna(how='all',axis=0)\n",
    "colin_pairs=[]\n",
    "for column in high_colinear.columns:\n",
    "    row=high_colinear[column].idxmax()\n",
    "    colin_pairs.append([row,column])\n",
    "\n",
    "fig, ax = plt.subplots(figsize=(6,5))\n",
    "sns.heatmap(inner, annot=True, xticklabels=inner.columns, \n",
    "            yticklabels=inner.columns, ax=ax, linewidths=.5, \n",
    "            vmin = -1, vmax=1, center=0)\n"
   ]
  },
  {
   "cell_type": "code",
   "execution_count": 30,
   "metadata": {},
   "outputs": [
    {
     "data": {
      "text/plain": [
       "<matplotlib.axes._subplots.AxesSubplot at 0x1f4075e57f0>"
      ]
     },
     "execution_count": 30,
     "metadata": {},
     "output_type": "execute_result"
    },
    {
     "data": {
      "image/png": "[encoded data removed]",
      "text/plain": [
       "<Figure size 432x360 with 2 Axes>"
      ]
     },
     "metadata": {
      "needs_background": "light"
     },
     "output_type": "display_data"
    }
   ],
   "source": [
    "fig, ax = plt.subplots(figsize=(6,5))\n",
    "sns.heatmap(high_colinear, annot=True, xticklabels=high_colinear.columns, \n",
    "            yticklabels=high_colinear.columns, ax=ax, linewidths=.5, \n",
    "            vmin = -1, vmax=1, center=0)\n"
   ]
  },
  {
   "cell_type": "code",
   "execution_count": 31,
   "metadata": {},
   "outputs": [],
   "source": [
    "#we will create some new features and then get rid of the colineared ones\n",
    "\n",
    "vars=sorted(list(df.columns))\n",
    "df['TotalSF']=df['1stFlrSF']+df['2ndFlrSF']+df['GrLivArea']+df['BsmtFinSF1'] + df['BsmtFinSF2']\n",
    "df['TotalPorchSF']=df['OpenPorchSF']+df['EnclosedPorch']+df['ScreenPorch']\n",
    "df['TotalBath']=df['BsmtFullBath']+(df['BsmtHalfBath']*.5)+df['FullBath']+(df['HalfBath']*.5)\n",
    "df=df.drop(['EnclosedPorch','ScreenPorch','OpenPorchSF'],axis=1)\n",
    "df=df.drop(['BsmtFullBath','BsmtHalfBath','FullBath','HalfBath'],axis=1)\n",
    "df=df.drop(['GarageArea','1stFlrSF','TotRmsAbvGrd'],axis=1)"
   ]
  },
  {
   "cell_type": "code",
   "execution_count": 32,
   "metadata": {},
   "outputs": [
    {
     "name": "stdout",
     "output_type": "stream",
     "text": [
      "Index(['MiscVal', 'PoolArea', 'LotArea', 'LowQualFinSF', '3SsnPorch',\n",
      "       'KitchenAbvGr', 'BsmtFinSF2', 'EnclosedPorch', 'ScreenPorch',\n",
      "       'BsmtHalfBath', 'MasVnrArea', 'OpenPorchSF', 'SalePrice', 'WoodDeckSF',\n",
      "       '1stFlrSF', 'GrLivArea', 'LotFrontage', 'BsmtFinSF1', 'BsmtUnfSF',\n",
      "       '2ndFlrSF', 'TotRmsAbvGrd', 'Fireplaces', 'HalfBath', 'TotalBsmtSF',\n",
      "       'BsmtFullBath', 'OverallCond', 'YearBuilt'],\n",
      "      dtype='object')\n",
      "<class 'pandas.core.frame.DataFrame'>\n",
      "Int64Index: 2917 entries, 1 to 2919\n",
      "Data columns (total 27 columns):\n",
      "MiscVal          2917 non-null int64\n",
      "PoolArea         2917 non-null int64\n",
      "LotArea          2917 non-null int64\n",
      "LowQualFinSF     2917 non-null int64\n",
      "3SsnPorch        2917 non-null int64\n",
      "KitchenAbvGr     2917 non-null int64\n",
      "BsmtFinSF2       2917 non-null float64\n",
      "EnclosedPorch    2917 non-null int64\n",
      "ScreenPorch      2917 non-null int64\n",
      "BsmtHalfBath     2917 non-null float64\n",
      "MasVnrArea       2917 non-null float64\n",
      "OpenPorchSF      2917 non-null int64\n",
      "SalePrice        1458 non-null float64\n",
      "WoodDeckSF       2917 non-null int64\n",
      "1stFlrSF         2917 non-null int64\n",
      "GrLivArea        2917 non-null int64\n",
      "LotFrontage      2917 non-null float64\n",
      "BsmtFinSF1       2917 non-null float64\n",
      "BsmtUnfSF        2917 non-null float64\n",
      "2ndFlrSF         2917 non-null int64\n",
      "TotRmsAbvGrd     2917 non-null int64\n",
      "Fireplaces       2917 non-null int64\n",
      "HalfBath         2917 non-null int64\n",
      "TotalBsmtSF      2917 non-null float64\n",
      "BsmtFullBath     2917 non-null float64\n",
      "OverallCond      2917 non-null int64\n",
      "YearBuilt        2917 non-null int64\n",
      "dtypes: float64(9), int64(18)\n",
      "memory usage: 718.1 KB\n"
     ]
    }
   ],
   "source": [
    "#numeric values Skew exploration\n",
    "\n",
    "skewness=nums.skew(axis=0).sort_values(ascending=False)\n",
    "skewd_list=skewness[abs(skewness)>(0.5)].index\n",
    "print(skewd_list)\n",
    "skewd=nums[skewd_list]\n",
    "skewd.info()"
   ]
  },
  {
   "cell_type": "code",
   "execution_count": 33,
   "metadata": {},
   "outputs": [
    {
     "name": "stdout",
     "output_type": "stream",
     "text": [
      "MiscVal transformed\n",
      "PoolArea transformed\n",
      "LotArea transformed\n",
      "LowQualFinSF transformed\n",
      "3SsnPorch transformed\n",
      "KitchenAbvGr transformed\n",
      "BsmtFinSF2 transformed\n",
      "EnclosedPorch transformed\n",
      "ScreenPorch transformed\n",
      "BsmtHalfBath transformed\n",
      "MasVnrArea transformed\n",
      "OpenPorchSF transformed\n",
      "SalePrice transformed\n",
      "WoodDeckSF transformed\n",
      "1stFlrSF transformed\n",
      "GrLivArea transformed\n",
      "LotFrontage transformed\n",
      "BsmtFinSF1 transformed\n",
      "BsmtUnfSF transformed\n",
      "2ndFlrSF transformed\n",
      "TotRmsAbvGrd transformed\n",
      "Fireplaces transformed\n",
      "HalfBath transformed\n",
      "TotalBsmtSF transformed\n",
      "BsmtFullBath transformed\n",
      "OverallCond transformed\n",
      "YearBuilt transformed\n"
     ]
    }
   ],
   "source": [
    "for var in skewd.columns:\n",
    "    skewd[var]=np.log1p(skewd[var])\n",
    "    df[var]=skewd[var]\n",
    "    print(var+' transformed')        \n",
    "log_skewness=skewd.skew(axis=0).sort_values(ascending=False)"
   ]
  },
  {
   "cell_type": "code",
   "execution_count": 34,
   "metadata": {},
   "outputs": [],
   "source": [
    "#creating dummies\n",
    "categories1=df.select_dtypes(exclude=np.number)\n",
    "nums1=df.select_dtypes(np.number)\n",
    "for var in list(categories1.columns):\n",
    "    df[var]=df[var].astype('category',copy=False)\n",
    "df[categories1.columns].dtypes\n",
    "df1=pd.get_dummies(df)\n",
    "\n",
    "train=df1.loc[:len(target),:]\n",
    "test=df1.loc[len(target)+1:,:]"
   ]
  },
  {
   "cell_type": "code",
   "execution_count": 35,
   "metadata": {},
   "outputs": [],
   "source": [
    "# =============================================================================\n",
    "# #create regression models\n",
    "# =============================================================================\n",
    "X=train.drop('SalePrice',axis=1)\n",
    "y=train.SalePrice\n",
    "\n",
    "X_train, X_test, y_train,y_test=train_test_split(X,y,test_size=0.3, random_state=42)\n",
    "\n",
    "\n",
    "kfolds = KFold(n_splits=10, shuffle=True, random_state=23)\n",
    "lm=linear_model.LinearRegression()\n",
    "scaler=preprocessing.RobustScaler()\n",
    "ridge=linear_model.Ridge(alpha=6.099999999999998)\n",
    "lasso=linear_model.Lasso(alpha=0.00032, max_iter=10e5)\n",
    "net=linear_model.ElasticNetCV()\n"
   ]
  },
  {
   "cell_type": "code",
   "execution_count": 36,
   "metadata": {},
   "outputs": [
    {
     "name": "stdout",
     "output_type": "stream",
     "text": [
      "best params: {'alpha': 15}\n",
      "Ridge Regression score: 0.9134725749163451\n",
      "RIdge Regression root mean square error: 0.11658929087112559\n"
     ]
    }
   ],
   "source": [
    "r_alphas ={'alpha': [.0001, .0003, .0005, .0007, .0009, \n",
    "          .01, 0.05, 0.1, 0.3, 1, 3, 5, 6, 10, 15, 20, 30, 50, 60, 70, 80]}\n",
    "ridge_CV=GridSearchCV(ridge,r_alphas ,cv=10)\n",
    "ridge_CV.fit(X_train,y_train)\n",
    "ridge_pred=ridge_CV.predict(X_test)\n",
    "\n",
    "print('best params: '+str(ridge_CV.best_params_))\n",
    "print('Ridge Regression score: '+str(ridge_CV.score(X_test,y_test)))\n",
    "print('RIdge Regression root mean square error: '+str(rmsle(y_test,ridge_pred)))"
   ]
  },
  {
   "cell_type": "code",
   "execution_count": 37,
   "metadata": {},
   "outputs": [
    {
     "name": "stdout",
     "output_type": "stream",
     "text": [
      "best params: {'alpha': 13.0}\n",
      "Ridge Regression score: 0.9140908336538651\n",
      "RIgge Regression root mean square error: 0.11658929087112559\n"
     ]
    }
   ],
   "source": [
    "r_alphas2={'alpha': np.arange(10, 20, 0.5)}\n",
    "ridge_CV=GridSearchCV(ridge,r_alphas2 ,cv=10)\n",
    "ridge_CV.fit(X_train,y_train)\n",
    "print('best params: '+str(ridge_CV.best_params_))\n",
    "print('Ridge Regression score: '+str(ridge_CV.score(X_test,y_test)))\n",
    "print('RIgge Regression root mean square error: '+str(rmsle(y_test,ridge_pred)))"
   ]
  },
  {
   "cell_type": "code",
   "execution_count": 39,
   "metadata": {},
   "outputs": [
    {
     "name": "stdout",
     "output_type": "stream",
     "text": [
      "best params: {'alpha': 12.799999999999999}\n",
      "Ridge Regression score: 0.9141552994076468\n",
      "RIdge Regression root mean square error: 0.11612841965127131\n"
     ]
    }
   ],
   "source": [
    "r_alphas3={'alpha': np.arange(12.5, 13.5, 0.1)}\n",
    "ridge_CV=GridSearchCV(ridge,r_alphas3 ,cv=10)\n",
    "ridge_CV=ridge_CV.fit(X_train,y_train)\n",
    "ridge_pred=ridge_CV.predict(X_test)\n",
    "print('best params: '+str(ridge_CV.best_params_))\n",
    "print('Ridge Regression score: '+str(ridge_CV.score(X_test,y_test)))\n",
    "print('RIdge Regression root mean square error: '+str(rmsle(y_test,ridge_pred)))"
   ]
  },
  {
   "cell_type": "code",
   "execution_count": 40,
   "metadata": {},
   "outputs": [
    {
     "name": "stdout",
     "output_type": "stream",
     "text": [
      "best params: {'alpha': 0.00040000000000000024}\n",
      "Lasso Regression score: 0.9223176786285383\n",
      "Lasso Regression root mean square error: 0.1104696220953752\n"
     ]
    }
   ],
   "source": [
    "l_alphas={'alpha':[0.000001,0.000001,0.00001,0.0001,0.001,0.01,0.1,1]}\n",
    "l_alphas1={'alpha':np.arange(0.0003,0.0004,0.00001)}\n",
    "lasso_CV=GridSearchCV(lasso,l_alphas1 ,cv=10)\n",
    "lasso_CV=lasso_CV.fit(X_train,y_train)\n",
    "lasso_pred=lasso_CV.predict(X_test)\n",
    "print('best params: '+str(lasso_CV.best_params_))\n",
    "print('Lasso Regression score: '+str(lasso_CV.score(X_test,y_test)))\n",
    "print('Lasso Regression root mean square error: '+str(rmsle(y_test,lasso_pred)))"
   ]
  },
  {
   "cell_type": "code",
   "execution_count": 45,
   "metadata": {},
   "outputs": [
    {
     "name": "stdout",
     "output_type": "stream",
     "text": [
      "Elastic net score: 0.9208864015076729\n",
      "Elastic net root mean square error: 0.11148266455198344\n"
     ]
    }
   ],
   "source": [
    "net_ratio=[0.8, 0.85, 0.9, 0.95, 0.99, 1]\n",
    "net_alphas=[0.0001, 0.0002, 0.0003, 0.0004, 0.0005, 0.0006, 0.0007]\n",
    "net=linear_model.ElasticNetCV(l1_ratio=net_ratio,alphas=net_alphas ,cv=10)\n",
    "net=net.fit(X_train,y_train)\n",
    "net_pred=net.predict(X_test)\n",
    "print('Elastic net score: '+str(net.score(X_test,y_test)))\n",
    "print('Elastic net root mean square error: '+str(rmsle(y_test,net_pred)))"
   ]
  },
  {
   "cell_type": "code",
   "execution_count": 41,
   "metadata": {},
   "outputs": [],
   "source": [
    "\n",
    "test=test.drop('SalePrice',axis=1)\n",
    "SalePrice=ridge_CV.predict(test)\n",
    "SalePrice=np.expm1(SalePrice)\n",
    "ID=pd.Series(test.index)\n",
    "ID\n",
    "# =============================================================================\n",
    "# \n",
    "# sumitting File to competition\n",
    "# selected model - Ridge regressor alpha=6.1\n",
    "# =============================================================================\n",
    "Submission=pd.DataFrame({'Id': test.index, 'SalePrice': SalePrice})\n",
    "Submission.to_csv('submission.csv',index=False)\n"
   ]
  },
  {
   "cell_type": "code",
   "execution_count": 42,
   "metadata": {},
   "outputs": [
    {
     "name": "stdout",
     "output_type": "stream",
     "text": [
      "[89, 463, 589, 633, 969, 1325]\n"
     ]
    }
   ],
   "source": [
    "# =============================================================================\n",
    "# 10.04 - best score so far (for submission file) - .11896 (846/4461)\n",
    "# Outliers detection\n",
    "# =============================================================================\n",
    "import statsmodels.api as sm\n",
    "\n",
    "#OLS stands for ordinary least squares. it analyzez the array and returns an outliers detection\n",
    "ols = sm.OLS(endog = y, exog = X)\n",
    "fit=ols.fit()\n",
    "\n",
    "#There are several outlier test that are part o statmodels.OLS.outlier_test(), bonf(p) is the default.\n",
    "#it anyalizes the probability of each indice in the array to not be an outlier, and returns the p-values\n",
    "#we gonna stamp out each data point that it's probability of NOT being an outlier is smaller than alpha (0.01)\n",
    "OE= fit.outlier_test()['bonf(p)']\n",
    "liers_alpha=0.001\n",
    "liers=OE[OE<liers_alpha]\n",
    "drop_them=list(liers.index)\n",
    "print(drop_them)\n",
    "train=train.drop(drop_them,axis=0)\n",
    "y=y.drop(drop_them,axis=0)"
   ]
  },
  {
   "cell_type": "code",
   "execution_count": 46,
   "metadata": {},
   "outputs": [
    {
     "name": "stdout",
     "output_type": "stream",
     "text": [
      "Ridge Regression score: 0.9141552994076468\n",
      "RIdge Regression root mean square error: 0.11612841965127131\n",
      "Lasso Regression score: 0.9223176786285383\n",
      "Lasso Regression root mean square error: 0.1104696220953752\n",
      "Elastic net score: 0.9208864015076729\n",
      "Elastic net root mean square error: 0.11148266455198344\n"
     ]
    }
   ],
   "source": [
    "ridge_CV=ridge_CV.fit(X_train,y_train)\n",
    "ridge_pred=ridge_CV.predict(X_test)\n",
    "print('Ridge Regression score: '+str(ridge_CV.score(X_test,y_test)))\n",
    "print('RIdge Regression root mean square error: '+str(rmsle(y_test,ridge_pred)))\n",
    "lasso_CV=lasso_CV.fit(X_train,y_train)\n",
    "lasso_pred=lasso_CV.predict(X_test)\n",
    "print('Lasso Regression score: '+str(lasso_CV.score(X_test,y_test)))\n",
    "print('Lasso Regression root mean square error: '+str(rmsle(y_test,lasso_pred)))\n",
    "net=net.fit(X_train,y_train)\n",
    "net_pred=net.predict(X_test)\n",
    "print('Elastic net score: '+str(net.score(X_test,y_test)))\n",
    "print('Elastic net root mean square error: '+str(rmsle(y_test,net_pred)))\n"
   ]
  },
  {
   "cell_type": "markdown",
   "metadata": {},
   "source": [
    "expirementing in enssamble methods"
   ]
  },
  {
   "cell_type": "code",
   "execution_count": 48,
   "metadata": {},
   "outputs": [
    {
     "name": "stdout",
     "output_type": "stream",
     "text": [
      "KRR score: 0.6130921176528155\n",
      "KRR root mean square error: 0.24653895997640407\n",
      "GBoost score: 0.9092120154439955\n",
      "GBoost root mean square error: 0.11942519480071602\n"
     ]
    }
   ],
   "source": [
    "KRR = KernelRidge(alpha=0.6, kernel='polynomial', degree=2, coef0=2.5)\n",
    "\n",
    "\n",
    "GBoost = GradientBoostingRegressor(n_estimators=3000, learning_rate=0.05,\n",
    "                                   max_depth=4, max_features='sqrt',\n",
    "                                   min_samples_leaf=15, min_samples_split=10, \n",
    "                                   loss='huber', random_state =5)\n",
    "\n",
    "\n",
    "KRR.fit(X_train,y_train)\n",
    "krr_pred=KRR.predict(X_test)\n",
    "print('KRR score: '+str(KRR.score(X_test,y_test)))\n",
    "print('KRR root mean square error: '+str(rmsle(y_test,krr_pred)))\n",
    "\n",
    "GBoost.fit(X_train,y_train)\n",
    "gboost_pred=GBoost.predict(X_test)\n",
    "print('GBoost score: '+str(GBoost.score(X_test,y_test)))\n",
    "print('GBoost root mean square error: '+str(rmsle(y_test,gboost_pred)))\n",
    "      \n",
    "\n"
   ]
  },
  {
   "cell_type": "markdown",
   "metadata": {},
   "source": [
    "i borrowed this class code from a kernel where i saw it was used for avereging different models together. at the end t's not nessecery sience a simple mean function does the same thing."
   ]
  },
  {
   "cell_type": "code",
   "execution_count": 56,
   "metadata": {},
   "outputs": [],
   "source": [
    "from sklearn.base import BaseEstimator, TransformerMixin, RegressorMixin,clone\n",
    "\n",
    "class AveragingModels(BaseEstimator, RegressorMixin, TransformerMixin):\n",
    "    def __init__(self, models):\n",
    "        self.models = models\n",
    "        \n",
    "    # we define clones of the original models to fit the data in\n",
    "    def fit(self, X, y):\n",
    "        self.models_ = [clone(x) for x in self.models]\n",
    "        \n",
    "        # Train cloned base models\n",
    "        for model in self.models_:\n",
    "            model.fit(X, y)\n",
    "\n",
    "        return self\n",
    "    \n",
    "    #Now we do the predictions for cloned models and average them\n",
    "    def predict(self, X):\n",
    "        predictions = np.column_stack([\n",
    "            model.predict(X) for model in self.models_\n",
    "        ])\n",
    "        return np.mean(predictions, axis=1) "
   ]
  },
  {
   "cell_type": "code",
   "execution_count": 57,
   "metadata": {},
   "outputs": [
    {
     "name": "stdout",
     "output_type": "stream",
     "text": [
      "Model averages score: 0.921778292493561\n",
      "Model averages error: 0.11085248080583165\n",
      "Model averages error: 0.1108524808058317\n"
     ]
    }
   ],
   "source": [
    "averaged_models = AveragingModels(models = (net, ridge_CV, lasso_CV,GBoost))\n",
    "averaged_models.fit(X_train,y_train)\n",
    "ave_pred=averaged_models.predict(X_test)\n",
    "print('Model averages score: '+str(averaged_models.score(X_test,y_test)))\n",
    "print('Model averages error: '+str(rmsle(y_test,ave_pred)))\n",
    "average_pred=ridge_pred*0.25+lasso_pred*.25+net_pred*.25+gboost_pred*.25\n",
    "print('Model averages error: '+str(rmsle(y_test,average_pred)))\n"
   ]
  },
  {
   "cell_type": "code",
   "execution_count": 58,
   "metadata": {},
   "outputs": [
    {
     "name": "stdout",
     "output_type": "stream",
     "text": [
      "Model averages error: 0.1108524808058317\n"
     ]
    }
   ],
   "source": [
    "average_pred=ridge_pred*0.25+lasso_pred*.25+net_pred*.25+gboost_pred*.25\n",
    "print('Model averages error: '+str(rmsle(y_test,average_pred)))"
   ]
  },
  {
   "cell_type": "code",
   "execution_count": 59,
   "metadata": {},
   "outputs": [],
   "source": [
    "#Submission 2 - score - 0.11577 (571/4461)\n",
    "\n",
    "SalePrice=ridge_CV.predict(test)*.25+lasso_CV.predict(test)*.25+net.predict(test)*.25+GBoost.predict(test)*.25\n",
    "SalePrice=np.expm1(SalePrice)\n",
    "ID=pd.Series(test.index)\n",
    "ID\n",
    "Submission=pd.DataFrame({'Id': test.index, 'SalePrice': SalePrice})\n",
    "Submission.to_csv('submission_no_outliers.csv',index=False)"
   ]
  },
  {
   "cell_type": "markdown",
   "metadata": {},
   "source": [
    "11.04 - today i expiramented with XGBoost.\n",
    "i did the mistake of running a SearchGrird with 8 variables!!!! Never do it! it took more than 6 hours to compile!\n",
    "at the end i found a set of hyper parameters that i put into the code\n",
    "\n",
    "i put the code here so ill never accidentelyrun it again:\n",
    "\n",
    "xgbreg=xgb.XGBRegressor(objective= 'reg:linear',seed=42)\n",
    "grid_params={\n",
    "        'learning_rate':[0.01,0.05,0.1,0.3],\n",
    "        'n_estimators':np.arange(1000,6000,1000),\n",
    "        'max_depth':[2,3,4,5,6],\n",
    "        'colsample_bytree':np.arange(0.5,1,0.1),\n",
    "        'min_child_weight':[0,0.1,0.2,0.6],\n",
    "        'gamma':[0,0.000001,0.00001,0.0001,.001,.01],\n",
    "        'subsample':np.arange(0.5,1,.1),\n",
    "        'reg_alpha':[0,0.000001,0.00001,0.0001,.001,.01]}\n",
    "grid_search=GridSearchCV(cv=4,estimator=xgbreg,param_grid=grid_params,scoring='neg_mean_squared_error')\n",
    "grid_search.fit(X_train,y_train)"
   ]
  },
  {
   "cell_type": "code",
   "execution_count": 62,
   "metadata": {},
   "outputs": [
    {
     "name": "stdout",
     "output_type": "stream",
     "text": [
      "xgbreg score: 0.9157134250923353\n",
      "xbgreg root mean square error 0.1150696981474898\n"
     ]
    }
   ],
   "source": [
    "import xgboost as xgb\n",
    "xgbreg=xgb.XGBRegressor(learning_rate =0.01, n_estimators=3460, max_depth=3,\n",
    "                     min_child_weight=0 ,gamma=0, subsample=0.7,\n",
    "                     colsample_bytree=0.7,objective= 'reg:linear',seed=42, reg_alpha=0.00006)\n",
    "xgbreg=xgbreg.fit(X_train,y_train)\n",
    "xgbreg_pred=xgbreg.predict(X_test)\n",
    "print('xgbreg score: '+str(xgbreg.score(X_test,y_test)))\n",
    "print('xbgreg root mean square error ' +str(rmsle(y_test,xgbreg_pred)))"
   ]
  },
  {
   "cell_type": "code",
   "execution_count": 69,
   "metadata": {},
   "outputs": [
    {
     "name": "stdout",
     "output_type": "stream",
     "text": [
      "{'Ridge Regression': {'Score': 0.9141552994076468, 'Root mean square error': 0.11612841965127131}, 'Lasso Regression': {'Score': 0.9223176786285383, 'Root mean square error': 0.1104696220953752}, 'Elastic net': {'Score': 0.9208864015076729, 'Root mean square error': 0.11148266455198344}, 'Gradient boosting': {'Score': 0.9092120154439955, 'Root mean square error': 0.11942519480071602}, 'Extreme gradient boosting': {'Score': 0.9157134250923353, 'Root mean square error': 0.1150696981474898}, 'All models average': {'Score': 0.921778292493561, 'Root mean square error': 0.11085248080583165}}\n"
     ]
    }
   ],
   "source": [
    "methods={'Ridge Regression':ridge_CV, 'Lasso Regression':lasso_CV,\n",
    "         'Elastic net':net,'Gradient boosting':GBoost, 'Extreme gradient boosting':xgbreg,\n",
    "         'All models average':averaged_models}\n",
    "scoring={}\n",
    "for name,model in methods.items():\n",
    "        scoring[name]={'Score':model.score(X_test,y_test),\n",
    "                       'Root mean square error':rmsle(y_test,model.predict(X_test))}\n",
    "\n",
    "print (scoring)"
   ]
  },
  {
   "cell_type": "code",
   "execution_count": 70,
   "metadata": {},
   "outputs": [
    {
     "data": {
      "text/plain": [
       "0.11027315735897908"
      ]
     },
     "execution_count": 70,
     "metadata": {},
     "output_type": "execute_result"
    }
   ],
   "source": [
    "rmsle(ridge_CV.predict(X_test)*.2+lasso_CV.predict(X_test)*.2+net.predict(X_test)*.2+GBoost.predict(X_test)*.2+xgbreg.predict(X_test)*.2,y_test)"
   ]
  },
  {
   "cell_type": "code",
   "execution_count": 71,
   "metadata": {},
   "outputs": [],
   "source": [
    "SalePrice=ridge_CV.predict(test)*.2+lasso_CV.predict(test)*.2+net.predict(test)*.2+GBoost.predict(test)*.2+xgbreg.predict(test)*.2\n",
    "SalePrice=np.expm1(SalePrice)\n",
    "ID=pd.Series(test.index)\n",
    "ID\n",
    "Submission=pd.DataFrame({'Id': test.index, 'SalePrice': SalePrice})\n",
    "Submission.to_csv('submission_no_outliers.csv',index=False)"
   ]
  },
  {
   "cell_type": "markdown",
   "metadata": {},
   "source": [
    "14.04\n",
    "so far i got best score at 0.11577 (581/4461)\n",
    "next up i'm going to try stacking models with stack regression and averaging all together with a simple mean and with a siple weighted mean(where the best method get's about double the weight)  "
   ]
  },
  {
   "cell_type": "code",
   "execution_count": 73,
   "metadata": {},
   "outputs": [
    {
     "name": "stdout",
     "output_type": "stream",
     "text": [
      "Stacked Model averages score: 0.9181671643163147\n",
      "Stacked Model averages error: 0.113382380561928\n"
     ]
    }
   ],
   "source": [
    "from mlxtend.regressor import StackingCVRegressor\n",
    "\n",
    "stack = StackingCVRegressor(regressors=(ridge_CV,lasso_CV,net,GBoost,averaged_models,xgbreg),meta_regressor=xgbreg,\n",
    "                               use_features_in_secondary=True)\n",
    "stackX = np.array(X_train)\n",
    "stacky = np.array(y_train)\n",
    "stack = stack.fit(stackX, stacky)\n",
    "stack_pred=stack.predict(np.array(X_test))\n",
    "print('Stacked Model averages score: '+str(stack.score(np.array(X_test),np.array(y_test))))\n",
    "print('Stacked Model averages error: '+str(rmsle(y_test,stack_pred)))"
   ]
  },
  {
   "cell_type": "code",
   "execution_count": 74,
   "metadata": {},
   "outputs": [
    {
     "data": {
      "text/plain": [
       "{'Ridge Regression': {'Score': 0.9141552994076468,\n",
       "  'Root mean square error': 0.11612841965127131},\n",
       " 'Lasso Regression': {'Score': 0.9223176786285383,\n",
       "  'Root mean square error': 0.1104696220953752},\n",
       " 'Elastic net': {'Score': 0.9208864015076729,\n",
       "  'Root mean square error': 0.11148266455198344},\n",
       " 'Gradient boosting': {'Score': 0.9092120154439955,\n",
       "  'Root mean square error': 0.11942519480071602},\n",
       " 'Extreme gradient boosting': {'Score': 0.9157134250923353,\n",
       "  'Root mean square error': 0.1150696981474898},\n",
       " 'All models average': {'Stacked Regressor': 0.921778292493561,\n",
       "  'Root mean square error': 0.11085248080583165}}"
      ]
     },
     "execution_count": 74,
     "metadata": {},
     "output_type": "execute_result"
    }
   ],
   "source": [
    "scoring[name]={'Stacked Regressor':model.score(np.array(X_test),np.array(y_test)),\n",
    "                       'Root mean square error':rmsle(y_test,model.predict(np.array(X_test)))}\n",
    "scoring"
   ]
  },
  {
   "cell_type": "code",
   "execution_count": 75,
   "metadata": {},
   "outputs": [],
   "source": [
    "SalePrice=stack.predict(np.array(test))\n",
    "SalePrice=np.expm1(SalePrice)\n",
    "ID=pd.Series(test.index)\n",
    "Submission=pd.DataFrame({'Id': test.index, 'SalePrice': SalePrice})\n",
    "Submission.to_csv('submission_stack_only.csv',index=False)\n",
    "#sub score: .12062, that's not very good"
   ]
  },
  {
   "cell_type": "code",
   "execution_count": 76,
   "metadata": {},
   "outputs": [],
   "source": [
    "#simple average:\n",
    "final_pred=(ridge_CV.predict(test)\n",
    "            +lasso_CV.predict(test)\n",
    "            +net.predict(test)\n",
    "            +GBoost.predict(test)\n",
    "            +xgbreg.predict(test)\n",
    "            +stack.predict(np.array(test)))/6\n",
    "\n",
    "SalePrice=final_pred\n",
    "SalePrice=np.expm1(SalePrice)\n",
    "ID=pd.Series(test.index)\n",
    "Submission=pd.DataFrame({'Id': test.index, 'SalePrice': SalePrice})\n",
    "Submission.to_csv('submission_stack_all_simple.csv',index=False)\n",
    "#sub score: .11497, 359/4465. yeyyyyy made it into the top 10%!"
   ]
  },
  {
   "cell_type": "code",
   "execution_count": null,
   "metadata": {},
   "outputs": [],
   "source": [
    "#weighted average\n",
    "final_pred=(ridge_CV.predict(test)*.13\n",
    "            +lasso_CV.predict(test)*.13\n",
    "            +net.predict(test)*.13\n",
    "            +GBoost.predict(test)*.13\n",
    "            +xgbreg.predict(test)*.13\n",
    "            +stack.predict(np.array(test))*.35)\n",
    "\n",
    "SalePrice=final_pred\n",
    "SalePrice=np.expm1(SalePrice)\n",
    "ID=pd.Series(test.index)\n",
    "Submission=pd.DataFrame({'Id': test.index, 'SalePrice': SalePrice})\n",
    "Submission.to_csv('submission_stack_all_weighted.csv',index=False)\n",
    "#sub score: 0.11524, not as good, but still great!"
   ]
  },
  {
   "cell_type": "markdown",
   "metadata": {},
   "source": [
    "last thing i wanted to try was to fit my models on the entire set because i think that the model does it's own cross validation, than a lot of the data get's lost, and we are talking about a data set with 1500 data entries to begin with.\n",
    "so i think the models should do better when trained on the entire data. not so worried about over fitting because the training already does cross-val"
   ]
  },
  {
   "cell_type": "code",
   "execution_count": null,
   "metadata": {},
   "outputs": [],
   "source": [
    "ridge_CV=ridge_CV.fit(X,y)\n",
    "lasso_CV=lasso_CV.fit(X,y)\n",
    "net=net.fit(X,y)\n",
    "GBoost=GBoost.fit(X,y)\n",
    "xgbreg=xgbreg.fit(X,y)\n",
    "stack=stack.fit(np.array(X),np.array(y))\n",
    "\n",
    "scoring2={}\n",
    "for name,model in methods.items():\n",
    "    if name=='stacking regressor':\n",
    "        scoring2[name]={'Score':model.score(np.array(X_test),np.array(y_test)),\n",
    "                       'Root mean square error':rmsle(np.array(y_test),model.predict(np.array(X_test)))}\n",
    "    else:\n",
    "        scoring2[name]={'Score':model.score(X_test,y_test),\n",
    "                       'Root mean square error':rmsle(y_test,model.predict(X_test))}"
   ]
  },
  {
   "cell_type": "code",
   "execution_count": null,
   "metadata": {},
   "outputs": [],
   "source": [
    "#simple mean\n",
    "final_pred=(ridge_CV.predict(test)\n",
    "            +lasso_CV.predict(test)\n",
    "            +net.predict(test)\n",
    "            +GBoost.predict(test)\n",
    "            +xgbreg.predict(test)\n",
    "            +stack.predict(np.array(test)))/6\n",
    "\n",
    "SalePrice=final_pred\n",
    "SalePrice=np.expm1(SalePrice)\n",
    "ID=pd.Series(test.index)\n",
    "Submission=pd.DataFrame({'Id': test.index, 'SalePrice': SalePrice})\n",
    "Submission.to_csv('submission_stack_all_simple1.csv',index=False)\n",
    "#sub score=.11606\n"
   ]
  },
  {
   "cell_type": "code",
   "execution_count": null,
   "metadata": {},
   "outputs": [],
   "source": [
    "final_pred=(ridge_CV.predict(test)*.13\n",
    "            +lasso_CV.predict(test)*.13\n",
    "            +net.predict(test)*.13\n",
    "            +GBoost.predict(test)*.13\n",
    "            +xgbreg.predict(test)*.13\n",
    "            +stack.predict(np.array(test))*.35)\n",
    "\n",
    "SalePrice=final_pred\n",
    "SalePrice=np.expm1(SalePrice)\n",
    "ID=pd.Series(test.index)\n",
    "Submission=pd.DataFrame({'Id': test.index, 'SalePrice': SalePrice})\n",
    "Submission.to_csv('submission_stack_all_eighted1.csv',index=False)\n",
    "#sub score=.11606\n"
   ]
  },
  {
   "cell_type": "markdown",
   "metadata": {},
   "source": [
    "after expirimenting a bit i found that i get the best score by fitting all the models on the train data and the stack model on the enire data\n",
    "my best result so far is .11438 (303/4461) 94th percentile in the leaderboard"
   ]
  }
 ],
 "metadata": {
  "kernelspec": {
   "display_name": "Python 3",
   "language": "python",
   "name": "python3"
  },
  "language_info": {
   "codemirror_mode": {
    "name": "ipython",
    "version": 3
   },
   "file_extension": ".py",
   "mimetype": "text/x-python",
   "name": "python",
   "nbconvert_exporter": "python",
   "pygments_lexer": "ipython3",
   "version": "3.7.1"
  }
 },
 "nbformat": 4,
 "nbformat_minor": 2
}
